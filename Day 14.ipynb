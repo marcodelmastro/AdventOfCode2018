{
 "cells": [
  {
   "cell_type": "markdown",
   "metadata": {},
   "source": [
    "# Day 14: Chocolate Charts\n",
    "\n",
    "## Part 1"
   ]
  },
  {
   "cell_type": "code",
   "execution_count": 1,
   "metadata": {},
   "outputs": [],
   "source": [
    "def recipeScore(nrecipes=9,verbose=False):\n",
    "    recipes = [3,7]\n",
    "    e1 = 0\n",
    "    e2 = 1\n",
    "    if verbose:\n",
    "        print(recipes,\"|\",e1,e2)\n",
    "    itmax = nrecipes+10\n",
    "    it = 0\n",
    "    while it<itmax:\n",
    "        rec = [ int(d) for d in list(str(recipes[e1]+recipes[e2])) ]\n",
    "        e1 += 1+recipes[e1]\n",
    "        e2 += 1+recipes[e2]\n",
    "        recipes += rec\n",
    "        e1 = e1%len(recipes)\n",
    "        e2 = e2%len(recipes)\n",
    "        if verbose:\n",
    "            print(recipes,\"|\",e1,e2)\n",
    "        it+=1\n",
    "    return \"\".join([str(d) for d in recipes[nrecipes:nrecipes+10]])"
   ]
  },
  {
   "cell_type": "code",
   "execution_count": 2,
   "metadata": {},
   "outputs": [
    {
     "name": "stdout",
     "output_type": "stream",
     "text": [
      "5941429882\n"
     ]
    }
   ],
   "source": [
    "print(recipeScore(2018))"
   ]
  },
  {
   "cell_type": "code",
   "execution_count": 3,
   "metadata": {},
   "outputs": [
    {
     "name": "stdout",
     "output_type": "stream",
     "text": [
      "2688510125\n"
     ]
    }
   ],
   "source": [
    "print(recipeScore(84601))"
   ]
  },
  {
   "cell_type": "markdown",
   "metadata": {},
   "source": [
    "## Part 2\n",
    "\n",
    "My score is 084601 so it finished with 1. \n",
    "\n",
    "The sequence get incremented by 1 or 2 digits at the time depending on the result of the sum of single-digit numbers ranging from 0 to 9. The only way I can get a score ending in 01 is to add 0=0+0 and the add a number >10 from the sum of two integers.\n",
    "\n",
    "For this reason, the tail of the recipe sequence will need to be 1 digit longer then my score: simply checking for the tail to be _equal_ to the score would work with the examples but fail with the input score!"
   ]
  },
  {
   "cell_type": "code",
   "execution_count": 90,
   "metadata": {},
   "outputs": [],
   "source": [
    "def recipeNumberString(score=\"51589\",verbose=False,progress=False):\n",
    "    '''Using strings to record sequence to allow for tail testing'''\n",
    "    recipes = \"37\"\n",
    "    e1 = 0\n",
    "    e2 = 1\n",
    "    it=0\n",
    "    while True:\n",
    "        recipes += str(int(recipes[e1])+int(recipes[e2]))\n",
    "        e1 = ( e1+1+int(recipes[e1]) )%len(recipes)\n",
    "        e2 = ( e2+1+int(recipes[e2]) )%len(recipes)\n",
    "        \n",
    "        if score in recipes[-(len(score)+1):]: # consider the tail to be 1 digit longer!\n",
    "            if progress:\n",
    "                print(\"\")\n",
    "            #s = len(recipes)-len(score) # this would work for the cases where score correpond to tail, but not for input\n",
    "            s = recipes.index(score) # this would work in all cases!\n",
    "            print(score,\"->\",s)\n",
    "            return s\n",
    "        if progress:\n",
    "            if len(recipes)%1_000_000==0:\n",
    "                print(\"*\",end=\"\")\n",
    "        it+=1"
   ]
  },
  {
   "cell_type": "code",
   "execution_count": 91,
   "metadata": {},
   "outputs": [
    {
     "name": "stdout",
     "output_type": "stream",
     "text": [
      "51589 -> 9\n",
      "01245 -> 5\n",
      "92510 -> 18\n",
      "59414 -> 2018\n"
     ]
    },
    {
     "data": {
      "text/plain": [
       "2018"
      ]
     },
     "execution_count": 91,
     "metadata": {},
     "output_type": "execute_result"
    }
   ],
   "source": [
    "recipeNumberString(\"51589\")\n",
    "recipeNumberString(\"01245\")\n",
    "recipeNumberString(\"92510\")\n",
    "recipeNumberString(\"59414\")"
   ]
  },
  {
   "cell_type": "code",
   "execution_count": 92,
   "metadata": {},
   "outputs": [
    {
     "name": "stdout",
     "output_type": "stream",
     "text": [
      "***************\n",
      "084601 -> 20188250\n"
     ]
    },
    {
     "data": {
      "text/plain": [
       "20188250"
      ]
     },
     "execution_count": 92,
     "metadata": {},
     "output_type": "execute_result"
    }
   ],
   "source": [
    "recipeNumberString(\"084601\",progress=True)"
   ]
  },
  {
   "cell_type": "code",
   "execution_count": null,
   "metadata": {},
   "outputs": [],
   "source": []
  }
 ],
 "metadata": {
  "kernelspec": {
   "display_name": "Python 3",
   "language": "python",
   "name": "python3"
  },
  "language_info": {
   "codemirror_mode": {
    "name": "ipython",
    "version": 3
   },
   "file_extension": ".py",
   "mimetype": "text/x-python",
   "name": "python",
   "nbconvert_exporter": "python",
   "pygments_lexer": "ipython3",
   "version": "3.9.2"
  }
 },
 "nbformat": 4,
 "nbformat_minor": 4
}
