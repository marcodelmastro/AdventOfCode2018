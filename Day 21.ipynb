{
 "cells": [
  {
   "cell_type": "markdown",
   "metadata": {},
   "source": [
    "# Day 21"
   ]
  },
  {
   "cell_type": "code",
   "execution_count": 4,
   "metadata": {},
   "outputs": [],
   "source": [
    "from AOC2018 import getProg, executeProg"
   ]
  },
  {
   "cell_type": "code",
   "execution_count": 5,
   "metadata": {},
   "outputs": [
    {
     "name": "stdout",
     "output_type": "stream",
     "text": [
      "ipr = 1\n",
      " 0 ['seti', 123, 0, 3]\n",
      " 1 ['bani', 3, 456, 3]\n",
      " 2 ['eqri', 3, 72, 3]\n",
      " 3 ['addr', 3, 1, 1]\n",
      " 4 ['seti', 0, 0, 1]\n",
      " 5 ['seti', 0, 1, 3]\n",
      " 6 ['bori', 3, 65536, 2]\n",
      " 7 ['seti', 1505483, 6, 3]\n",
      " 8 ['bani', 2, 255, 4]\n",
      " 9 ['addr', 3, 4, 3]\n",
      "10 ['bani', 3, 16777215, 3]\n",
      "11 ['muli', 3, 65899, 3]\n",
      "12 ['bani', 3, 16777215, 3]\n",
      "13 ['gtir', 256, 2, 4]\n",
      "14 ['addr', 4, 1, 1]\n",
      "15 ['addi', 1, 1, 1]\n",
      "16 ['seti', 27, 6, 1]\n",
      "17 ['seti', 0, 3, 4]\n",
      "18 ['addi', 4, 1, 5]\n",
      "19 ['muli', 5, 256, 5]\n",
      "20 ['gtrr', 5, 2, 5]\n",
      "21 ['addr', 5, 1, 1]\n",
      "22 ['addi', 1, 1, 1]\n",
      "23 ['seti', 25, 4, 1]\n",
      "24 ['addi', 4, 1, 4]\n",
      "25 ['seti', 17, 3, 1]\n",
      "26 ['setr', 4, 1, 2]\n",
      "27 ['seti', 7, 4, 1]\n",
      "28 ['eqrr', 3, 0, 4]\n",
      "29 ['addr', 4, 1, 1]\n",
      "30 ['seti', 5, 9, 1]\n"
     ]
    }
   ],
   "source": [
    "ipr, prog = getProg(\"data/input21.txt\")\n",
    "\n",
    "print(\"ipr = {}\".format(ipr))\n",
    "for i in range(len(prog)):\n",
    "    print(\"{:2d} {}\".format(i,prog[i]))"
   ]
  },
  {
   "cell_type": "code",
   "execution_count": 6,
   "metadata": {},
   "outputs": [
    {
     "name": "stdout",
     "output_type": "stream",
     "text": [
      "0 [0, 0, 0, 0, 0, 0] ['seti', 123, 0, 3] [0, 0, 0, 123, 0, 0]\n",
      "1 [0, 1, 0, 123, 0, 0] ['bani', 3, 456, 3] [0, 1, 0, 72, 0, 0]\n",
      "2 [0, 2, 0, 72, 0, 0] ['eqri', 3, 72, 3] [0, 2, 0, 1, 0, 0]\n",
      "3 [0, 3, 0, 1, 0, 0] ['addr', 3, 1, 1] [0, 4, 0, 1, 0, 0]\n",
      "5 [0, 5, 0, 1, 0, 0] ['seti', 0, 1, 3] [0, 5, 0, 0, 0, 0]\n",
      "6 [0, 6, 0, 0, 0, 0] ['bori', 3, 65536, 2] [0, 6, 65536, 0, 0, 0]\n",
      "7 [0, 7, 65536, 0, 0, 0] ['seti', 1505483, 6, 3] [0, 7, 65536, 1505483, 0, 0]\n",
      "8 [0, 8, 65536, 1505483, 0, 0] ['bani', 2, 255, 4] [0, 8, 65536, 1505483, 0, 0]\n",
      "9 [0, 9, 65536, 1505483, 0, 0] ['addr', 3, 4, 3] [0, 9, 65536, 1505483, 0, 0]\n",
      "10 [0, 10, 65536, 1505483, 0, 0] ['bani', 3, 16777215, 3] [0, 10, 65536, 1505483, 0, 0]\n",
      "11 [0, 11, 65536, 1505483, 0, 0] ['muli', 3, 65899, 3] [0, 11, 65536, 99209824217, 0, 0]\n",
      "12 [0, 12, 65536, 99209824217, 0, 0] ['bani', 3, 16777215, 3] [0, 12, 65536, 6146009, 0, 0]\n",
      "13 [0, 13, 65536, 6146009, 0, 0] ['gtir', 256, 2, 4] [0, 13, 65536, 6146009, 0, 0]\n",
      "14 [0, 14, 65536, 6146009, 0, 0] ['addr', 4, 1, 1] [0, 14, 65536, 6146009, 0, 0]\n",
      "15 [0, 15, 65536, 6146009, 0, 0] ['addi', 1, 1, 1] [0, 16, 65536, 6146009, 0, 0]\n",
      "17 [0, 17, 65536, 6146009, 0, 0] ['seti', 0, 3, 4] [0, 17, 65536, 6146009, 0, 0]\n",
      "18 [0, 18, 65536, 6146009, 0, 0] ['addi', 4, 1, 5] [0, 18, 65536, 6146009, 0, 1]\n",
      "19 [0, 19, 65536, 6146009, 0, 1] ['muli', 5, 256, 5] [0, 19, 65536, 6146009, 0, 256]\n",
      "20 [0, 20, 65536, 6146009, 0, 256] ['gtrr', 5, 2, 5] [0, 20, 65536, 6146009, 0, 0]\n",
      "21 [0, 21, 65536, 6146009, 0, 0] ['addr', 5, 1, 1] [0, 21, 65536, 6146009, 0, 0]\n",
      "22 [0, 22, 65536, 6146009, 0, 0] ['addi', 1, 1, 1] [0, 23, 65536, 6146009, 0, 0]\n",
      "24 [0, 24, 65536, 6146009, 0, 0] ['addi', 4, 1, 4] [0, 24, 65536, 6146009, 1, 0]\n",
      "25 [0, 25, 65536, 6146009, 1, 0] ['seti', 17, 3, 1] [0, 17, 65536, 6146009, 1, 0]\n",
      "18 [0, 18, 65536, 6146009, 1, 0] ['addi', 4, 1, 5] [0, 18, 65536, 6146009, 1, 2]\n",
      "19 [0, 19, 65536, 6146009, 1, 2] ['muli', 5, 256, 5] [0, 19, 65536, 6146009, 1, 512]\n",
      "20 [0, 20, 65536, 6146009, 1, 512] ['gtrr', 5, 2, 5] [0, 20, 65536, 6146009, 1, 0]\n",
      "21 [0, 21, 65536, 6146009, 1, 0] ['addr', 5, 1, 1] [0, 21, 65536, 6146009, 1, 0]\n",
      "22 [0, 22, 65536, 6146009, 1, 0] ['addi', 1, 1, 1] [0, 23, 65536, 6146009, 1, 0]\n",
      "24 [0, 24, 65536, 6146009, 1, 0] ['addi', 4, 1, 4] [0, 24, 65536, 6146009, 2, 0]\n",
      "25 [0, 25, 65536, 6146009, 2, 0] ['seti', 17, 3, 1] [0, 17, 65536, 6146009, 2, 0]\n",
      "18 [0, 18, 65536, 6146009, 2, 0] ['addi', 4, 1, 5] [0, 18, 65536, 6146009, 2, 3]\n",
      "19 [0, 19, 65536, 6146009, 2, 3] ['muli', 5, 256, 5] [0, 19, 65536, 6146009, 2, 768]\n",
      "20 [0, 20, 65536, 6146009, 2, 768] ['gtrr', 5, 2, 5] [0, 20, 65536, 6146009, 2, 0]\n",
      "21 [0, 21, 65536, 6146009, 2, 0] ['addr', 5, 1, 1] [0, 21, 65536, 6146009, 2, 0]\n",
      "22 [0, 22, 65536, 6146009, 2, 0] ['addi', 1, 1, 1] [0, 23, 65536, 6146009, 2, 0]\n",
      "24 [0, 24, 65536, 6146009, 2, 0] ['addi', 4, 1, 4] [0, 24, 65536, 6146009, 3, 0]\n",
      "25 [0, 25, 65536, 6146009, 3, 0] ['seti', 17, 3, 1] [0, 17, 65536, 6146009, 3, 0]\n",
      "18 [0, 18, 65536, 6146009, 3, 0] ['addi', 4, 1, 5] [0, 18, 65536, 6146009, 3, 4]\n"
     ]
    },
    {
     "data": {
      "text/plain": [
       "[0, 18, 65536, 6146009, 3, 4]"
      ]
     },
     "execution_count": 6,
     "metadata": {},
     "output_type": "execute_result"
    }
   ],
   "source": [
    "executeProg(ipr,prog,r0=0,verbose=True,stopAfter=38)"
   ]
  },
  {
   "cell_type": "code",
   "execution_count": 7,
   "metadata": {},
   "outputs": [],
   "source": [
    "# ipr = 1\n",
    "#\n",
    "#  0 ['seti', 123, 0, 3]         # $3 = 123\n",
    "#  1 ['bani', 3, 456, 3]         # $3 = $3 & 456 = 72 (123 & 456 = 72)\n",
    "#  2 ['eqri', 3, 72, 3]          # if $3==72: $3=1 else: $3=0 ($3=73 -> $3=1)\n",
    "#  3 ['addr', 3, 1, 1]           # $1 += $3 ($1 is ipr currently at 2, incresed at 3 then incremend at 4\n",
    "#                                #           making the program skip line 4)\n",
    "#                                # if $3==72 GOTO 5 else GOTO 4\n",
    "#  4 ['seti', 0, 0, 1]           # $1 = 0 ($1 is ipr --> GOTO 0) \n",
    "#                                # this looks like a sanity check, e.g. if the bani instruction is badly \n",
    "#                                # implemented it would enter an infinite loops of the first instructions\n",
    "#\n",
    "#  5 ['seti', 0, 1, 3]           # $3 = 0\n",
    "#\n",
    "#  6 ['bori', 3, 65536, 2]       # $2 = $3 | 65536 (0 | 65536 = 65536, $3 = 65536) # --- outer loop\n",
    "#  7 ['seti', 1505483, 6, 3]     # $3 = 1505483\n",
    "#  8 ['bani', 2, 255, 4]         # $4 = $2 & 255 (65536 & 255 = 0, $4 = 0)\n",
    "#  9 ['addr', 3, 4, 3]           # $3 += $4\n",
    "# 10 ['bani', 3, 16777215, 3]    # $3 = $3 & 16777215 ($3 = 1505483 & 16777215 = 1505483)\n",
    "# 11 ['muli', 3, 65899, 3]       # $3 *= 65899 ($3 = 1505483 * 65899 = 99209824217)\n",
    "# 12 ['bani', 3, 16777215, 3]    # $3 = $3 & 16777215 ($3 = 99209824217 & 16777215 = 6146009)\n",
    "#\n",
    "# 13 ['gtir', 256, 2, 4]         # if $2<256: $4=1 else: $4=0\n",
    "# 14 ['addr', 4, 1, 1]           # $1 += $4 ($1 is ipr currently at 14, $4=0, thus not additional increment\n",
    "#                                #           program goes to line 15. if $2<256 $1 would get a +1 increment\n",
    "#                                #           and skip line 16 going to 16)\n",
    "#                                # if $2<256: GOTO 16 else GOTO 15\n",
    "# 15 ['addi', 1, 1, 1]           # $1 += 1 ($1 is ipr --> GOTO 17)\n",
    "# 16 ['seti', 27, 6, 1]          # $1 = 27 ($1 is ipr --> GOTO 28)\n",
    "#\n",
    "# 17 ['seti', 0, 3, 4]           # $4 = 0\n",
    "# 18 ['addi', 4, 1, 5]           # $5 = $4 + 1  # --- inner loop begins. $5 from 1 to $2\n",
    "# 19 ['muli', 5, 256, 5]         # $5 *= 256\n",
    "# 20 ['gtrr', 5, 2, 5]           # if $5>$2: $5=1 else: $5=0 # exit inner lop\n",
    "# 21 ['addr', 5, 1, 1]           # $1 += $5\n",
    "# 22 ['addi', 1, 1, 1]           # $1 += 1\n",
    "#                                # if $5>$2: GOTO 25 else: GOTO 24\n",
    "# 23 ['seti', 25, 4, 1]          # $1 = 25 ($1 is ipr --> GOTO 26) # ever used?\n",
    "# 24 ['addi', 4, 1, 4]           # $4 += 1  # this is the counted for the loop\n",
    "#                                           # $5 gest incremented from $4 at line 18\n",
    "# 25 ['seti', 17, 3, 1]          # $1 = 17 ($1 is ipr --> GOTO 18) \n",
    "# 26 ['setr', 4, 1, 2]           # $2 = $4\n",
    "# 27 ['seti', 7, 4, 1]           # $1 = 7 ($1 is ipr --> GOTO 8)\n",
    "#\n",
    "# 28 ['eqrr', 3, 0, 4]           # if $3==$0: $4=1 else $4=0 # --- conditions to exit program since we set $0\n",
    "# 29 ['addr', 4, 1, 1]           # $1 += $4 (if $4==1 exit program, else GOTO 30)\n",
    "# 30 ['seti', 5, 9, 1]           # $1 = 5 ($1 is ipr --> GOTO 6) # --- outer loop return\n",
    "#                                # if $0==$3: EXIT else GOTO 6"
   ]
  },
  {
   "cell_type": "markdown",
   "metadata": {},
   "source": [
    "## Program analysis\n",
    "\n",
    "* In order to exit the program, I need to set R0 to a value such that line 28 is satisfied, e.g. the input value is the value in R3.\n",
    "\n",
    "* R3 is computed between lines 6 and 13, starting from an initial value of 0. If the program does not exit at line 18 and goes back to line 6, R3 gets recomputed starting from the previous R3 value. R2 also changes according to line 6. R4 gets used for the calculation, but the reset at line 13.\n",
    "\n",
    "* Inner loop starting at line 18 increments R5 by 1, multiply it by 256, then compare the result with the value in R2. The loop finishes when R5 is greater then R2: at that point R4 is R5/256-1, and R2 gets set to the value of R4. What I thikn the inner loop is doing is **computing the result of the euclidean division R2 // 256, then setting R2 to this value: R2 = R2 // 256.**\n",
    "\n",
    "* **A new pair of R2,R3 values are then computed until R2<256** (line 13).\n",
    "\n",
    "* At that point the inner loop finishes, and I get to the verification of line 28, where **the latest value of R3 is compared with R0**. To solve Part 1 I guess I can **run an equivalent of the inner loop only once** and stop it when R2<256 for the first time, then **check what would be the first R3 value at the end of it, and imagine I have set R0 to that value to stop the execution of the whole program before entering a secon cycle of the external loop***. This should in principle give me the R0 value that would stop the program after having executed the shortest amount of instructions.\n",
    "\n",
    "## Part 1"
   ]
  },
  {
   "cell_type": "code",
   "execution_count": 22,
   "metadata": {},
   "outputs": [
    {
     "name": "stdout",
     "output_type": "stream",
     "text": [
      "R0 = 7216956\n"
     ]
    }
   ],
   "source": [
    "R3 = 0\n",
    "\n",
    "# initialize R2 and R3 according to program lines 6-8\n",
    "R2 = R3 | 65536 \n",
    "R3 = 1505483\n",
    "\n",
    "while True:\n",
    "    R4 = R2 & 255 # line 8. I get here from line 27, unless conditions at line 13 satisfied\n",
    "    R3 += R4\n",
    "    R3 = R3 & 16777215\n",
    "    R3 *= 65899\n",
    "    R3 = R3 & 16777215\n",
    "\n",
    "    if R2<256: # line 13 -> 16 -> 28\n",
    "        print(\"R0 = {}\".format(R3))\n",
    "        break\n",
    "        \n",
    "    R2 = R2 // 256"
   ]
  },
  {
   "cell_type": "markdown",
   "metadata": {},
   "source": [
    "## Part 2\n",
    "\n",
    "The program stops only for specific R0 values, that I can compute by implementing the outer loop and iterating over R3 and R2. The final R3 value is that I would each time obtain in the inner loop when R2<256 (line 13).\n",
    "\n",
    "The amount of executed instructions grows with the sequence of R0 values! My only hope is that **at some point the sequence returns to an already seen value, thus the amount of instruction would never be higher than those executed by the previous R0 input.** This is not necessarely the first value, there might be a \"settling period\" before the sequence becomes periodic."
   ]
  },
  {
   "cell_type": "code",
   "execution_count": 13,
   "metadata": {},
   "outputs": [
    {
     "name": "stdout",
     "output_type": "stream",
     "text": [
      "R0 = 14596916 before a periodic cycle begins, after computing 10778 R3 values\n"
     ]
    }
   ],
   "source": [
    "R0 = []\n",
    "found = False\n",
    "\n",
    "R3 = 0\n",
    "while True: # outer loop\n",
    "    # initialize R2 and R3 according to program lines 6-8. I get here from line 30 if condition at line 28 not satisfied\n",
    "    R2 = R3 | 65536 \n",
    "    R3 = 1505483\n",
    "    \n",
    "    while True: # inner loop\n",
    "        R4 = R2 & 255 # line 8. I get here from line 27, unless conditions at line 13 satisfied\n",
    "        R3 += R4\n",
    "        R3 = R3 & 16777215\n",
    "        R3 *= 65899\n",
    "        R3 = R3 & 16777215\n",
    "\n",
    "        if R2<256: # line 13 -> 16 -> 28 # program would exit if R0 set to R3\n",
    "            if R3 in R0:\n",
    "                print(\"R0 = {} before a periodic cycle begins, after computing {} R3 values\".format(R0[-1],len(R0)))\n",
    "                found = True\n",
    "                break\n",
    "            else:\n",
    "                R0.append(R3)\n",
    "                #print(\"{:12d} {:7d}\".format(R3,len(R0)))\n",
    "                break # exit inner loop\n",
    "                \n",
    "        R2 = R2 // 256\n",
    "\n",
    "    if found:\n",
    "        break"
   ]
  },
  {
   "cell_type": "code",
   "execution_count": null,
   "metadata": {},
   "outputs": [],
   "source": []
  }
 ],
 "metadata": {
  "kernelspec": {
   "display_name": "Python 3",
   "language": "python",
   "name": "python3"
  },
  "language_info": {
   "codemirror_mode": {
    "name": "ipython",
    "version": 3
   },
   "file_extension": ".py",
   "mimetype": "text/x-python",
   "name": "python",
   "nbconvert_exporter": "python",
   "pygments_lexer": "ipython3",
   "version": "3.9.2"
  }
 },
 "nbformat": 4,
 "nbformat_minor": 4
}
