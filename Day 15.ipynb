{
 "cells": [
  {
   "cell_type": "markdown",
   "metadata": {},
   "source": [
    "# Day 15: Beverage Bandits"
   ]
  },
  {
   "cell_type": "code",
   "execution_count": 3,
   "metadata": {},
   "outputs": [],
   "source": [
    "import numpy as np\n",
    "\n",
    "WALL   = 1\n",
    "EMPTY  = 0\n",
    "ELF    = 2\n",
    "GOBLIN = 3\n",
    "\n",
    "def readMap(filename):\n",
    "    with open(filename) as f:\n",
    "        lines = [ l.strip(\"\\n\") for l in f.readlines() ]\n",
    "    elfs = []\n",
    "    gobl = []\n",
    "    grid = np.zeros((len(lines),len(lines[0])))\n",
    "    y = 0\n",
    "    for l in lines:\n",
    "        x = 0\n",
    "        for c in l:\n",
    "            if c==\"#\":\n",
    "                grid[y,x] = WALL\n",
    "            elif c==\"E\":\n",
    "                grid[y,x] = ELF\n",
    "                elfs.append((x,y))\n",
    "            elif c==\"G\":\n",
    "                grid[y,x] = GOBLIN\n",
    "                gobl.append((x,y))\n",
    "            x +=1\n",
    "        y+=1\n",
    "    return grid,elfs,gobl"
   ]
  },
  {
   "cell_type": "code",
   "execution_count": 59,
   "metadata": {},
   "outputs": [
    {
     "data": {
      "text/plain": [
       "<matplotlib.image.AxesImage at 0x10921bdc0>"
      ]
     },
     "execution_count": 59,
     "metadata": {},
     "output_type": "execute_result"
    },
    {
     "data": {
      "image/png": "[encoded data removed]",
      "text/plain": [
       "<Figure size 432x288 with 1 Axes>"
      ]
     },
     "metadata": {
      "needs_background": "light"
     },
     "output_type": "display_data"
    }
   ],
   "source": [
    "import matplotlib.pyplot as plt\n",
    "grid,elfs,gobl = readMap(\"data/day15test0.txt\")\n",
    "plt.imshow(grid)"
   ]
  },
  {
   "cell_type": "code",
   "execution_count": 66,
   "metadata": {},
   "outputs": [],
   "source": [
    "from queue import Queue\n",
    "from copy import deepcopy\n",
    "\n",
    "def neig(p,grid):\n",
    "    '''Neigbouring steps returned in reading orders'''\n",
    "    xp,yp = p\n",
    "    return [ (xp+i,yp+j) for i,j in ((-1,0),(0,-1),(0,+1),(+1,0))  \n",
    "            if 0<=xp+i<len(grid[0]) and 0<=yp+j<len(grid) and grid[yp+j][xp+i]==EMPTY ]\n",
    "\n",
    "def searchPaths(s,e,grid):\n",
    "    '''\n",
    "        Return all shortest paths from s to e  assuming walls, elfs and goblins are not traversable. \n",
    "        Using BFS and returning all paths that have euqal lenght to first found path, shorttest by definition.\n",
    "        Using path themselves to track whether a position was already explored in current path.\n",
    "    '''\n",
    "    q = Queue()\n",
    "    q.put([s])\n",
    "    paths = []\n",
    "    while len(q.queue):\n",
    "        path = q.get()\n",
    "        if path[-1] == e: # found end\n",
    "            if len(paths):\n",
    "                if len(path)==len(paths[-1]):\n",
    "                    paths.append(path)\n",
    "            else:\n",
    "                paths.append(path)\n",
    "        for n in neig(path[-1],grid):\n",
    "            if n not in path:\n",
    "                # only follow path is not path found yet, or current is shorter then already found\n",
    "                if len(paths)==0 or len(paths[-1])>len(path):\n",
    "                    pathnew = deepcopy(path)\n",
    "                    pathnew.append(n)\n",
    "                    q.put(pathnew)\n",
    "    # sort according to second step (Y,X) get \"reading\" order (smaller Y first, then smaller X for same Y)\n",
    "    #return paths\n",
    "    return sorted(paths, key=lambda x: (x[1][1],x[1][0]))  "
   ]
  },
  {
   "cell_type": "code",
   "execution_count": 67,
   "metadata": {},
   "outputs": [
    {
     "data": {
      "text/plain": [
       "[[(1, 1), (2, 1), (2, 2)], [(1, 1), (1, 2), (2, 2)]]"
      ]
     },
     "execution_count": 67,
     "metadata": {},
     "output_type": "execute_result"
    }
   ],
   "source": [
    "grid,elfs,gobl = readMap(\"data/day15test0.txt\")\n",
    "\n",
    "searchPaths((1,1),(2,2),grid)\n",
    "#searchPaths((1,1),(5,2),grid)"
   ]
  },
  {
   "cell_type": "code",
   "execution_count": 85,
   "metadata": {},
   "outputs": [],
   "source": [
    "from collections import defaultdict\n",
    "\n",
    "def chooseTargetPath(e,targets,grid):\n",
    "    inrange = [] # in range targets\n",
    "    for t in targets:\n",
    "        for n in neig(t,grid):\n",
    "            if n not in inrange:\n",
    "                inrange.append(n)\n",
    "    paths = defaultdict(lambda: []) # paths to reachable targets, grouped by lenght\n",
    "    for i in inrange:\n",
    "        p = searchPaths(e,i,grid)\n",
    "        if len(p): # empty paths are non-reachable positions\n",
    "            # taking first shortest path in case there are multiple paths, sorting in searchPaths()\n",
    "            paths[len(p[0])].append(p[0]) \n",
    "    if len(paths.keys()): \n",
    "        # collection of shortest paths to targets\n",
    "        nearest = paths[min(paths.keys())]\n",
    "        # reverse sort according to target position (last in path) and (Y,X) coordinates\n",
    "        nearest = sorted(nearest,key=lambda x: (x[-1][1],x[-1][1]) )\n",
    "        return nearest[0]\n",
    "    else:\n",
    "        return []"
   ]
  },
  {
   "cell_type": "code",
   "execution_count": 86,
   "metadata": {},
   "outputs": [
    {
     "data": {
      "text/plain": [
       "[(1, 1), (2, 1), (3, 1)]"
      ]
     },
     "execution_count": 86,
     "metadata": {},
     "output_type": "execute_result"
    }
   ],
   "source": [
    "# Targets:      In range:     Reachable:    Nearest:      Chosen:  \n",
    "# #######       #######       #######       #######       #######  \n",
    "# #E..G.#       #E.?G?#       #E.@G.#       #E.!G.#       #E.+G.#  \n",
    "# #...#.#  -->  #.?.#?#  -->  #.@.#.#  -->  #.!.#.#  -->  #...#.#  \n",
    "# #.G.#G#       #?G?#G#       #@G@#G#       #!G.#G#       #.G.#G#  \n",
    "# #######       #######       #######       #######       #######  \n",
    "\n",
    "grid,elfs,gobl = readMap(\"data/day15test0.txt\")\n",
    "chooseTargetPath((1,1),gobl,grid)"
   ]
  },
  {
   "cell_type": "code",
   "execution_count": 87,
   "metadata": {},
   "outputs": [
    {
     "data": {
      "text/plain": [
       "[(2, 1), (3, 1), (3, 2), (4, 2)]"
      ]
     },
     "execution_count": 87,
     "metadata": {},
     "output_type": "execute_result"
    }
   ],
   "source": [
    "grid,elfs,gobl = readMap(\"data/day15test1.txt\")\n",
    "chooseTargetPath((2,1),gobl,grid)"
   ]
  },
  {
   "cell_type": "code",
   "execution_count": 88,
   "metadata": {},
   "outputs": [
    {
     "data": {
      "text/plain": [
       "[(1, 1), (2, 1), (2, 2), (2, 3), (3, 3), (4, 3)]"
      ]
     },
     "execution_count": 88,
     "metadata": {},
     "output_type": "execute_result"
    },
    {
     "data": {
      "image/png": "[encoded data removed]",
      "text/plain": [
       "<Figure size 432x288 with 1 Axes>"
      ]
     },
     "metadata": {
      "needs_background": "light"
     },
     "output_type": "display_data"
    }
   ],
   "source": [
    "grid,elfs,gobl = readMap(\"data/day15test2.txt\")\n",
    "plt.imshow(grid)\n",
    "chooseTargetPath((1,1),[(4,4)],grid)"
   ]
  },
  {
   "cell_type": "code",
   "execution_count": 90,
   "metadata": {},
   "outputs": [
    {
     "data": {
      "image/png": "[encoded data removed]",
      "text/plain": [
       "<Figure size 432x288 with 1 Axes>"
      ]
     },
     "metadata": {
      "needs_background": "light"
     },
     "output_type": "display_data"
    },
    {
     "name": "stdout",
     "output_type": "stream",
     "text": [
      "(4, 2) (4, 3)\n",
      "(4, 3) (4, 2)\n"
     ]
    },
    {
     "data": {
      "image/png": "[encoded data removed]",
      "text/plain": [
       "<Figure size 432x288 with 1 Axes>"
      ]
     },
     "metadata": {
      "needs_background": "light"
     },
     "output_type": "display_data"
    },
    {
     "name": "stdout",
     "output_type": "stream",
     "text": [
      "(4, 2) (4, 3)\n",
      "(4, 3) (3, 3)\n"
     ]
    },
    {
     "data": {
      "image/png": "[encoded data removed]",
      "text/plain": [
       "<Figure size 432x288 with 1 Axes>"
      ]
     },
     "metadata": {
      "needs_background": "light"
     },
     "output_type": "display_data"
    }
   ],
   "source": [
    "grid,elfs,gobl = readMap(\"data/day15test2.txt\")\n",
    "\n",
    "def targetRange(p,grid):\n",
    "    '''return coordinate of anything that is not WALL around unit. To be tested against Elf or Goblin lists.'''\n",
    "    xp,yp = p\n",
    "    return [ (xp+i,yp+j) for i,j in ((-1,0),(0,-1),(0,+1),(+1,0))  \n",
    "            if 0<=xp+i<len(grid[0]) and 0<=yp+j<len(grid) and grid[yp+j][xp+i]!=WALL ]\n",
    "\n",
    "r = 0\n",
    "\n",
    "while r<3:\n",
    "    \n",
    "    units = sorted(elfs+gobl, key=lambda u: (u[1],u[0]))\n",
    "    \n",
    "    for u in units:\n",
    "        \n",
    "        attack = False\n",
    "        \n",
    "        for t in targetRange(u,grid):\n",
    "            if u in gobl and t in elfs:\n",
    "                attack = True\n",
    "                break\n",
    "            elif u in elfs and t in gobl:\n",
    "                attack = True\n",
    "                break\n",
    "                \n",
    "        if not attack:\n",
    "        \n",
    "            if u in gobl:            \n",
    "                p = chooseTargetPath(u,elfs,grid)\n",
    "                if len(p):\n",
    "                    xn,yn = p[1]\n",
    "                    xu,yu = u\n",
    "                    grid[yu][xu]=EMPTY\n",
    "                    grid[yn][xn]=GOBLIN\n",
    "                    gobl.pop(gobl.index(u))\n",
    "                    gobl.append(p[1])\n",
    "            elif u in elfs:\n",
    "                p = chooseTargetPath(u,gobl,grid)\n",
    "                if len(p):\n",
    "                    xn,yn = p[1]\n",
    "                    xu,yu = u\n",
    "                    grid[yu][xu]=EMPTY\n",
    "                    grid[yn][xn]=ELF\n",
    "                    elfs.pop(elfs.index(u))\n",
    "                    elfs.append(p[1])\n",
    "                    \n",
    "        else: # attack\n",
    "            print(u,t)\n",
    "\n",
    "    r+=1\n",
    "    plt.imshow(grid)\n",
    "    plt.show()"
   ]
  },
  {
   "cell_type": "code",
   "execution_count": null,
   "metadata": {},
   "outputs": [],
   "source": []
  }
 ],
 "metadata": {
  "kernelspec": {
   "display_name": "Python 3",
   "language": "python",
   "name": "python3"
  },
  "language_info": {
   "codemirror_mode": {
    "name": "ipython",
    "version": 3
   },
   "file_extension": ".py",
   "mimetype": "text/x-python",
   "name": "python",
   "nbconvert_exporter": "python",
   "pygments_lexer": "ipython3",
   "version": "3.9.2"
  }
 },
 "nbformat": 4,
 "nbformat_minor": 4
}
