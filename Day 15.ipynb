{
 "cells": [
  {
   "cell_type": "markdown",
   "metadata": {},
   "source": [
    "# Day 15: Beverage Bandits\n",
    "\n",
    "\n",
    "## Part 1\n",
    "\n",
    "### Read the input and save information"
   ]
  },
  {
   "cell_type": "code",
   "execution_count": 1,
   "metadata": {},
   "outputs": [],
   "source": [
    "import numpy as np\n",
    "\n",
    "WALL   = 1\n",
    "EMPTY  = 0\n",
    "ELF    = 2\n",
    "GOBLIN = 3\n",
    "\n",
    "def readMap(filename):\n",
    "    with open(filename) as f:\n",
    "        lines = [ l.strip(\"\\n\") for l in f.readlines() ]\n",
    "    elfs = []\n",
    "    gobl = []\n",
    "    grid = np.zeros((len(lines),len(lines[0])),dtype=int)\n",
    "    y = 0\n",
    "    for l in lines:\n",
    "        x = 0\n",
    "        for c in l:\n",
    "            if c==\"#\":\n",
    "                grid[y,x] = WALL\n",
    "            elif c==\"E\":\n",
    "                grid[y,x] = ELF\n",
    "                elfs.append((x,y))\n",
    "            elif c==\"G\":\n",
    "                grid[y,x] = GOBLIN\n",
    "                gobl.append((x,y))\n",
    "            x +=1\n",
    "        y+=1\n",
    "    return grid,elfs,gobl"
   ]
  },
  {
   "cell_type": "markdown",
   "metadata": {},
   "source": [
    "### Shortest paths from point A to point B"
   ]
  },
  {
   "cell_type": "code",
   "execution_count": 36,
   "metadata": {},
   "outputs": [],
   "source": [
    "from queue import Queue, PriorityQueue\n",
    "from collections import defaultdict\n",
    "\n",
    "def empty(p,grid):\n",
    "    '''Neighboring empty positions'''\n",
    "    xp,yp = p\n",
    "    return [ (xp+i,yp+j) for i,j in ((-1,0),(0,-1),(0,+1),(+1,0))  \n",
    "            if 0<=xp+i<len(grid[0]) and 0<=yp+j<len(grid) and grid[yp+j][xp+i]==EMPTY ]\n",
    "\n",
    "def shortestPath(s,e,grid):\n",
    "    '''\n",
    "        Return one shortest path from s to e assuming walls, elfs and goblins are not traversable. \n",
    "        s can be a unit (elf or goblin) but e is supposed to be empty.\n",
    "        BFS algorithm.\n",
    "    '''\n",
    "    q = Queue()\n",
    "    q.put([s])\n",
    "    while len(q.queue):\n",
    "        path = q.get()\n",
    "        if path[-1] == e: # found end\n",
    "            return path\n",
    "        for n in empty(path[-1],grid):\n",
    "            if n not in path:\n",
    "                pathnew = path+[n]\n",
    "                q.put(pathnew)\n",
    "    return []\n",
    "\n",
    "def shortestPathL(s,e,grid):\n",
    "    '''\n",
    "        Return lenght of one shortest path from s to e assuming walls, elfs and goblins are not traversable. \n",
    "        s can be a unit (elf or goblin) but e is supposed to be empty.\n",
    "        BFS algorithm.\n",
    "    '''\n",
    "    q = Queue()\n",
    "    q.put((s,0))\n",
    "    visited = defaultdict(bool)\n",
    "    visited[s] = True\n",
    "    while len(q.queue):\n",
    "        p,l = q.get()\n",
    "        if p == e: # found end\n",
    "            return l\n",
    "        for n in empty(p,grid):\n",
    "            if not visited[n]:\n",
    "                q.put((n,l+1))\n",
    "                visited[n] = True    \n",
    "    return -1"
   ]
  },
  {
   "cell_type": "code",
   "execution_count": 37,
   "metadata": {},
   "outputs": [
    {
     "name": "stdout",
     "output_type": "stream",
     "text": [
      "#######\n",
      "#E..G.#\n",
      "#...#.#\n",
      "#.G.#G#\n",
      "#######\n"
     ]
    }
   ],
   "source": [
    "def plotGrid(grid):\n",
    "    G = {}\n",
    "    G[WALL]   = \"#\"\n",
    "    G[EMPTY]  = \".\"\n",
    "    G[ELF]    = \"E\"\n",
    "    G[GOBLIN] = \"G\"\n",
    "    for y in range(len(grid)):\n",
    "        for x in range(len(grid[0])):\n",
    "            print(G[grid[y,x]],end=\"\")\n",
    "        print()\n",
    "\n",
    "grid,elfs,gobl = readMap(\"data/day15test0.txt\")\n",
    "\n",
    "%matplotlib inline\n",
    "import matplotlib.pyplot as plt\n",
    "#plt.imshow(grid)\n",
    "\n",
    "plotGrid(grid)"
   ]
  },
  {
   "cell_type": "markdown",
   "metadata": {},
   "source": [
    "### Choose target and step toward it"
   ]
  },
  {
   "cell_type": "code",
   "execution_count": 40,
   "metadata": {},
   "outputs": [],
   "source": [
    "def chooseTarget(e,targets,grid):\n",
    "    # In range position around targets\n",
    "    inrange = [] \n",
    "    for t in targets:\n",
    "        for n in empty(t,grid):\n",
    "            if n not in inrange:\n",
    "                inrange.append(n)\n",
    "    # Reachable targets, grouped by distances\n",
    "    dists = defaultdict(lambda: []) \n",
    "    for i in inrange:\n",
    "        lp = shortestPathL(e,i,grid)\n",
    "        if lp!=-1:\n",
    "            dists[lp].append(i)\n",
    "    # Closest target. Sorting by reading order to discriminate between multiples with same distance\n",
    "    if len(dists.keys()):\n",
    "        nearests = sorted( dists[ min(dists.keys()) ] , key=lambda x: (x[1],x[0]) )\n",
    "        return nearests[0]\n",
    "    else:\n",
    "        return None\n",
    "    \n",
    "def chooseTargetPath(e,targets,grid):\n",
    "    t = chooseTarget(e,targets,grid)\n",
    "    if t!=None: # has a reachable target\n",
    "        nn = empty(e,grid)\n",
    "        if len(nn)==1: # only a possible first step toward target\n",
    "            return(nn[0])\n",
    "        else:\n",
    "            shortest = defaultdict(lambda: [])\n",
    "            for n in empty(e,grid): # possible first steps toward target\n",
    "                ln = shortestPathL(n,t,grid)\n",
    "                if ln!=-1:\n",
    "                    shortest[ln+1].append(n)\n",
    "            return sorted(shortest[min(shortest.keys())] , key=lambda x: (x[1],x[0]) )[0]\n",
    "    else:\n",
    "        return None"
   ]
  },
  {
   "cell_type": "code",
   "execution_count": 41,
   "metadata": {},
   "outputs": [
    {
     "name": "stdout",
     "output_type": "stream",
     "text": [
      "#######\n",
      "#E..G.#\n",
      "#...#.#\n",
      "#.G.#G#\n",
      "#######\n",
      "(3, 1)\n"
     ]
    }
   ],
   "source": [
    "# Targets:      In range:     Reachable:    Nearest:      Chosen:  \n",
    "# #######       #######       #######       #######       #######  \n",
    "# #E..G.#       #E.?G?#       #E.@G.#       #E.!G.#       #E.+G.#  \n",
    "# #...#.#  -->  #.?.#?#  -->  #.@.#.#  -->  #.!.#.#  -->  #...#.#  \n",
    "# #.G.#G#       #?G?#G#       #@G@#G#       #!G.#G#       #.G.#G#  \n",
    "# #######       #######       #######       #######       #######  \n",
    "\n",
    "grid,elfs,gobl = readMap(\"data/day15test0.txt\")\n",
    "plotGrid(grid)\n",
    "print(chooseTarget((1,1),gobl,grid))"
   ]
  },
  {
   "cell_type": "code",
   "execution_count": 42,
   "metadata": {},
   "outputs": [
    {
     "name": "stdout",
     "output_type": "stream",
     "text": [
      "#######\n",
      "#.E...#\n",
      "#.....#\n",
      "#...G.#\n",
      "#######\n"
     ]
    },
    {
     "data": {
      "text/plain": [
       "(3, 1)"
      ]
     },
     "execution_count": 42,
     "metadata": {},
     "output_type": "execute_result"
    }
   ],
   "source": [
    "grid,elfs,gobl = readMap(\"data/day15test1.txt\")\n",
    "plotGrid(grid)\n",
    "chooseTargetPath((2,1),gobl,grid)"
   ]
  },
  {
   "cell_type": "markdown",
   "metadata": {},
   "source": [
    "### Movement example"
   ]
  },
  {
   "cell_type": "code",
   "execution_count": 82,
   "metadata": {},
   "outputs": [],
   "source": [
    "Race = {}\n",
    "Race[GOBLIN] = \"Goblin\"\n",
    "Race[ELF] = \"Elf\"\n",
    "\n",
    "class Unit:\n",
    "    def __init__(self,r,p,hp=200,sp=3):\n",
    "        self.race  = r\n",
    "        self.pos   = p\n",
    "        self.hp    = hp\n",
    "        self.power = sp\n",
    "\n",
    "def getUnits(elfs,gobl,goblpower=3,elfpower=3):\n",
    "    '''Initialise unit list'''\n",
    "    units = []\n",
    "    for g in gobl:\n",
    "        units.append(Unit(GOBLIN,g,200,goblpower))\n",
    "    for e in elfs:\n",
    "        units.append(Unit(ELF,e,200,elfpower))\n",
    "    return units\n",
    "\n",
    "def targetRange(p,grid):\n",
    "    '''\n",
    "        return coordinate of anything that is not WALL around unit.\n",
    "        To be tested against Elfs' or Goblins' coordinate lists.\n",
    "    '''\n",
    "    xp,yp = p\n",
    "    return [ (xp+i,yp+j) for i,j in ((-1,0),(0,-1),(0,+1),(+1,0))  \n",
    "            if 0<=xp+i<len(grid[0]) and 0<=yp+j<len(grid) and grid[yp+j][xp+i]!=WALL ]\n",
    "\n",
    "def canAttack(U,gobl,elfs,grid):\n",
    "    for t in targetRange(U.pos,grid):\n",
    "        if U.race==GOBLIN and t in elfs:\n",
    "            return True\n",
    "        elif U.race==ELF and t in gobl:\n",
    "            return True\n",
    "    return False\n",
    "\n",
    "from copy import deepcopy\n",
    "\n",
    "def movementTest(_grid,_elfs,_gobl,rmax=3):\n",
    "\n",
    "    grid = deepcopy(_grid)\n",
    "    elfs = deepcopy(_elfs)\n",
    "    gobl = deepcopy(_gobl)\n",
    "    units = getUnits(elfs,gobl)    \n",
    "\n",
    "    print(\"Initially:\")\n",
    "    plotGrid(grid)\n",
    "    \n",
    "    r = 0 # round number\n",
    "    \n",
    "    while r<rmax:\n",
    "\n",
    "        print(\"\\nRound {}...\".format(r+1))\n",
    "        \n",
    "        units = sorted(units, key=lambda U: (U.pos[1],U.pos[0]))\n",
    "\n",
    "        for U in units:\n",
    "\n",
    "            # Check whether there's en enemy in range for attack\n",
    "            attack = canAttack(U,gobl,elfs,grid)\n",
    "            \n",
    "            # If no enemy to attack, try to move\n",
    "            if not attack:\n",
    "                p = None\n",
    "                if U.race==GOBLIN:            \n",
    "                    p = chooseTargetPath(U.pos,elfs,grid)\n",
    "                else:\n",
    "                    p = chooseTargetPath(U.pos,gobl,grid)\n",
    "                if p: # can move\n",
    "                    # move\n",
    "                    xn,yn = p     # new position coord\n",
    "                    xu,yu = U.pos # old position coord\n",
    "                    # update grid\n",
    "                    grid[yu][xu]=EMPTY\n",
    "                    grid[yn][xn]=U.race\n",
    "                    # update list of positions\n",
    "                    if U.race==GOBLIN: \n",
    "                        gobl.pop(gobl.index(U.pos))\n",
    "                        gobl.append(p)\n",
    "                    else:\n",
    "                        elfs.pop(elfs.index(U.pos))\n",
    "                        elfs.append(p)  \n",
    "                    # update unit position\n",
    "                    U.pos = p\n",
    "\n",
    "            else: # attack logic will go here\n",
    "                print(\"{:6s} at {} would attack!\".format(Race[U.race],U.pos))\n",
    "\n",
    "        r+=1\n",
    "        print(\"After {} round(s):\".format(r))\n",
    "        plotGrid(grid)"
   ]
  },
  {
   "cell_type": "code",
   "execution_count": 83,
   "metadata": {
    "scrolled": true
   },
   "outputs": [
    {
     "name": "stdout",
     "output_type": "stream",
     "text": [
      "Initially:\n",
      "#########\n",
      "#G..G..G#\n",
      "#.......#\n",
      "#.......#\n",
      "#G..E..G#\n",
      "#.......#\n",
      "#.......#\n",
      "#G..G..G#\n",
      "#########\n",
      "\n",
      "Round 1...\n",
      "After 1 round(s):\n",
      "#########\n",
      "#.G...G.#\n",
      "#...G...#\n",
      "#...E..G#\n",
      "#.G.....#\n",
      "#.......#\n",
      "#G..G..G#\n",
      "#.......#\n",
      "#########\n",
      "\n",
      "Round 2...\n",
      "Goblin at (4, 2) would attack!\n",
      "Elf    at (4, 3) would attack!\n",
      "After 2 round(s):\n",
      "#########\n",
      "#..G.G..#\n",
      "#...G...#\n",
      "#.G.E.G.#\n",
      "#.......#\n",
      "#G..G..G#\n",
      "#.......#\n",
      "#.......#\n",
      "#########\n",
      "\n",
      "Round 3...\n",
      "Goblin at (4, 2) would attack!\n",
      "Elf    at (4, 3) would attack!\n",
      "After 3 round(s):\n",
      "#########\n",
      "#.......#\n",
      "#..GGG..#\n",
      "#..GEG..#\n",
      "#G..G...#\n",
      "#......G#\n",
      "#.......#\n",
      "#.......#\n",
      "#########\n"
     ]
    }
   ],
   "source": [
    "grid,elfs,gobl = readMap(\"data/day15test2.txt\")\n",
    "movementTest(grid,elfs,gobl)"
   ]
  },
  {
   "cell_type": "markdown",
   "metadata": {},
   "source": [
    "### Combat"
   ]
  },
  {
   "cell_type": "code",
   "execution_count": 168,
   "metadata": {},
   "outputs": [],
   "source": [
    "def combat(_grid,_elfs,_gobl,elfpower=3,part=1,verbose=False,silent=False,rmax=-1,progress=False):\n",
    "\n",
    "    grid = deepcopy(_grid)\n",
    "    elfs = deepcopy(_elfs)\n",
    "    gobl = deepcopy(_gobl)\n",
    "    units = getUnits(elfs,gobl,elfpower=elfpower)\n",
    "\n",
    "    if not silent:\n",
    "        print(\"--- Initially ---\\n\")\n",
    "        plotGrid(grid)\n",
    "    \n",
    "    fr = 0 # number of full rounds\n",
    "    r = 0 # round number\n",
    "    \n",
    "    if progress and not silent:\n",
    "        print(\"\\nRounds:\",end=\" \")\n",
    "    \n",
    "    while True:\n",
    "\n",
    "        r+=1\n",
    "        \n",
    "        if rmax!=-1 and r>=rmax:\n",
    "            break\n",
    "\n",
    "        if verbose and not silent:\n",
    "            print(\"\\n--- Round {} begins ---\\n\".format(r))\n",
    "        \n",
    "        if progress and not silent:\n",
    "            print(r,end=\" \")\n",
    "            \n",
    "        units = sorted(units, key=lambda U: (U.pos[1],U.pos[0]))\n",
    "        \n",
    "        np = len([ U for U in units if U.hp>0 ])\n",
    "        ip = 0\n",
    "        isFinished = False\n",
    "        \n",
    "        if verbose and not silent:\n",
    "            print(\"{} active units\".format(np))\n",
    "        \n",
    "        for U in units:\n",
    "\n",
    "            # Ignore dead units\n",
    "            if U.hp<=0:\n",
    "                continue\n",
    "            \n",
    "            ip+=1\n",
    "            \n",
    "            # Check whether there's en enemy in range for attack\n",
    "            attack = canAttack(U,gobl,elfs,grid)\n",
    "            \n",
    "            # If no enemy to attack, try to move\n",
    "            hasMoved = False\n",
    "            if not attack:\n",
    "                p = None\n",
    "                if U.race==GOBLIN:            \n",
    "                    p = chooseTargetPath(U.pos,elfs,grid)\n",
    "                else:\n",
    "                    p = chooseTargetPath(U.pos,gobl,grid)\n",
    "                if p: # can move\n",
    "                    # move\n",
    "                    xn,yn = p     # new position coord\n",
    "                    xu,yu = U.pos # old position coord\n",
    "                    # update grid\n",
    "                    grid[yu][xu]=EMPTY\n",
    "                    grid[yn][xn]=U.race\n",
    "                    # update list of positions\n",
    "                    if U.race==GOBLIN: \n",
    "                        gobl.pop(gobl.index(U.pos))\n",
    "                        gobl.append(p)\n",
    "                    else:\n",
    "                        elfs.pop(elfs.index(U.pos))\n",
    "                        elfs.append(p)  \n",
    "                    # update unit position\n",
    "                    U.pos = p\n",
    "                    hasMoved = True\n",
    "            \n",
    "            # Check again whether unit can attack after movement\n",
    "            if hasMoved:\n",
    "                attack = canAttack(U,gobl,elfs,grid)\n",
    "\n",
    "            # Attack\n",
    "            if attack:\n",
    "                # There might be multiple targets, in case choose that with lowest HP\n",
    "                targets = []\n",
    "                for t in targetRange(U.pos,grid):\n",
    "                    if U.race==GOBLIN and t in elfs:\n",
    "                        targets.append(t)\n",
    "                    elif U.race==ELF and t in gobl:\n",
    "                        targets.append(t)\n",
    "                if verbose and not silent:\n",
    "                    print(\"{:6s} at {} (HP: {}) has target(s) in {} ...\".format(Race[U.race],U.pos,U.hp,targets), end=\" \")\n",
    "                # attack weakest one\n",
    "                Td = defaultdict(lambda: [])\n",
    "                for w in [ W for W in units if W.pos in targets and W.hp>0 ]:\n",
    "                    Td[w.hp].append(w)\n",
    "                T = sorted( Td[min(Td.keys())], key=lambda T: (T.pos[1],T.pos[0]) )\n",
    "                if verbose and not silent:\n",
    "                    print(\"Attacking {}\".format(T[0].pos))\n",
    "                T[0].hp -= U.power\n",
    "                # if target is dead, remove it from list and grid\n",
    "                if T[0].hp <= 0:\n",
    "                    ### Part 2 check\n",
    "                    if part==2 and T[0].race==ELF: # at least one elf died!\n",
    "                        print(\"An elf died! Power {} not enough\".format(elfpower))\n",
    "                        return -1,-1,-1,grid\n",
    "                    ###\n",
    "                    if verbose and not silent:\n",
    "                        print(\"{:6s} at {} (HP: {}) is dead!\".format(Race[T[0].race],T[0].pos,T[0].hp))\n",
    "                    if T[0].race==GOBLIN:\n",
    "                        gobl.pop(gobl.index(T[0].pos))\n",
    "                    elif T[0].race==ELF:\n",
    "                        elfs.pop(elfs.index(T[0].pos))\n",
    "                    xt,yt = T[0].pos\n",
    "                    grid[yt][xt] = EMPTY\n",
    "                        \n",
    "            # Check for status after each attack\n",
    "            if len(elfs)==0:\n",
    "                if progress and not silent: print()\n",
    "                if not silent:\n",
    "                    print(\"\\nAll Elfs dead during round {}!\\n\".format(r))\n",
    "                    plotGrid(grid)\n",
    "                isFinished = True\n",
    "                break\n",
    "\n",
    "            if len(gobl)==0:\n",
    "                if progress and not silent: print()\n",
    "                if not silent:\n",
    "                    print(\"\\nAll Goblins dead during round {}!\\n\".format(r))\n",
    "                    plotGrid(grid)\n",
    "                    print(np,ip)\n",
    "                isFinished = True\n",
    "                break      \n",
    "        \n",
    "        # check if round is \"full\"\n",
    "        if ip==np:\n",
    "            fr = r\n",
    "        else:\n",
    "            fr = r-1\n",
    "            \n",
    "        if not isFinished: # nobody won yet\n",
    "            # purge possible death units after round\n",
    "            #units = [ U for U in sorted(units, key=lambda U: (U.pos[1],U.pos[0])) if U.hp > 0 ]\n",
    "            if verbose and not silent:\n",
    "                print(\"\\n--- After {} round ---\\n\".format(r))\n",
    "                plotGrid(grid)\n",
    "                print()\n",
    "                units = sorted(units, key=lambda U: (U.pos[1],U.pos[0]))\n",
    "                for U in units:\n",
    "                    if U.hp > 0:\n",
    "                        print(\"{:6s} {} HP: {}\".format(Race[U.race],U.pos,U.hp))\n",
    "        else: # we have a winner team!\n",
    "            break\n",
    "\n",
    "    if progress and not silent:\n",
    "        print()\n",
    "            \n",
    "    # compute score\n",
    "    score = 0\n",
    "    for U in units:\n",
    "        if U.hp>0:\n",
    "            score += max(0,U.hp)\n",
    "    outcome = score * fr\n",
    "    \n",
    "    if not silent:\n",
    "        print()\n",
    "        for U in units:\n",
    "            if U.hp>0:\n",
    "                print(\"{:6s} {} HP: {}\".format(Race[U.race],U.pos,U.hp))\n",
    "        print(\"\\nScore = {} after {} full rounds, Outcome = {}\".format(score,fr,outcome))\n",
    "\n",
    "    return score,outcome,fr,grid"
   ]
  },
  {
   "cell_type": "code",
   "execution_count": 169,
   "metadata": {},
   "outputs": [
    {
     "name": "stdout",
     "output_type": "stream",
     "text": [
      "--- Initially ---\n",
      "\n",
      "#######\n",
      "#.G...#\n",
      "#...EG#\n",
      "#.#.#G#\n",
      "#..G#E#\n",
      "#.....#\n",
      "#######\n",
      "\n",
      "All Elfs dead during round 47!\n",
      "\n",
      "#######\n",
      "#G....#\n",
      "#.G...#\n",
      "#.#.#G#\n",
      "#...#.#\n",
      "#....G#\n",
      "#######\n",
      "\n",
      "Goblin (1, 1) HP: 200\n",
      "Goblin (2, 2) HP: 131\n",
      "Goblin (5, 3) HP: 59\n",
      "Goblin (5, 5) HP: 200\n",
      "\n",
      "Score = 590 after 47 full rounds, Outcome = 27730\n"
     ]
    }
   ],
   "source": [
    "grid,elfs,gobl = readMap(\"data/day15test3.txt\")\n",
    "\n",
    "score, outcome, r, grid = combat(grid,elfs,gobl)"
   ]
  },
  {
   "cell_type": "code",
   "execution_count": 170,
   "metadata": {},
   "outputs": [
    {
     "name": "stdout",
     "output_type": "stream",
     "text": [
      "--- Initially ---\n",
      "\n",
      "#######\n",
      "#G..#E#\n",
      "#E#E.E#\n",
      "#G.##.#\n",
      "#...#E#\n",
      "#...E.#\n",
      "#######\n",
      "\n",
      "All Goblins dead during round 38!\n",
      "\n",
      "#######\n",
      "#...#E#\n",
      "#E#...#\n",
      "#.E##.#\n",
      "#E..#E#\n",
      "#.....#\n",
      "#######\n",
      "6 4\n",
      "\n",
      "Elf    (5, 1) HP: 200\n",
      "Elf    (1, 2) HP: 197\n",
      "Elf    (2, 3) HP: 185\n",
      "Elf    (1, 4) HP: 200\n",
      "Elf    (5, 4) HP: 200\n",
      "\n",
      "Score = 982 after 37 full rounds, Outcome = 36334\n"
     ]
    }
   ],
   "source": [
    "grid,elfs,gobl = readMap(\"data/day15test4.txt\")\n",
    "score, outcome, r, grid = combat(grid,elfs,gobl)"
   ]
  },
  {
   "cell_type": "code",
   "execution_count": 171,
   "metadata": {},
   "outputs": [
    {
     "name": "stdout",
     "output_type": "stream",
     "text": [
      "--- Initially ---\n",
      "\n",
      "#######\n",
      "#E..EG#\n",
      "#.#G.E#\n",
      "#E.##E#\n",
      "#G..#.#\n",
      "#..E#.#\n",
      "#######\n",
      "\n",
      "All Goblins dead during round 47!\n",
      "\n",
      "#######\n",
      "#.E.E.#\n",
      "#.#E..#\n",
      "#E.##.#\n",
      "#.E.#.#\n",
      "#...#.#\n",
      "#######\n",
      "6 1\n",
      "\n",
      "Elf    (2, 1) HP: 164\n",
      "Elf    (4, 1) HP: 197\n",
      "Elf    (3, 2) HP: 200\n",
      "Elf    (1, 3) HP: 98\n",
      "Elf    (2, 4) HP: 200\n",
      "\n",
      "Score = 859 after 46 full rounds, Outcome = 39514\n"
     ]
    }
   ],
   "source": [
    "grid,elfs,gobl = readMap(\"data/day15test5.txt\")\n",
    "score, outcome, r, grid = combat(grid,elfs,gobl)"
   ]
  },
  {
   "cell_type": "code",
   "execution_count": 172,
   "metadata": {},
   "outputs": [
    {
     "name": "stdout",
     "output_type": "stream",
     "text": [
      "--- Initially ---\n",
      "\n",
      "#######\n",
      "#E.G#.#\n",
      "#.#G..#\n",
      "#G.#.G#\n",
      "#G..#.#\n",
      "#...E.#\n",
      "#######\n",
      "\n",
      "All Elfs dead during round 36!\n",
      "\n",
      "#######\n",
      "#G.G#.#\n",
      "#.#G..#\n",
      "#..#..#\n",
      "#...#G#\n",
      "#...G.#\n",
      "#######\n",
      "\n",
      "Goblin (1, 1) HP: 200\n",
      "Goblin (3, 1) HP: 98\n",
      "Goblin (3, 2) HP: 200\n",
      "Goblin (5, 4) HP: 95\n",
      "Goblin (4, 5) HP: 200\n",
      "\n",
      "Score = 793 after 35 full rounds, Outcome = 27755\n"
     ]
    }
   ],
   "source": [
    "grid,elfs,gobl = readMap(\"data/day15test6.txt\")\n",
    "score, outcome, r, grid = combat(grid,elfs,gobl)"
   ]
  },
  {
   "cell_type": "code",
   "execution_count": 173,
   "metadata": {},
   "outputs": [
    {
     "name": "stdout",
     "output_type": "stream",
     "text": [
      "--- Initially ---\n",
      "\n",
      "#######\n",
      "#.E...#\n",
      "#.#..G#\n",
      "#.###.#\n",
      "#E#G#G#\n",
      "#...#G#\n",
      "#######\n",
      "\n",
      "All Elfs dead during round 55!\n",
      "\n",
      "#######\n",
      "#.....#\n",
      "#.#G..#\n",
      "#.###.#\n",
      "#.#.#.#\n",
      "#G.G#G#\n",
      "#######\n",
      "\n",
      "Goblin (3, 2) HP: 200\n",
      "Goblin (1, 5) HP: 98\n",
      "Goblin (3, 5) HP: 38\n",
      "Goblin (5, 5) HP: 200\n",
      "\n",
      "Score = 536 after 54 full rounds, Outcome = 28944\n"
     ]
    }
   ],
   "source": [
    "grid,elfs,gobl = readMap(\"data/day15test7.txt\")\n",
    "score, outcome, r, grid = combat(grid,elfs,gobl)"
   ]
  },
  {
   "cell_type": "code",
   "execution_count": 174,
   "metadata": {},
   "outputs": [
    {
     "name": "stdout",
     "output_type": "stream",
     "text": [
      "--- Initially ---\n",
      "\n",
      "#########\n",
      "#G......#\n",
      "#.E.#...#\n",
      "#..##..G#\n",
      "#...##..#\n",
      "#...#...#\n",
      "#.G...G.#\n",
      "#.....G.#\n",
      "#########\n",
      "\n",
      "Rounds: 1 2 3 4 5 6 7 8 9 10 11 12 13 14 15 16 17 18 19 20 21 \n",
      "\n",
      "All Elfs dead during round 21!\n",
      "\n",
      "#########\n",
      "#.G.....#\n",
      "#G.G#...#\n",
      "#.G##...#\n",
      "#...##..#\n",
      "#.G.#...#\n",
      "#.......#\n",
      "#.......#\n",
      "#########\n",
      "\n",
      "\n",
      "Goblin (2, 1) HP: 137\n",
      "Goblin (1, 2) HP: 200\n",
      "Goblin (3, 2) HP: 200\n",
      "Goblin (2, 3) HP: 200\n",
      "Goblin (2, 5) HP: 200\n",
      "\n",
      "Score = 937 after 20 full rounds, Outcome = 18740\n"
     ]
    }
   ],
   "source": [
    "grid,elfs,gobl = readMap(\"data/day15test8.txt\")\n",
    "score, outcome, r, grid = combat(grid,elfs,gobl,progress=True)"
   ]
  },
  {
   "cell_type": "code",
   "execution_count": 175,
   "metadata": {},
   "outputs": [
    {
     "data": {
      "application/javascript": [
       "IPython.OutputArea.auto_scroll_threshold = 9999;\n"
      ],
      "text/plain": [
       "<IPython.core.display.Javascript object>"
      ]
     },
     "metadata": {},
     "output_type": "display_data"
    }
   ],
   "source": [
    "%%javascript\n",
    "IPython.OutputArea.auto_scroll_threshold = 9999;"
   ]
  },
  {
   "cell_type": "code",
   "execution_count": 176,
   "metadata": {},
   "outputs": [
    {
     "name": "stdout",
     "output_type": "stream",
     "text": [
      "--- Initially ---\n",
      "\n",
      "################################\n",
      "######################........##\n",
      "####################...........#\n",
      "##############G.G..G.#.......#.#\n",
      "#############.....G...#....###.#\n",
      "############..##.G.............#\n",
      "#############...#...GG......####\n",
      "#############......G......######\n",
      "##############G....EG.....######\n",
      "#############.......G.....######\n",
      "############.....G......#.######\n",
      "###########......E...G.#########\n",
      "##########....#####......#######\n",
      "##########G..#######......######\n",
      "######......#########....#######\n",
      "#####....G..#########....#######\n",
      "###.......#.#########....#######\n",
      "###.G.....#.#########E...#######\n",
      "#........##.#########E...#######\n",
      "#.......###..#######...E.#######\n",
      "#.#.#.........#####.......######\n",
      "#.###.#.###.G..............#####\n",
      "####.....###..........E.##.#####\n",
      "#......G####.E..........########\n",
      "###..G..####...........####..###\n",
      "####..########..E......###...###\n",
      "###..............#...E...#.#####\n",
      "##.........##....##........#####\n",
      "#.......#.####.........#########\n",
      "#...##G.##########....E#########\n",
      "#...##...#######################\n",
      "################################\n",
      "\n",
      "Rounds: 1 2 3 4 5 6 7 8 9 10 11 12 13 14 15 16 17 18 19 20 21 22 23 24 25 26 27 28 29 30 31 32 33 34 35 36 37 38 39 40 41 42 43 44 45 46 47 48 49 50 51 52 53 54 55 56 57 58 59 60 61 62 63 64 65 66 67 68 69 70 71 72 73 74 75 76 77 78 79 80 81 82 83 84 85 86 87 88 89 90 \n",
      "\n",
      "All Elfs dead during round 90!\n",
      "\n",
      "################################\n",
      "######################........##\n",
      "####################...........#\n",
      "##############.......#.......#.#\n",
      "#############.........#....###.#\n",
      "############..##...............#\n",
      "#############...#...........####\n",
      "#############.............######\n",
      "##############............######\n",
      "#############..G..........######\n",
      "############............#.######\n",
      "###########....G.......#########\n",
      "##########....#####......#######\n",
      "##########...#######..G...######\n",
      "######.G....#########....#######\n",
      "#####.......#########....#######\n",
      "###.......#.#########....#######\n",
      "###.......#.#########.G..#######\n",
      "#........##G#########....#######\n",
      "#.......###..#######.G...#######\n",
      "#.#.#.........#####G......######\n",
      "#.###G#.###................#####\n",
      "####.G...###............##.#####\n",
      "#.......####..G.........########\n",
      "###.....####.G.GG..G...####..###\n",
      "####..########G........###...###\n",
      "###..............#.......#.#####\n",
      "##.........##....##........#####\n",
      "#.......#.####.........#########\n",
      "#...##..##########.....#########\n",
      "#...##...#######################\n",
      "################################\n",
      "\n",
      "\n",
      "Goblin (15, 9) HP: 149\n",
      "Goblin (15, 11) HP: 200\n",
      "Goblin (22, 13) HP: 200\n",
      "Goblin (7, 14) HP: 200\n",
      "Goblin (22, 17) HP: 17\n",
      "Goblin (11, 18) HP: 200\n",
      "Goblin (21, 19) HP: 143\n",
      "Goblin (19, 20) HP: 200\n",
      "Goblin (5, 21) HP: 200\n",
      "Goblin (5, 22) HP: 200\n",
      "Goblin (14, 23) HP: 38\n",
      "Goblin (13, 24) HP: 200\n",
      "Goblin (15, 24) HP: 200\n",
      "Goblin (16, 24) HP: 71\n",
      "Goblin (19, 24) HP: 200\n",
      "Goblin (14, 25) HP: 152\n",
      "\n",
      "Score = 2570 after 89 full rounds, Outcome = 228730\n"
     ]
    }
   ],
   "source": [
    "grid,elfs,gobl = readMap(\"data/input15.txt\")\n",
    "\n",
    "score, outcome, r, grid = combat(grid,elfs,gobl,progress=True)"
   ]
  },
  {
   "cell_type": "markdown",
   "metadata": {},
   "source": [
    "## Part 2"
   ]
  },
  {
   "cell_type": "code",
   "execution_count": 178,
   "metadata": {},
   "outputs": [
    {
     "name": "stdout",
     "output_type": "stream",
     "text": [
      "--- Initially ---\n",
      "\n",
      "#######\n",
      "#.G...#\n",
      "#...EG#\n",
      "#.#.#G#\n",
      "#..G#E#\n",
      "#.....#\n",
      "#######\n",
      "\n",
      "All Goblins dead during round 30!\n",
      "\n",
      "#######\n",
      "#..E..#\n",
      "#...E.#\n",
      "#.#.#.#\n",
      "#...#.#\n",
      "#.....#\n",
      "#######\n",
      "3 1\n",
      "\n",
      "Elf    (3, 1) HP: 158\n",
      "Elf    (4, 2) HP: 14\n",
      "\n",
      "Score = 172 after 29 full rounds, Outcome = 4988\n"
     ]
    }
   ],
   "source": [
    "grid,elfs,gobl = readMap(\"data/day15test3.txt\")\n",
    "score, outcome, r, grid = combat(grid,elfs,gobl,part=2,elfpower=15)"
   ]
  },
  {
   "cell_type": "code",
   "execution_count": 201,
   "metadata": {},
   "outputs": [],
   "source": [
    "def increaseElfPower(grid,elfs,gobl,verbose=True):\n",
    "    ep = 4\n",
    "    while True:\n",
    "        print(\"Trying elf power = {:3d} ... \".format(ep),end=\"\")\n",
    "        score, outcome, fr, gridend = combat(grid,elfs,gobl,part=2,elfpower=ep,silent=True)\n",
    "        if score!=-1:\n",
    "            print(\"Finally successfull!\")\n",
    "            print(\"\\nElf power = {} => Score = {} after {} full rounds, Outcome = {}\".format(ep,score,fr,outcome))\n",
    "            return\n",
    "        ep += 1"
   ]
  },
  {
   "cell_type": "code",
   "execution_count": 190,
   "metadata": {},
   "outputs": [
    {
     "name": "stdout",
     "output_type": "stream",
     "text": [
      "Trying elf power =   4 ... An elf died! Power 4 not enough\n",
      "Trying elf power =   5 ... An elf died! Power 5 not enough\n",
      "Trying elf power =   6 ... An elf died! Power 6 not enough\n",
      "Trying elf power =   7 ... An elf died! Power 7 not enough\n",
      "Trying elf power =   8 ... An elf died! Power 8 not enough\n",
      "Trying elf power =   9 ... An elf died! Power 9 not enough\n",
      "Trying elf power =  10 ... An elf died! Power 10 not enough\n",
      "Trying elf power =  11 ... An elf died! Power 11 not enough\n",
      "Trying elf power =  12 ... An elf died! Power 12 not enough\n",
      "Trying elf power =  13 ... An elf died! Power 13 not enough\n",
      "Trying elf power =  14 ... An elf died! Power 14 not enough\n",
      "Trying elf power =  15 ... Finally successfull!\n",
      "\n",
      "Elf power = 15 => Score = 172 after 29 full rounds, Outcome = 4988\n"
     ]
    }
   ],
   "source": [
    "grid,elfs,gobl = readMap(\"data/day15test3.txt\")\n",
    "increaseElfPower(grid,elfs,gobl)"
   ]
  },
  {
   "cell_type": "code",
   "execution_count": 191,
   "metadata": {},
   "outputs": [
    {
     "name": "stdout",
     "output_type": "stream",
     "text": [
      "Trying elf power =   4 ... Finally successfull!\n",
      "\n",
      "Elf power = 4 => Score = 1038 after 28 full rounds, Outcome = 29064\n"
     ]
    }
   ],
   "source": [
    "grid,elfs,gobl = readMap(\"data/day15test4.txt\")\n",
    "increaseElfPower(grid,elfs,gobl)"
   ]
  },
  {
   "cell_type": "code",
   "execution_count": 192,
   "metadata": {},
   "outputs": [
    {
     "name": "stdout",
     "output_type": "stream",
     "text": [
      "Trying elf power =   4 ... Finally successfull!\n",
      "\n",
      "Elf power = 4 => Score = 948 after 33 full rounds, Outcome = 31284\n"
     ]
    }
   ],
   "source": [
    "grid,elfs,gobl = readMap(\"data/day15test5.txt\")\n",
    "increaseElfPower(grid,elfs,gobl)"
   ]
  },
  {
   "cell_type": "code",
   "execution_count": 193,
   "metadata": {},
   "outputs": [
    {
     "name": "stdout",
     "output_type": "stream",
     "text": [
      "Trying elf power =   4 ... An elf died! Power 4 not enough\n",
      "Trying elf power =   5 ... An elf died! Power 5 not enough\n",
      "Trying elf power =   6 ... An elf died! Power 6 not enough\n",
      "Trying elf power =   7 ... An elf died! Power 7 not enough\n",
      "Trying elf power =   8 ... An elf died! Power 8 not enough\n",
      "Trying elf power =   9 ... An elf died! Power 9 not enough\n",
      "Trying elf power =  10 ... An elf died! Power 10 not enough\n",
      "Trying elf power =  11 ... An elf died! Power 11 not enough\n",
      "Trying elf power =  12 ... An elf died! Power 12 not enough\n",
      "Trying elf power =  13 ... An elf died! Power 13 not enough\n",
      "Trying elf power =  14 ... An elf died! Power 14 not enough\n",
      "Trying elf power =  15 ... Finally successfull!\n",
      "\n",
      "Elf power = 15 => Score = 94 after 37 full rounds, Outcome = 3478\n"
     ]
    }
   ],
   "source": [
    "grid,elfs,gobl = readMap(\"data/day15test6.txt\")\n",
    "increaseElfPower(grid,elfs,gobl)"
   ]
  },
  {
   "cell_type": "code",
   "execution_count": 194,
   "metadata": {},
   "outputs": [
    {
     "name": "stdout",
     "output_type": "stream",
     "text": [
      "Trying elf power =   4 ... An elf died! Power 4 not enough\n",
      "Trying elf power =   5 ... An elf died! Power 5 not enough\n",
      "Trying elf power =   6 ... An elf died! Power 6 not enough\n",
      "Trying elf power =   7 ... An elf died! Power 7 not enough\n",
      "Trying elf power =   8 ... An elf died! Power 8 not enough\n",
      "Trying elf power =   9 ... An elf died! Power 9 not enough\n",
      "Trying elf power =  10 ... An elf died! Power 10 not enough\n",
      "Trying elf power =  11 ... An elf died! Power 11 not enough\n",
      "Trying elf power =  12 ... Finally successfull!\n",
      "\n",
      "Elf power = 12 => Score = 166 after 39 full rounds, Outcome = 6474\n"
     ]
    }
   ],
   "source": [
    "grid,elfs,gobl = readMap(\"data/day15test7.txt\")\n",
    "increaseElfPower(grid,elfs,gobl)"
   ]
  },
  {
   "cell_type": "code",
   "execution_count": 200,
   "metadata": {},
   "outputs": [
    {
     "name": "stdout",
     "output_type": "stream",
     "text": [
      "Trying elf power =   4 ... An elf died! Power 4 not enough\n",
      "Trying elf power =   5 ... An elf died! Power 5 not enough\n",
      "Trying elf power =   6 ... An elf died! Power 6 not enough\n",
      "Trying elf power =   7 ... An elf died! Power 7 not enough\n",
      "Trying elf power =   8 ... An elf died! Power 8 not enough\n",
      "Trying elf power =   9 ... An elf died! Power 9 not enough\n",
      "Trying elf power =  10 ... An elf died! Power 10 not enough\n",
      "Trying elf power =  11 ... An elf died! Power 11 not enough\n",
      "Trying elf power =  12 ... An elf died! Power 12 not enough\n",
      "Trying elf power =  13 ... An elf died! Power 13 not enough\n",
      "Trying elf power =  14 ... An elf died! Power 14 not enough\n",
      "Trying elf power =  15 ... An elf died! Power 15 not enough\n",
      "Trying elf power =  16 ... An elf died! Power 16 not enough\n",
      "Trying elf power =  17 ... An elf died! Power 17 not enough\n",
      "Trying elf power =  18 ... An elf died! Power 18 not enough\n",
      "Trying elf power =  19 ... An elf died! Power 19 not enough\n",
      "Trying elf power =  20 ... An elf died! Power 20 not enough\n",
      "Trying elf power =  21 ... An elf died! Power 21 not enough\n",
      "Trying elf power =  22 ... An elf died! Power 22 not enough\n",
      "Trying elf power =  23 ... An elf died! Power 23 not enough\n",
      "Trying elf power =  24 ... An elf died! Power 24 not enough\n",
      "Trying elf power =  25 ... An elf died! Power 25 not enough\n",
      "Trying elf power =  26 ... An elf died! Power 26 not enough\n",
      "Trying elf power =  27 ... An elf died! Power 27 not enough\n",
      "Trying elf power =  28 ... An elf died! Power 28 not enough\n",
      "Trying elf power =  29 ... An elf died! Power 29 not enough\n",
      "Trying elf power =  30 ... An elf died! Power 30 not enough\n",
      "Trying elf power =  31 ... An elf died! Power 31 not enough\n",
      "Trying elf power =  32 ... An elf died! Power 32 not enough\n",
      "Trying elf power =  33 ... An elf died! Power 33 not enough\n",
      "Trying elf power =  34 ... Finally successfull!\n",
      "\n",
      "Elf power = 34 => Score = 38 after 30 full rounds, Outcome = 1140\n"
     ]
    }
   ],
   "source": [
    "grid,elfs,gobl = readMap(\"data/day15test8.txt\")\n",
    "increaseElfPower(grid,elfs,gobl)"
   ]
  },
  {
   "cell_type": "code",
   "execution_count": 199,
   "metadata": {},
   "outputs": [
    {
     "name": "stdout",
     "output_type": "stream",
     "text": [
      "Trying elf power =   4 ... An elf died! Power 4 not enough\n",
      "Trying elf power =   5 ... An elf died! Power 5 not enough\n",
      "Trying elf power =   6 ... An elf died! Power 6 not enough\n",
      "Trying elf power =   7 ... An elf died! Power 7 not enough\n",
      "Trying elf power =   8 ... An elf died! Power 8 not enough\n",
      "Trying elf power =   9 ... An elf died! Power 9 not enough\n",
      "Trying elf power =  10 ... An elf died! Power 10 not enough\n",
      "Trying elf power =  11 ... An elf died! Power 11 not enough\n",
      "Trying elf power =  12 ... An elf died! Power 12 not enough\n",
      "Trying elf power =  13 ... An elf died! Power 13 not enough\n",
      "Trying elf power =  14 ... An elf died! Power 14 not enough\n",
      "Trying elf power =  15 ... An elf died! Power 15 not enough\n",
      "Trying elf power =  16 ... An elf died! Power 16 not enough\n",
      "Trying elf power =  17 ... An elf died! Power 17 not enough\n",
      "Trying elf power =  18 ... An elf died! Power 18 not enough\n",
      "Trying elf power =  19 ... An elf died! Power 19 not enough\n",
      "Trying elf power =  20 ... An elf died! Power 20 not enough\n",
      "Trying elf power =  21 ... An elf died! Power 21 not enough\n",
      "Trying elf power =  22 ... An elf died! Power 22 not enough\n",
      "Trying elf power =  23 ... An elf died! Power 23 not enough\n",
      "Trying elf power =  24 ... An elf died! Power 24 not enough\n",
      "Trying elf power =  25 ... An elf died! Power 25 not enough\n",
      "Trying elf power =  26 ... An elf died! Power 26 not enough\n",
      "Trying elf power =  27 ... An elf died! Power 27 not enough\n",
      "Trying elf power =  28 ... An elf died! Power 28 not enough\n",
      "Trying elf power =  29 ... An elf died! Power 29 not enough\n",
      "Trying elf power =  30 ... An elf died! Power 30 not enough\n",
      "Trying elf power =  31 ... An elf died! Power 31 not enough\n",
      "Trying elf power =  32 ... An elf died! Power 32 not enough\n",
      "Trying elf power =  33 ... An elf died! Power 33 not enough\n",
      "Trying elf power =  34 ... An elf died! Power 34 not enough\n",
      "Trying elf power =  35 ... An elf died! Power 35 not enough\n",
      "Trying elf power =  36 ... An elf died! Power 36 not enough\n",
      "Trying elf power =  37 ... An elf died! Power 37 not enough\n",
      "Trying elf power =  38 ... An elf died! Power 38 not enough\n",
      "Trying elf power =  39 ... An elf died! Power 39 not enough\n",
      "Trying elf power =  40 ... Finally successfull!\n",
      "\n",
      "Elf power = 40 => Score = 1601 after 21 full rounds, Outcome = 33621\n"
     ]
    }
   ],
   "source": [
    "grid,elfs,gobl = readMap(\"data/input15.txt\")\n",
    "increaseElfPower(grid,elfs,gobl)"
   ]
  },
  {
   "cell_type": "code",
   "execution_count": null,
   "metadata": {},
   "outputs": [],
   "source": []
  }
 ],
 "metadata": {
  "kernelspec": {
   "display_name": "Python 3",
   "language": "python",
   "name": "python3"
  },
  "language_info": {
   "codemirror_mode": {
    "name": "ipython",
    "version": 3
   },
   "file_extension": ".py",
   "mimetype": "text/x-python",
   "name": "python",
   "nbconvert_exporter": "python",
   "pygments_lexer": "ipython3",
   "version": "3.9.2"
  }
 },
 "nbformat": 4,
 "nbformat_minor": 4
}
