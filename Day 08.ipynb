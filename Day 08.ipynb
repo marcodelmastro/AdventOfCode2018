{
 "cells": [
  {
   "cell_type": "markdown",
   "metadata": {},
   "source": [
    "# Day 8: Memory Maneuver"
   ]
  },
  {
   "cell_type": "code",
   "execution_count": 98,
   "metadata": {},
   "outputs": [],
   "source": [
    "def metadatasum(values,metatot=0,verbose=False):\n",
    "    # sum of metadata initialised at 0 at first call, the actual value passed to recursive calls\n",
    "    \n",
    "    # remove header\n",
    "    children = values.pop(0)\n",
    "    nmeta = values.pop(0)\n",
    "    if verbose: print(\"+++\",children,nmeta,values)\n",
    "    \n",
    "    # recurse if children\n",
    "    if children>0:\n",
    "        for _ in range(children):\n",
    "            metatot, values = metadatasum(values,metatot,verbose)\n",
    "            if verbose: print(\"---\",metatot,values)\n",
    "    \n",
    "    # sum meta value by removing them from list\n",
    "    for _ in range(nmeta):\n",
    "        if verbose: print(\"M +=\",values[0])\n",
    "        metatot += values.pop(0)\n",
    "    \n",
    "    # return current sum of metadata and remaining value list\n",
    "    if verbose: print(\"***\",metatot,values)\n",
    "    return metatot, values"
   ]
  },
  {
   "cell_type": "code",
   "execution_count": 99,
   "metadata": {},
   "outputs": [
    {
     "name": "stdout",
     "output_type": "stream",
     "text": [
      "+++ 2 3 [0, 3, 10, 11, 12, 1, 1, 0, 1, 99, 2, 1, 1, 2]\n",
      "+++ 0 3 [10, 11, 12, 1, 1, 0, 1, 99, 2, 1, 1, 2]\n",
      "M += 10\n",
      "M += 11\n",
      "M += 12\n",
      "*** 33 [1, 1, 0, 1, 99, 2, 1, 1, 2]\n",
      "--- 33 [1, 1, 0, 1, 99, 2, 1, 1, 2]\n",
      "+++ 1 1 [0, 1, 99, 2, 1, 1, 2]\n",
      "+++ 0 1 [99, 2, 1, 1, 2]\n",
      "M += 99\n",
      "*** 132 [2, 1, 1, 2]\n",
      "--- 132 [2, 1, 1, 2]\n",
      "M += 2\n",
      "*** 134 [1, 1, 2]\n",
      "--- 134 [1, 1, 2]\n",
      "M += 1\n",
      "M += 1\n",
      "M += 2\n",
      "*** 138 []\n",
      "Test 1 = 138\n"
     ]
    }
   ],
   "source": [
    "# 2 3 0 3 10 11 12 1 1 0 1 99 2 1 1 2\n",
    "# A----------------------------------\n",
    "#     B----------- C-----------\n",
    "#                      D-----\n",
    "\n",
    "# 1+1+2+10+11+12+2+99=138\n",
    "\n",
    "test = \"2 3 0 3 10 11 12 1 1 0 1 99 2 1 1 2\"\n",
    "values_test = [ int(v) for v in test.split(\" \") ]\n",
    "mst,_ = metadatasum(list(values_test),verbose=True)\n",
    "print(\"Test 1 =\",mst)"
   ]
  },
  {
   "cell_type": "code",
   "execution_count": 100,
   "metadata": {},
   "outputs": [
    {
     "name": "stdout",
     "output_type": "stream",
     "text": [
      "Part 1 = 42196\n"
     ]
    }
   ],
   "source": [
    "with open(\"data/input08.txt\") as f:\n",
    "    values = [ int(v) for v in f.readlines()[0].strip(\"\\n\").split(\" \") ]\n",
    "    \n",
    "ms,_ = metadatasum(list(values),verbose=False)\n",
    "print(\"Part 1 =\",ms)"
   ]
  },
  {
   "cell_type": "code",
   "execution_count": null,
   "metadata": {},
   "outputs": [],
   "source": []
  }
 ],
 "metadata": {
  "kernelspec": {
   "display_name": "Python 3",
   "language": "python",
   "name": "python3"
  },
  "language_info": {
   "codemirror_mode": {
    "name": "ipython",
    "version": 3
   },
   "file_extension": ".py",
   "mimetype": "text/x-python",
   "name": "python",
   "nbconvert_exporter": "python",
   "pygments_lexer": "ipython3",
   "version": "3.9.2"
  }
 },
 "nbformat": 4,
 "nbformat_minor": 4
}
