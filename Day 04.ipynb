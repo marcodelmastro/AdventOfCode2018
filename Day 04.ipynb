{
 "cells": [
  {
   "cell_type": "markdown",
   "metadata": {},
   "source": [
    "# Day 4: Repose Record"
   ]
  },
  {
   "cell_type": "code",
   "execution_count": 126,
   "metadata": {},
   "outputs": [],
   "source": [
    "from datetime import datetime\n",
    "\n",
    "def readSleeptingData(filename):\n",
    "    with open(filename) as f:\n",
    "        lines = [ l.rstrip('\\n') for l in f]\n",
    "    records = []\n",
    "    for l in lines:\n",
    "        time = datetime.fromisoformat(l[1:17])\n",
    "        rec = l[19:]\n",
    "        records.append((time,rec))\n",
    "    records.sort()\n",
    "    return records\n",
    "\n",
    "from collections import defaultdict\n",
    "\n",
    "def processSleeptingData(records):\n",
    "    asleep = defaultdict(int) # total quantity of slept time\n",
    "    naps = defaultdict(lambda: []) # nap intervals\n",
    "    g = 0\n",
    "    ft = 0\n",
    "    wt = 0\n",
    "    slept = 0\n",
    "    for r in records:\n",
    "        if r[1][0] == \"G\": # found a guard\n",
    "            g = int(r[1].split(\" \")[1][1:])\n",
    "        if r[1][0] == \"f\": # falls asleep\n",
    "            ft = r[0]\n",
    "        if r[1][0] == \"w\": # wakes up\n",
    "            wt = r[0]\n",
    "            slept = wt-ft\n",
    "            asleep[g] += slept.seconds//60 # sum how much the guard slept\n",
    "            naps[g].append((ft,wt)) # nap interval\n",
    "    return asleep, naps\n",
    "        \n",
    "from datetime import timedelta\n",
    "from collections import Counter\n",
    "\n",
    "def getMaxSleptMinute(g,naps):\n",
    "    minutes = defaultdict(int)\n",
    "    for t in naps[g]:\n",
    "        for x in range( (t[1]-t[0]).seconds//60  ):\n",
    "            m = (t[0]+timedelta(minutes=x)).minute\n",
    "            minutes[m] += 1\n",
    "    counter = Counter(minutes)\n",
    "    return counter.most_common()[0]\n",
    "\n",
    "def strategy1(records):\n",
    "    asleep,naps = processSleeptingData(records)\n",
    "    guards = Counter(asleep)\n",
    "    g = guards.most_common()[0][0]\n",
    "    m = getMaxSleptMinute(g,naps)[0]\n",
    "    print(g,m,\"->\",g*m)\n",
    "    return g*m"
   ]
  },
  {
   "cell_type": "code",
   "execution_count": 127,
   "metadata": {},
   "outputs": [
    {
     "name": "stdout",
     "output_type": "stream",
     "text": [
      "10 24 -> 240\n"
     ]
    }
   ],
   "source": [
    "filename = \"data/day04test0.txt\"\n",
    "\n",
    "records = readSleeptingData(filename)\n",
    "s = strategy1(records)"
   ]
  },
  {
   "cell_type": "code",
   "execution_count": 128,
   "metadata": {},
   "outputs": [
    {
     "name": "stdout",
     "output_type": "stream",
     "text": [
      "1987 34 -> 67558\n"
     ]
    }
   ],
   "source": [
    "filename = \"data/input04.txt\"\n",
    "records = readSleeptingData(filename)\n",
    "s = strategy1(records)"
   ]
  },
  {
   "cell_type": "code",
   "execution_count": 154,
   "metadata": {},
   "outputs": [],
   "source": [
    "def strategy2(records):\n",
    "    _,naps = processSleeptingData(records)\n",
    "    gsleep = []\n",
    "    for g in naps.keys():\n",
    "        m,howmany = getMaxSleptMinute(g,naps)\n",
    "        gsleep.append((g,m,howmany))\n",
    "    gsleep=sorted(gsleep,key=lambda x: -x[2]) # sort according to most slept minute\n",
    "    print(gsleep[0],\"->\",gsleep[0][0]*gsleep[0][1])\n",
    "    return gsleep[0][0]*gsleep[0][1]"
   ]
  },
  {
   "cell_type": "code",
   "execution_count": 155,
   "metadata": {},
   "outputs": [
    {
     "name": "stdout",
     "output_type": "stream",
     "text": [
      "(2633, 30, 17) -> 78990\n"
     ]
    },
    {
     "data": {
      "text/plain": [
       "78990"
      ]
     },
     "execution_count": 155,
     "metadata": {},
     "output_type": "execute_result"
    }
   ],
   "source": [
    "strategy2(records)"
   ]
  },
  {
   "cell_type": "code",
   "execution_count": null,
   "metadata": {},
   "outputs": [],
   "source": []
  }
 ],
 "metadata": {
  "kernelspec": {
   "display_name": "Python 3",
   "language": "python",
   "name": "python3"
  },
  "language_info": {
   "codemirror_mode": {
    "name": "ipython",
    "version": 3
   },
   "file_extension": ".py",
   "mimetype": "text/x-python",
   "name": "python",
   "nbconvert_exporter": "python",
   "pygments_lexer": "ipython3",
   "version": "3.9.2"
  }
 },
 "nbformat": 4,
 "nbformat_minor": 2
}
