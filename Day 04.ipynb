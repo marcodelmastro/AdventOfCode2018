{
 "cells": [
  {
   "cell_type": "code",
   "execution_count": 32,
   "metadata": {},
   "outputs": [
    {
     "data": {
      "text/plain": [
       "[(datetime.datetime(1518, 11, 1, 0, 0), 'Guard #10 begins shift'),\n",
       " (datetime.datetime(1518, 11, 1, 0, 5), 'falls asleep'),\n",
       " (datetime.datetime(1518, 11, 1, 0, 25), 'wakes up'),\n",
       " (datetime.datetime(1518, 11, 1, 0, 30), 'falls asleep'),\n",
       " (datetime.datetime(1518, 11, 1, 0, 55), 'wakes up'),\n",
       " (datetime.datetime(1518, 11, 1, 23, 58), 'Guard #99 begins shift'),\n",
       " (datetime.datetime(1518, 11, 2, 0, 40), 'falls asleep'),\n",
       " (datetime.datetime(1518, 11, 2, 0, 50), 'wakes up'),\n",
       " (datetime.datetime(1518, 11, 3, 0, 5), 'Guard #10 begins shift'),\n",
       " (datetime.datetime(1518, 11, 3, 0, 24), 'falls asleep'),\n",
       " (datetime.datetime(1518, 11, 3, 0, 29), 'wakes up'),\n",
       " (datetime.datetime(1518, 11, 4, 0, 2), 'Guard #99 begins shift'),\n",
       " (datetime.datetime(1518, 11, 4, 0, 36), 'falls asleep'),\n",
       " (datetime.datetime(1518, 11, 4, 0, 46), 'wakes up'),\n",
       " (datetime.datetime(1518, 11, 5, 0, 3), 'Guard #99 begins shift'),\n",
       " (datetime.datetime(1518, 11, 5, 0, 45), 'falls asleep'),\n",
       " (datetime.datetime(1518, 11, 5, 0, 55), 'wakes up')]"
      ]
     },
     "execution_count": 32,
     "metadata": {},
     "output_type": "execute_result"
    }
   ],
   "source": [
    "filename = \"data/day04test0.txt\"\n",
    "\n",
    "from datetime import datetime\n",
    "\n",
    "with open(filename) as f:\n",
    "    lines = [ l.rstrip('\\n') for l in f]\n",
    "\n",
    "records = []\n",
    "for l in lines:\n",
    "    time = datetime.fromisoformat(l[1:17])\n",
    "    rec = l[19:]\n",
    "    records.append((time,rec))\n",
    "    \n",
    "records.sort()\n",
    "records"
   ]
  },
  {
   "cell_type": "code",
   "execution_count": 30,
   "metadata": {},
   "outputs": [
    {
     "name": "stdout",
     "output_type": "stream",
     "text": [
      "1518-11-01 00:00:00\n",
      "1518-11-01 00:01:00\n"
     ]
    }
   ],
   "source": [
    "# How do I increment the time by one minute?\n",
    "\n",
    "from dateutil.relativedelta import relativedelta\n",
    "\n",
    "d = datetime(1518, 11, 1, 0, 0)\n",
    "print(d)\n",
    "d += relativedelta(minutes=1)\n",
    "print(d)"
   ]
  },
  {
   "cell_type": "code",
   "execution_count": 39,
   "metadata": {},
   "outputs": [
    {
     "data": {
      "text/plain": [
       "datetime.timedelta(days=4, seconds=3300)"
      ]
     },
     "execution_count": 39,
     "metadata": {},
     "output_type": "execute_result"
    }
   ],
   "source": [
    "timestart = records[0][0]\n",
    "timeend = records[-1][0]\n",
    "timespan = timeend-timestart\n",
    "timespan"
   ]
  },
  {
   "cell_type": "code",
   "execution_count": null,
   "metadata": {},
   "outputs": [],
   "source": []
  }
 ],
 "metadata": {
  "kernelspec": {
   "display_name": "Python 3",
   "language": "python",
   "name": "python3"
  },
  "language_info": {
   "codemirror_mode": {
    "name": "ipython",
    "version": 3
   },
   "file_extension": ".py",
   "mimetype": "text/x-python",
   "name": "python",
   "nbconvert_exporter": "python",
   "pygments_lexer": "ipython3",
   "version": "3.9.0"
  }
 },
 "nbformat": 4,
 "nbformat_minor": 2
}
