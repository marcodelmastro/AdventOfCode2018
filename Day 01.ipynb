{
 "cells": [
  {
   "cell_type": "markdown",
   "metadata": {},
   "source": [
    "## Day 1"
   ]
  },
  {
   "cell_type": "code",
   "execution_count": 1,
   "metadata": {},
   "outputs": [],
   "source": [
    "with open(\"./data/input1.txt\") as f:\n",
    "    values = [ int(l.rstrip('\\n')) for l in f]"
   ]
  },
  {
   "cell_type": "code",
   "execution_count": 2,
   "metadata": {},
   "outputs": [
    {
     "data": {
      "text/plain": [
       "505"
      ]
     },
     "execution_count": 2,
     "metadata": {},
     "output_type": "execute_result"
    }
   ],
   "source": [
    "import numpy as np\n",
    "c = np.array(values)\n",
    "c.sum()"
   ]
  },
  {
   "cell_type": "code",
   "execution_count": 4,
   "metadata": {},
   "outputs": [
    {
     "name": "stdout",
     "output_type": "stream",
     "text": [
      "***********************************************************************************************************************************************\n",
      "Frequency first seen twice = 72330\n",
      "Execution time = 230.933098 seconds\n",
      "List of frequency changes repeated 143 times\n"
     ]
    }
   ],
   "source": [
    "import time\n",
    "\n",
    "#c = np.array([+1, -2, +3, +1]) #  first reaches 2 twice.\n",
    "#c = np.array([+3, +3, +4, -2, -4]) #  first reaches 10 twice.\n",
    "#c = np.array([-6, +3, +8, +5, -6]) #  first reaches 5 twice.\n",
    "#c = np.array([+7, +7, -2, -7, -4]) #  first reaches 14 twice.\n",
    "\n",
    "c = np.array(values)\n",
    "\n",
    "lf = []\n",
    "f = 0\n",
    "i = 0\n",
    "j = 0 # count how many times I have to repeat the list of frequency changes\n",
    "start_time = time.time()\n",
    "\n",
    "while( lf.count(f)<2 ): # efficient?\n",
    "    f += c[i]\n",
    "    lf.append(f) \n",
    "    i += 1\n",
    "    if i==len(c): \n",
    "        i=0\n",
    "        j+=1\n",
    "        print(\"*\",end=\"\")\n",
    "\n",
    "print(\"\\nFrequency first seen twice =\",f)\n",
    "print(\"Execution time = %f seconds\" % (time.time() - start_time))\n",
    "print(\"List of frequency changes repeated\",j,\"times\")"
   ]
  },
  {
   "cell_type": "code",
   "execution_count": null,
   "metadata": {},
   "outputs": [],
   "source": []
  }
 ],
 "metadata": {
  "kernelspec": {
   "display_name": "Python 3",
   "language": "python",
   "name": "python3"
  },
  "language_info": {
   "codemirror_mode": {
    "name": "ipython",
    "version": 3
   },
   "file_extension": ".py",
   "mimetype": "text/x-python",
   "name": "python",
   "nbconvert_exporter": "python",
   "pygments_lexer": "ipython3",
   "version": "3.9.0"
  }
 },
 "nbformat": 4,
 "nbformat_minor": 2
}
