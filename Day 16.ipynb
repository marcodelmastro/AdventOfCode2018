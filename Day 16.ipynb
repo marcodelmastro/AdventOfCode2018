{
 "cells": [
  {
   "cell_type": "markdown",
   "metadata": {},
   "source": [
    "# Day 16: Chronal Classification"
   ]
  },
  {
   "cell_type": "code",
   "execution_count": 16,
   "metadata": {},
   "outputs": [],
   "source": [
    "def addr(a,b,c,reg):\n",
    "    '''(add register) stores into register C the result of adding register A and register B.'''\n",
    "    reg[c] = reg[a] + reg[b]\n",
    "    return reg\n",
    "\n",
    "def addi(a,b,c,reg):\n",
    "    '''(add immediate) stores into register C the result of adding register A and value B.'''\n",
    "    reg[c] = reg[a] + b\n",
    "    return reg\n",
    "\n",
    "def mulr(a,b,c,reg):\n",
    "    '''(multiply register) stores into register C the result of multiplying register A and register B.'''\n",
    "    reg[c] = reg[a] * reg[b]\n",
    "    return reg\n",
    "    \n",
    "def muli(a,b,c,reg):\n",
    "    '''muli (multiply immediate) stores into register C the result of multiplying register A and value B.'''\n",
    "    reg[c] = reg[a] * b\n",
    "    return reg\n",
    "\n",
    "def banr(a,b,c,reg):\n",
    "    '''(bitwise AND register) stores into register C the result of the bitwise AND of register A and register B.'''\n",
    "    reg[c] = reg[a] & reg[b]\n",
    "    return reg\n",
    "\n",
    "def bani(a,b,c,reg):\n",
    "    '''(bitwise AND immediate) stores into register C the result of the bitwise AND of register A and value B.'''\n",
    "    reg[c] = reg[a] & b\n",
    "    return reg\n",
    "    \n",
    "def borr(a,b,c,reg):\n",
    "    ''' (bitwise OR register) stores into register C the result of the bitwise OR of register A and register B.'''\n",
    "    reg[c] = reg[a] | reg[b]\n",
    "    return reg\n",
    "\n",
    "def bori(a,b,c,reg):\n",
    "    ''' (bitwise OR immediate) stores into register C the result of the bitwise OR of register A and value B.'''\n",
    "    reg[c] = reg[a] | b\n",
    "    return reg\n",
    "\n",
    "def setr(a,b,c,reg):\n",
    "    ''' (set register) copies the contents of register A into register C. (Input B is ignored.)'''\n",
    "    reg[c] = reg[a]\n",
    "    return reg\n",
    "    \n",
    "def seti(a,b,c,reg):\n",
    "    ''' (set immediate) stores value A into register C. (Input B is ignored.)'''\n",
    "    reg[c] = a\n",
    "    return reg\n",
    "\n",
    "def gtir(a,b,c,reg):\n",
    "    ''' (greater-than immediate/register) sets register C to 1 if value A is greater than register B. Otherwise, register C is set to 0.'''\n",
    "    if a>reg[b]:\n",
    "        reg[c]=1\n",
    "    else:\n",
    "        reg[c]=0\n",
    "    return reg\n",
    "    \n",
    "def gtri(a,b,c,reg):\n",
    "    ''' (greater-than register/immediate) sets register C to 1 if register A is greater than value B. Otherwise, register C is set to 0.'''\n",
    "    if reg[a]>b:\n",
    "        reg[c]=1\n",
    "    else:\n",
    "        reg[c]=0\n",
    "    return reg\n",
    "\n",
    "def gtrr(a,b,c,reg):\n",
    "    ''' (greater-than register/register) sets register C to 1 if register A is greater than register B. Otherwise, register C is set to 0.'''\n",
    "    if reg[a]>reg[b]:\n",
    "        reg[c]=1\n",
    "    else:\n",
    "        reg[c]=0\n",
    "    return reg\n",
    "    \n",
    "def eqir (a,b,c,reg):\n",
    "    '''(equal immediate/register) sets register C to 1 if value A is equal to register B. Otherwise, register C is set to 0.'''\n",
    "    if a==reg[b]:\n",
    "        reg[c]=1\n",
    "    else:\n",
    "        reg[c]=0\n",
    "    return reg\n",
    "\n",
    "def eqri(a,b,c,reg):\n",
    "    ''' (equal register/immediate) sets register C to 1 if register A is equal to value B. Otherwise, register C is set to 0.'''\n",
    "    if reg[a]==b:\n",
    "        reg[c]=1\n",
    "    else:\n",
    "        reg[c]=0\n",
    "    return reg\n",
    "\n",
    "def eqrr(a,b,c,reg):\n",
    "    ''' (equal register/register) sets register C to 1 if register A is equal to register B. Otherwise, register C is set to 0.'''\n",
    "    if reg[a]==reg[b]:\n",
    "        reg[c]=1\n",
    "    else:\n",
    "        reg[c]=0\n",
    "    return reg\n",
    "\n",
    "def opcode(i,a,b,c,reg):\n",
    "    if   i==0: return addr(a,b,c,reg)\n",
    "    elif i==1: return addi(a,b,c,reg)\n",
    "    elif i==2: return mulr(a,b,c,reg)\n",
    "    elif i==3: return muli(a,b,c,reg)\n",
    "    elif i==4: return banr(a,b,c,reg)\n",
    "    elif i==5: return bani(a,b,c,reg)\n",
    "    elif i==6: return borr(a,b,c,reg)\n",
    "    elif i==7: return bori(a,b,c,reg)\n",
    "    elif i==8: return setr(a,b,c,reg)\n",
    "    elif i==9: return seti(a,b,c,reg)\n",
    "    elif i==10: return gtir(a,b,c,reg)\n",
    "    elif i==11: return gtri(a,b,c,reg)\n",
    "    elif i==12: return gtrr(a,b,c,reg)\n",
    "    elif i==13: return eqir(a,b,c,reg)\n",
    "    elif i==14: return eqri(a,b,c,reg)\n",
    "    elif i==15: return eqrr(a,b,c,reg) "
   ]
  },
  {
   "cell_type": "markdown",
   "metadata": {},
   "source": [
    "## Part 1\n",
    "\n",
    "Testing all test codes with the 16 opcodes, counting how many gives a compatible register.\n",
    "\n",
    "Also filling a 3D correlation matrix to be used fpr Part 2."
   ]
  },
  {
   "cell_type": "code",
   "execution_count": 112,
   "metadata": {},
   "outputs": [
    {
     "name": "stdout",
     "output_type": "stream",
     "text": [
      "547\n"
     ]
    }
   ],
   "source": [
    "from copy import deepcopy\n",
    "import numpy as np\n",
    "\n",
    "with open(\"data/input16_opc.txt\") as f:\n",
    "    testcodes = [[ l.strip(\"\\n\") for l in ll.split(\"\\n\") ] for ll in f.read().split(\"\\n\\n\") ]\n",
    "\n",
    "co_gt_3 = 0\n",
    "\n",
    "corr3D = np.zeros((len(testcodes),16,16),dtype=int)\n",
    "it = 0\n",
    "\n",
    "for t in testcodes:\n",
    "    \n",
    "    reg = [ int(d) for d in t[0].replace(\"Before: [\",\"\").replace(\"]\",\"\").split(\", \")]\n",
    "    regaft = [ int(d) for d in t[2].replace(\"After:  [\",\"\").replace(\"]\",\"\").split(\", \")]\n",
    "    op = [ int(d) for d in t[1].split(\" \") ]\n",
    "        \n",
    "    o = op[0]\n",
    "    a = op[1]\n",
    "    b = op[2]\n",
    "    c = op[3]\n",
    "\n",
    "    co = 0\n",
    "    for i in range(16):\n",
    "        regin = deepcopy(reg)\n",
    "        if regaft == opcode(i,a,b,c,regin):\n",
    "            co+=1\n",
    "            corr3D[it][o][i] = 1\n",
    "    if co >=3:\n",
    "        co_gt_3 += 1\n",
    "    it += 1\n",
    "\n",
    "print(co_gt_3)"
   ]
  },
  {
   "cell_type": "markdown",
   "metadata": {},
   "source": [
    "## Part 2\n",
    "\n",
    "Reduce correlation matrix by \"and-ing\" all results from the testcodes. Result is a 16x16 matrix correlating the opcode number and the index in my implementation (would certainly not be solved yet, but I expect at lest one opcode with a single correspondence, to be used to further reduce the matrix)."
   ]
  },
  {
   "cell_type": "code",
   "execution_count": 137,
   "metadata": {},
   "outputs": [
    {
     "data": {
      "image/png": "[encoded data removed]",
      "text/plain": [
       "<Figure size 500x500 with 1 Axes>"
      ]
     },
     "metadata": {
      "needs_background": "light"
     },
     "output_type": "display_data"
    }
   ],
   "source": [
    "corrand = np.ones((16,16),dtype=int)\n",
    "\n",
    "for c in corr3D:\n",
    "    for o in range(16):\n",
    "        if sum(c[o])>0:\n",
    "            for i in range(16):\n",
    "                corrand[o][i] = corrand[o][i] and c[o][i]\n",
    "                \n",
    "import matplotlib.pyplot as plt\n",
    "\n",
    "fig, ax = plt.subplots(figsize=(5,5),dpi=100)\n",
    "plt.imshow(corrand,cmap=\"binary\")\n",
    "ax.set_ylabel('opcode')\n",
    "ax.set_xlabel('index')\n",
    "plt.show()"
   ]
  },
  {
   "cell_type": "markdown",
   "metadata": {},
   "source": [
    "There's indeed one opcode where opcode-index relationship is solved (opcode 0 - index 14). I'll start from there to iteratively filter the ther rows."
   ]
  },
  {
   "cell_type": "code",
   "execution_count": 132,
   "metadata": {},
   "outputs": [
    {
     "name": "stdout",
     "output_type": "stream",
     "text": [
      "opcode  0 = index 14\n",
      "opcode  1 = index  4\n",
      "opcode  2 = index  7\n",
      "opcode  3 = index  2\n",
      "opcode  4 = index  9\n",
      "opcode  5 = index  5\n",
      "opcode  6 = index  3\n",
      "opcode  7 = index 12\n",
      "opcode  8 = index  8\n",
      "opcode  9 = index  1\n",
      "opcode 10 = index 10\n",
      "opcode 11 = index  6\n",
      "opcode 12 = index  0\n",
      "opcode 13 = index 15\n",
      "opcode 14 = index 11\n",
      "opcode 15 = index 13\n"
     ]
    },
    {
     "data": {
      "image/png": "[encoded data removed]",
      "text/plain": [
       "<Figure size 500x500 with 1 Axes>"
      ]
     },
     "metadata": {
      "needs_background": "light"
     },
     "output_type": "display_data"
    }
   ],
   "source": [
    "passed = [] # list of processed row that have been filter to single correspondence\n",
    "while True:\n",
    "    unique = [ n.sum() for n in corrand ] # count how many opcode-index correspondences I have in a given row\n",
    "    uu = [i for i, e in enumerate(unique) if e == 1] # select rows where correspondence is unique\n",
    "    for u in uu:\n",
    "        if u in passed:\n",
    "            continue\n",
    "        else:\n",
    "            mask = corrand[u]\n",
    "            for i in range(len(corrand)):\n",
    "                if i==u:\n",
    "                    continue\n",
    "                else:\n",
    "                    b = corrand[i]\n",
    "                    masked = [ bb and not mm for bb,mm in zip(b,mask)]\n",
    "                    corrand[i] = masked\n",
    "            passed.append(u)\n",
    "    if len(passed) == len(corrand):\n",
    "        break\n",
    "\n",
    "corr = {}\n",
    "c = np.where(corrand==1)\n",
    "for o,i in zip(c[0],c[1]):\n",
    "    print(\"opcode {:2d} = index {:2d}\".format(o,i))\n",
    "    corr[o] = i\n",
    "\n",
    "fig, ax = plt.subplots(figsize=(5,5),dpi=100)\n",
    "plt.imshow(corrand,cmap=\"binary\")\n",
    "ax.set_ylabel('opcode')\n",
    "ax.set_xlabel('index')\n",
    "plt.show()"
   ]
  },
  {
   "cell_type": "markdown",
   "metadata": {},
   "source": [
    "Next step is implementing the virtual machine to run the program, easy given the previous `opcode` function and `corr` dictionary..."
   ]
  },
  {
   "cell_type": "code",
   "execution_count": 151,
   "metadata": {},
   "outputs": [],
   "source": [
    "def executeProg(prog,corr):\n",
    "    # it says nothing about the initial value of the registers, assuming 0\n",
    "    reg = [0,0,0,0]\n",
    "    \n",
    "    for o,a,b,c in prog:\n",
    "        reg = opcode(corr[o],a,b,c,reg)\n",
    "    \n",
    "    return reg"
   ]
  },
  {
   "cell_type": "code",
   "execution_count": 152,
   "metadata": {},
   "outputs": [
    {
     "name": "stdout",
     "output_type": "stream",
     "text": [
      "582\n"
     ]
    }
   ],
   "source": [
    "with open(\"data/input16_prog.txt\") as f:\n",
    "    prog = [ [ int(d) for d in l.strip(\"\\n\").split(\" \") ] for l in f.readlines() ]\n",
    "    \n",
    "reg = executeProg(prog,corr)\n",
    "print(reg[0])"
   ]
  },
  {
   "cell_type": "code",
   "execution_count": null,
   "metadata": {},
   "outputs": [],
   "source": []
  }
 ],
 "metadata": {
  "kernelspec": {
   "display_name": "Python 3",
   "language": "python",
   "name": "python3"
  },
  "language_info": {
   "codemirror_mode": {
    "name": "ipython",
    "version": 3
   },
   "file_extension": ".py",
   "mimetype": "text/x-python",
   "name": "python",
   "nbconvert_exporter": "python",
   "pygments_lexer": "ipython3",
   "version": "3.9.2"
  }
 },
 "nbformat": 4,
 "nbformat_minor": 4
}
