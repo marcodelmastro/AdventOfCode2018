{
 "cells": [
  {
   "cell_type": "markdown",
   "id": "passive-sharp",
   "metadata": {},
   "source": [
    "# Day 24\n",
    "\n",
    "## Part 1"
   ]
  },
  {
   "cell_type": "code",
   "execution_count": 689,
   "id": "motivated-trinity",
   "metadata": {},
   "outputs": [],
   "source": [
    "Army = ( \"Immune system\", \"Infection\" )\n",
    "\n",
    "# Not really needed, but ease visualisation for debugging purposes\n",
    "Attack = {}\n",
    "Attack['slashing'] = \"S\"\n",
    "Attack['fire']     = \"F\"\n",
    "Attack['radiation'] = \"R\"\n",
    "Attack['bludgeoning'] = \"B\"\n",
    "Attack['cold'] = \"C\"\n",
    "\n",
    "class Group:\n",
    "    def __init__(self,army,nunits,hp,immune,weak,damage,attack,initiative,ID=0):\n",
    "        self.ID = ID\n",
    "        self.army = army\n",
    "        self.nunits = nunits\n",
    "        self.hp = hp\n",
    "        self.immune = immune\n",
    "        self.weak = weak\n",
    "        self.damage = damage \n",
    "        self.attack = attack\n",
    "        self.initiative = initiative\n",
    "        self.engaged = False\n",
    "        self.target = None\n",
    "        \n",
    "    def __repr__(self):\n",
    "        return \"{:13s} {:2d}; N = {:4d} ; HP = {:5d} ; EP = {:5d} ; I = {:2d}; A = {} ; W = {} ; IM = {} \".format(\n",
    "            Army[self.army],self.ID,self.nunits, self.hp,self.effpow(),self.initiative,self.attack,\n",
    "            self.weak,self.immune\n",
    "        )\n",
    "            \n",
    "    def effpow(self):\n",
    "        return self.nunits*self.damage\n",
    "    \n",
    "    def damageMult(self,attack):\n",
    "        if attack in self.immune:\n",
    "            return 0\n",
    "        elif attack in self.weak:\n",
    "            return 2\n",
    "        else:\n",
    "            return 1"
   ]
  },
  {
   "cell_type": "code",
   "execution_count": 601,
   "id": "first-survivor",
   "metadata": {},
   "outputs": [],
   "source": [
    "import re\n",
    "\n",
    "def getArmies(filename):\n",
    "    with open(filename) as f:\n",
    "        blocks = [ [ l for l in b.split(\"\\n\") ] for b in f.read().split(\"\\n\\n\") ] # split immune system and infection blocks, then split lines\n",
    "    armies = [] # Immune system and infection\n",
    "    ia = 0\n",
    "    for b in blocks:\n",
    "        army = []\n",
    "        ii = 1\n",
    "        for l in b[1:]: # ignore block header\n",
    "            if len(l): # skip last empy line, if any\n",
    "                bb = []\n",
    "                if \"(\" in l:\n",
    "                    bb = re.split(' \\(|\\) ', l) # split at ( or ) to isolate immune/weak block\n",
    "                else:\n",
    "                    bb = l.replace(\"with an attack \",\"|with an attack \"). split(\"|\") # some groups don't have immune/weak block\n",
    "                nunits = int(bb[0].split(\" \")[0])\n",
    "                hp = int(bb[0].split(\" \")[4])\n",
    "                weak = []\n",
    "                immune = []\n",
    "                if len(bb)==3: # has immune/weak block\n",
    "                    for iw in bb[1].split(\"; \"):\n",
    "                        if iw[:6] == \"immune\":\n",
    "                            #immune = iw.replace(\"immune to \",\"\").split(\", \")\n",
    "                            immune = [ Attack[i] for i in iw.replace(\"immune to \",\"\").split(\", \") ] # short attack name\n",
    "                        else:\n",
    "                            #weak = iw.replace(\"weak to \",\"\").split(\", \")\n",
    "                            weak = [ Attack[i] for i in iw.replace(\"weak to \",\"\").split(\", \") ] # short attack name\n",
    "                damage = int(bb[-1].split(\" \")[5])\n",
    "                #attack = bb[-1].split(\" \")[6]\n",
    "                attack = Attack[bb[-1].split(\" \")[6]] # short attack name\n",
    "                initiative = int(bb[-1].split(\" \")[-1])\n",
    "                group = Group(ia,nunits,hp,immune,weak,damage,attack,initiative,ID=ii)                 \n",
    "                army.append(group)\n",
    "                ii += 1\n",
    "        armies.append(army)\n",
    "        ia += 1\n",
    "    return armies"
   ]
  },
  {
   "cell_type": "code",
   "execution_count": 602,
   "id": "elegant-challenge",
   "metadata": {},
   "outputs": [
    {
     "data": {
      "text/plain": [
       "[[Immune system  1; N =   17 ; HP =  5390 ; EP = 76619 ; I =  2; A = F ; W = ['R', 'B'] ; IM = [] ,\n",
       "  Immune system  2; N =  989 ; HP =  1274 ; EP = 24725 ; I =  3; A = S ; W = ['B', 'S'] ; IM = ['F'] ],\n",
       " [Infection      1; N =  801 ; HP =  4706 ; EP = 92916 ; I =  1; A = B ; W = ['R'] ; IM = [] ,\n",
       "  Infection      2; N = 4485 ; HP =  2961 ; EP = 53820 ; I =  4; A = S ; W = ['F', 'C'] ; IM = ['R'] ]]"
      ]
     },
     "execution_count": 602,
     "metadata": {},
     "output_type": "execute_result"
    }
   ],
   "source": [
    "armies = getArmies(\"data/day24test.txt\")\n",
    "armies"
   ]
  },
  {
   "cell_type": "code",
   "execution_count": 717,
   "id": "upper-acceptance",
   "metadata": {},
   "outputs": [],
   "source": [
    "from collections import defaultdict\n",
    "\n",
    "def fight(armies,boost=0,verbose=False,nturn=-1):\n",
    "\n",
    "    iturn = 0\n",
    "    \n",
    "    if boost: # boost immune system\n",
    "        for g in armies[0]:\n",
    "            g.damage += boost\n",
    "    \n",
    "    killed = [-1,-1] \n",
    "    \n",
    "    while True:\n",
    "    \n",
    "        if verbose:\n",
    "            print(\"\\n+++ Turn {} +++\\n\".format(iturn+1))\n",
    "        \n",
    "        ia = 0\n",
    "        nu = []\n",
    "        for a in armies:\n",
    "            n = 0\n",
    "            if verbose:\n",
    "                print(\"{}:\".format(Army[ia]))\n",
    "            for g in a:\n",
    "                if g.nunits>0:\n",
    "                    if verbose:\n",
    "                        print(\"Group {} contains {} units\".format(g.ID,g.nunits))\n",
    "                    n += g.nunits\n",
    "            if n==0:\n",
    "                if verbose:\n",
    "                    print(\"No groups remain.\")\n",
    "            nu.append(n)\n",
    "            ia += 1\n",
    "        \n",
    "        for ia in (0,1):\n",
    "            if nu[ia]==0:\n",
    "                return nu\n",
    "\n",
    "        # end mexican standowns\n",
    "        if sum(killed)==0: # nobdy has killed nobody\n",
    "            if verbose:\n",
    "                print(\"\\n*** Mexican stand-down! ***\")\n",
    "            return nu\n",
    "        \n",
    "        # collecting the kills from both armies to solve mexican standowns!\n",
    "        killed = [0,0] \n",
    "        \n",
    "        if verbose:\n",
    "            print(\"\\n--- Selection phase ---\")\n",
    "            \n",
    "        # selecting groups are sort by effective power, solving ties by initiatives\n",
    "        groups = sorted(armies[0]+armies[1],key=lambda G: (G.effpow(),G.initiative),reverse=True)\n",
    "        for G in groups:\n",
    "            if G.nunits>0: # current group is still alive\n",
    "                enemy = abs(G.army-1) # among the enemies\n",
    "                # target must still be alive and not already targeted, attacker must be able to deliver damage\n",
    "                targets = sorted(\n",
    "                    [ E for E in armies[enemy] if E.nunits>0 and not E.engaged and E.damageMult(G.attack)*G.effpow()>0 ], \n",
    "                        key=lambda e: ( e.damageMult(G.attack)*G.effpow(), e.effpow(), e.initiative ), \n",
    "                        reverse=True ) # sorted by maximum damage, then effective power, then initiative\n",
    "                if len(targets): # if target available\n",
    "                    if verbose:\n",
    "                        for t in targets:\n",
    "                            print(\"{} group {} would deal defending group {} {} damage\".format(\n",
    "                                Army[G.army],G.ID,t.ID,t.damageMult(G.attack)*G.effpow() ) )\n",
    "                    G.target = targets[0]\n",
    "                    targets[0].engaged = True\n",
    "                else:\n",
    "                    G.target = None\n",
    "\n",
    "        if verbose:\n",
    "            print(\"\\n--- Attacking phase ---\")\n",
    "\n",
    "        # attacking according to initiative\n",
    "        groups = sorted(armies[0]+armies[1],key=lambda G: G.initiative,reverse=True)\n",
    "        for G in groups:\n",
    "            if G.nunits>0 and G.target!=None:\n",
    "                T = G.target\n",
    "                damage = T.damageMult(G.attack)*G.effpow()\n",
    "                nkill = min( damage // T.hp , T.nunits )\n",
    "                killed[G.army] += nkill\n",
    "                T.nunits -= nkill\n",
    "                if verbose:\n",
    "                    print(\"{} group {} attacks defending group {}, killing {} units\".format(\n",
    "                                Army[G.army],G.ID,T.ID,nkill))   \n",
    "        \n",
    "        # release *all* groups from engagement for next round\n",
    "        # it has to happen *here* and not in combat loop, since some groups might have a target \n",
    "        # but might not attack becouse they died in previous combat!\n",
    "        for G in armies[0]+armies[1]:\n",
    "            G.engaged = False  \n",
    "        \n",
    "        iturn += 1\n",
    "        if iturn==nturn:\n",
    "            break"
   ]
  },
  {
   "cell_type": "code",
   "execution_count": 718,
   "id": "romance-savannah",
   "metadata": {},
   "outputs": [
    {
     "name": "stdout",
     "output_type": "stream",
     "text": [
      "\n",
      "+++ Turn 1 +++\n",
      "\n",
      "Immune system:\n",
      "Group 1 contains 17 units\n",
      "Group 2 contains 989 units\n",
      "Infection:\n",
      "Group 1 contains 801 units\n",
      "Group 2 contains 4485 units\n",
      "\n",
      "--- Selection phase ---\n",
      "Infection group 1 would deal defending group 1 185832 damage\n",
      "Infection group 1 would deal defending group 2 185832 damage\n",
      "Immune system group 1 would deal defending group 2 153238 damage\n",
      "Immune system group 1 would deal defending group 1 76619 damage\n",
      "Infection group 2 would deal defending group 2 107640 damage\n",
      "Immune system group 2 would deal defending group 1 24725 damage\n",
      "\n",
      "--- Attacking phase ---\n",
      "Infection group 2 attacks defending group 2, killing 84 units\n",
      "Immune system group 2 attacks defending group 1, killing 4 units\n",
      "Immune system group 1 attacks defending group 2, killing 51 units\n",
      "Infection group 1 attacks defending group 1, killing 17 units\n",
      "\n",
      "+++ Turn 2 +++\n",
      "\n",
      "Immune system:\n",
      "Group 2 contains 905 units\n",
      "Infection:\n",
      "Group 1 contains 797 units\n",
      "Group 2 contains 4434 units\n",
      "\n",
      "--- Selection phase ---\n",
      "Infection group 1 would deal defending group 2 184904 damage\n",
      "Immune system group 2 would deal defending group 1 22625 damage\n",
      "Immune system group 2 would deal defending group 2 22625 damage\n",
      "\n",
      "--- Attacking phase ---\n",
      "Immune system group 2 attacks defending group 1, killing 4 units\n",
      "Infection group 1 attacks defending group 2, killing 144 units\n",
      "\n",
      "+++ Turn 3 +++\n",
      "\n",
      "Immune system:\n",
      "Group 2 contains 761 units\n",
      "Infection:\n",
      "Group 1 contains 793 units\n",
      "Group 2 contains 4434 units\n",
      "\n",
      "--- Selection phase ---\n",
      "Infection group 1 would deal defending group 2 183976 damage\n",
      "Immune system group 2 would deal defending group 1 19025 damage\n",
      "Immune system group 2 would deal defending group 2 19025 damage\n",
      "\n",
      "--- Attacking phase ---\n",
      "Immune system group 2 attacks defending group 1, killing 4 units\n",
      "Infection group 1 attacks defending group 2, killing 143 units\n",
      "\n",
      "+++ Turn 4 +++\n",
      "\n",
      "Immune system:\n",
      "Group 2 contains 618 units\n",
      "Infection:\n",
      "Group 1 contains 789 units\n",
      "Group 2 contains 4434 units\n",
      "\n",
      "--- Selection phase ---\n",
      "Infection group 1 would deal defending group 2 183048 damage\n",
      "Immune system group 2 would deal defending group 1 15450 damage\n",
      "Immune system group 2 would deal defending group 2 15450 damage\n",
      "\n",
      "--- Attacking phase ---\n",
      "Immune system group 2 attacks defending group 1, killing 3 units\n",
      "Infection group 1 attacks defending group 2, killing 143 units\n",
      "\n",
      "+++ Turn 5 +++\n",
      "\n",
      "Immune system:\n",
      "Group 2 contains 475 units\n",
      "Infection:\n",
      "Group 1 contains 786 units\n",
      "Group 2 contains 4434 units\n",
      "\n",
      "--- Selection phase ---\n",
      "Infection group 1 would deal defending group 2 182352 damage\n",
      "Immune system group 2 would deal defending group 1 11875 damage\n",
      "Immune system group 2 would deal defending group 2 11875 damage\n",
      "\n",
      "--- Attacking phase ---\n",
      "Immune system group 2 attacks defending group 1, killing 2 units\n",
      "Infection group 1 attacks defending group 2, killing 142 units\n",
      "\n",
      "+++ Turn 6 +++\n",
      "\n",
      "Immune system:\n",
      "Group 2 contains 333 units\n",
      "Infection:\n",
      "Group 1 contains 784 units\n",
      "Group 2 contains 4434 units\n",
      "\n",
      "--- Selection phase ---\n",
      "Infection group 1 would deal defending group 2 181888 damage\n",
      "Immune system group 2 would deal defending group 1 8325 damage\n",
      "Immune system group 2 would deal defending group 2 8325 damage\n",
      "\n",
      "--- Attacking phase ---\n",
      "Immune system group 2 attacks defending group 1, killing 1 units\n",
      "Infection group 1 attacks defending group 2, killing 142 units\n",
      "\n",
      "+++ Turn 7 +++\n",
      "\n",
      "Immune system:\n",
      "Group 2 contains 191 units\n",
      "Infection:\n",
      "Group 1 contains 783 units\n",
      "Group 2 contains 4434 units\n",
      "\n",
      "--- Selection phase ---\n",
      "Infection group 1 would deal defending group 2 181656 damage\n",
      "Immune system group 2 would deal defending group 1 4775 damage\n",
      "Immune system group 2 would deal defending group 2 4775 damage\n",
      "\n",
      "--- Attacking phase ---\n",
      "Immune system group 2 attacks defending group 1, killing 1 units\n",
      "Infection group 1 attacks defending group 2, killing 142 units\n",
      "\n",
      "+++ Turn 8 +++\n",
      "\n",
      "Immune system:\n",
      "Group 2 contains 49 units\n",
      "Infection:\n",
      "Group 1 contains 782 units\n",
      "Group 2 contains 4434 units\n",
      "\n",
      "--- Selection phase ---\n",
      "Infection group 1 would deal defending group 2 181424 damage\n",
      "Immune system group 2 would deal defending group 1 1225 damage\n",
      "Immune system group 2 would deal defending group 2 1225 damage\n",
      "\n",
      "--- Attacking phase ---\n",
      "Immune system group 2 attacks defending group 1, killing 0 units\n",
      "Infection group 1 attacks defending group 2, killing 49 units\n",
      "\n",
      "+++ Turn 9 +++\n",
      "\n",
      "Immune system:\n",
      "No groups remain.\n",
      "Infection:\n",
      "Group 1 contains 782 units\n",
      "Group 2 contains 4434 units\n",
      "Survivors = 5216\n"
     ]
    }
   ],
   "source": [
    "armies = getArmies(\"data/day24test.txt\")\n",
    "\n",
    "survivors = fight(armies,verbose=True)\n",
    "print(\"Survivors =\",sum(survivors))"
   ]
  },
  {
   "cell_type": "code",
   "execution_count": 719,
   "id": "involved-occupation",
   "metadata": {},
   "outputs": [
    {
     "data": {
      "text/plain": [
       "[[Immune system  1; N = 5711 ; HP =  6662 ; EP = 51399 ; I = 14; A = B ; W = ['S'] ; IM = ['F'] ,\n",
       "  Immune system  2; N = 2108 ; HP =  8185 ; EP = 75888 ; I = 13; A = S ; W = ['R', 'B'] ; IM = [] ,\n",
       "  Immune system  3; N = 1590 ; HP =  3940 ; EP = 38160 ; I =  5; A = C ; W = [] ; IM = [] ,\n",
       "  Immune system  4; N = 2546 ; HP =  6960 ; EP = 63650 ; I =  2; A = S ; W = [] ; IM = [] ,\n",
       "  Immune system  5; N = 1084 ; HP =  3450 ; EP = 29268 ; I = 11; A = S ; W = [] ; IM = ['B'] ,\n",
       "  Immune system  6; N =  265 ; HP =  8223 ; EP = 68635 ; I = 12; A = C ; W = [] ; IM = ['R', 'B', 'C'] ,\n",
       "  Immune system  7; N = 6792 ; HP =  6242 ; EP = 61128 ; I = 18; A = S ; W = ['B', 'R'] ; IM = ['S'] ,\n",
       "  Immune system  8; N = 3336 ; HP = 12681 ; EP = 93408 ; I =  6; A = F ; W = ['S'] ; IM = [] ,\n",
       "  Immune system  9; N =  752 ; HP =  5272 ; EP = 51888 ; I =  4; A = R ; W = ['B', 'R'] ; IM = ['S'] ,\n",
       "  Immune system 10; N =   96 ; HP =  7266 ; EP = 70848 ; I =  8; A = B ; W = [] ; IM = ['F'] ],\n",
       " [Infection      1; N = 1492 ; HP = 47899 ; EP = 83552 ; I = 15; A = B ; W = ['F', 'S'] ; IM = ['C'] ,\n",
       "  Infection      2; N = 3065 ; HP = 39751 ; EP = 61300 ; I =  1; A = S ; W = ['B', 'S'] ; IM = [] ,\n",
       "  Infection      3; N = 7971 ; HP = 35542 ; EP = 63768 ; I = 10; A = B ; W = ['B', 'R'] ; IM = [] ,\n",
       "  Infection      4; N =  585 ; HP =  5936 ; EP =  9945 ; I = 17; A = S ; W = ['C'] ; IM = ['F'] ,\n",
       "  Infection      5; N = 2449 ; HP = 37159 ; EP = 53878 ; I =  7; A = C ; W = [] ; IM = ['C'] ,\n",
       "  Infection      6; N = 8897 ; HP =  6420 ; EP =  8897 ; I = 19; A = B ; W = ['R'] ; IM = ['B', 'S', 'F'] ,\n",
       "  Infection      7; N =  329 ; HP = 31704 ; EP = 58891 ; I = 16; A = B ; W = ['F'] ; IM = ['C', 'R'] ,\n",
       "  Infection      8; N = 6961 ; HP = 11069 ; EP = 13922 ; I = 20; A = R ; W = ['F'] ; IM = [] ,\n",
       "  Infection      9; N = 2837 ; HP = 29483 ; EP = 56740 ; I =  9; A = B ; W = ['C'] ; IM = [] ,\n",
       "  Infection     10; N = 8714 ; HP =  7890 ; EP =  8714 ; I =  3; A = C ; W = [] ; IM = [] ]]"
      ]
     },
     "execution_count": 719,
     "metadata": {},
     "output_type": "execute_result"
    }
   ],
   "source": [
    "armies = getArmies(\"data/input24.txt\")\n",
    "armies"
   ]
  },
  {
   "cell_type": "code",
   "execution_count": 720,
   "id": "current-hypothetical",
   "metadata": {},
   "outputs": [
    {
     "name": "stdout",
     "output_type": "stream",
     "text": [
      "Survivors = 38008\n"
     ]
    }
   ],
   "source": [
    "armies = getArmies(\"data/input24.txt\")\n",
    "survivors = fight(armies)\n",
    "print(\"Survivors =\",sum(survivors))"
   ]
  },
  {
   "cell_type": "markdown",
   "id": "opposite-wayne",
   "metadata": {},
   "source": [
    "## Part 2\n",
    "\n",
    "Simple brute force search for minimal boost value seems to work fine with example, but full input get stuck at boost = 28.\n",
    "\n",
    "Looking at the verbose output, it seems that there are cases there the battle get stuck:\n",
    "\n",
    "`--- Attacking phase ---`  \n",
    "`Immune system group 6 attacks defending group 3, killing 0 units`  \n",
    "`Infection group 5 attacks defending group 6, killing 0 units`  \n",
    "\n",
    "I need to implement a stopping mechanism for those stalling matches."
   ]
  },
  {
   "cell_type": "code",
   "execution_count": 726,
   "id": "stainless-passion",
   "metadata": {},
   "outputs": [
    {
     "name": "stdout",
     "output_type": "stream",
     "text": [
      "Survivors = [51, 0]\n"
     ]
    }
   ],
   "source": [
    "armies = getArmies(\"data/day24test.txt\")\n",
    "survivors = fight(armies,boost=1570,verbose=False)\n",
    "print(\"Survivors =\",survivors)"
   ]
  },
  {
   "cell_type": "code",
   "execution_count": 727,
   "id": "extra-block",
   "metadata": {},
   "outputs": [],
   "source": [
    "from copy import deepcopy\n",
    "\n",
    "def getBoost(armies):\n",
    "    boost = 0\n",
    "    while True:\n",
    "        survivors = fight(deepcopy(armies),boost=boost)\n",
    "        if survivors[0]>0 and survivors[1]==0: # avoid mexican standdowns\n",
    "            print(\"Boost = {} -> Immune system survivors = {}\".format(boost,survivors[0]))\n",
    "            return(boost)\n",
    "        boost += 1"
   ]
  },
  {
   "cell_type": "code",
   "execution_count": 728,
   "id": "recreational-device",
   "metadata": {},
   "outputs": [
    {
     "name": "stdout",
     "output_type": "stream",
     "text": [
      "Boost = 1570 -> Immune system survivors = 51\n"
     ]
    },
    {
     "data": {
      "text/plain": [
       "1570"
      ]
     },
     "execution_count": 728,
     "metadata": {},
     "output_type": "execute_result"
    }
   ],
   "source": [
    "armies = getArmies(\"data/day24test.txt\")\n",
    "getBoost(armies)"
   ]
  },
  {
   "cell_type": "code",
   "execution_count": 729,
   "id": "viral-notebook",
   "metadata": {},
   "outputs": [
    {
     "data": {
      "text/plain": [
       "[58, 18219]"
      ]
     },
     "execution_count": 729,
     "metadata": {},
     "output_type": "execute_result"
    }
   ],
   "source": [
    "armies = getArmies(\"data/input24.txt\")\n",
    "fight(armies,boost=28,verbose=False)"
   ]
  },
  {
   "cell_type": "code",
   "execution_count": 730,
   "id": "invisible-referral",
   "metadata": {},
   "outputs": [
    {
     "name": "stdout",
     "output_type": "stream",
     "text": [
      "Boost = 34 -> Immune system survivors = 4009\n"
     ]
    },
    {
     "data": {
      "text/plain": [
       "34"
      ]
     },
     "execution_count": 730,
     "metadata": {},
     "output_type": "execute_result"
    }
   ],
   "source": [
    "armies = getArmies(\"data/input24.txt\")\n",
    "getBoost(armies)"
   ]
  },
  {
   "cell_type": "code",
   "execution_count": null,
   "id": "neutral-documentary",
   "metadata": {},
   "outputs": [],
   "source": []
  }
 ],
 "metadata": {
  "kernelspec": {
   "display_name": "Python 3",
   "language": "python",
   "name": "python3"
  },
  "language_info": {
   "codemirror_mode": {
    "name": "ipython",
    "version": 3
   },
   "file_extension": ".py",
   "mimetype": "text/x-python",
   "name": "python",
   "nbconvert_exporter": "python",
   "pygments_lexer": "ipython3",
   "version": "3.9.2"
  }
 },
 "nbformat": 4,
 "nbformat_minor": 5
}
