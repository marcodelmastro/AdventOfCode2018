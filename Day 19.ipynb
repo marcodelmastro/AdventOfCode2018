{
 "cells": [
  {
   "cell_type": "markdown",
   "metadata": {},
   "source": [
    "# Day 19: Go With The Flow"
   ]
  },
  {
   "cell_type": "code",
   "execution_count": 1,
   "metadata": {},
   "outputs": [],
   "source": [
    "def addr(a,b,c,reg):\n",
    "    '''(add register) stores into register C the result of adding register A and register B.'''\n",
    "    reg[c] = reg[a] + reg[b]\n",
    "    return reg\n",
    "\n",
    "def addi(a,b,c,reg):\n",
    "    '''(add immediate) stores into register C the result of adding register A and value B.'''\n",
    "    reg[c] = reg[a] + b\n",
    "    return reg\n",
    "\n",
    "def mulr(a,b,c,reg):\n",
    "    '''(multiply register) stores into register C the result of multiplying register A and register B.'''\n",
    "    reg[c] = reg[a] * reg[b]\n",
    "    return reg\n",
    "    \n",
    "def muli(a,b,c,reg):\n",
    "    '''muli (multiply immediate) stores into register C the result of multiplying register A and value B.'''\n",
    "    reg[c] = reg[a] * b\n",
    "    return reg\n",
    "\n",
    "def banr(a,b,c,reg):\n",
    "    '''(bitwise AND register) stores into register C the result of the bitwise AND of register A and register B.'''\n",
    "    reg[c] = reg[a] & reg[b]\n",
    "    return reg\n",
    "\n",
    "def bani(a,b,c,reg):\n",
    "    '''(bitwise AND immediate) stores into register C the result of the bitwise AND of register A and value B.'''\n",
    "    reg[c] = reg[a] & b\n",
    "    return reg\n",
    "    \n",
    "def borr(a,b,c,reg):\n",
    "    ''' (bitwise OR register) stores into register C the result of the bitwise OR of register A and register B.'''\n",
    "    reg[c] = reg[a] | reg[b]\n",
    "    return reg\n",
    "\n",
    "def bori(a,b,c,reg):\n",
    "    ''' (bitwise OR immediate) stores into register C the result of the bitwise OR of register A and value B.'''\n",
    "    reg[c] = reg[a] | b\n",
    "    return reg\n",
    "\n",
    "def setr(a,b,c,reg):\n",
    "    ''' (set register) copies the contents of register A into register C. (Input B is ignored.)'''\n",
    "    reg[c] = reg[a]\n",
    "    return reg\n",
    "    \n",
    "def seti(a,b,c,reg):\n",
    "    ''' (set immediate) stores value A into register C. (Input B is ignored.)'''\n",
    "    reg[c] = a\n",
    "    return reg\n",
    "\n",
    "def gtir(a,b,c,reg):\n",
    "    ''' (greater-than immediate/register) sets register C to 1 if value A is greater than register B. Otherwise, register C is set to 0.'''\n",
    "    if a>reg[b]:\n",
    "        reg[c]=1\n",
    "    else:\n",
    "        reg[c]=0\n",
    "    return reg\n",
    "    \n",
    "def gtri(a,b,c,reg):\n",
    "    ''' (greater-than register/immediate) sets register C to 1 if register A is greater than value B. Otherwise, register C is set to 0.'''\n",
    "    if reg[a]>b:\n",
    "        reg[c]=1\n",
    "    else:\n",
    "        reg[c]=0\n",
    "    return reg\n",
    "\n",
    "def gtrr(a,b,c,reg):\n",
    "    ''' (greater-than register/register) sets register C to 1 if register A is greater than register B. Otherwise, register C is set to 0.'''\n",
    "    if reg[a]>reg[b]:\n",
    "        reg[c]=1\n",
    "    else:\n",
    "        reg[c]=0\n",
    "    return reg\n",
    "    \n",
    "def eqir (a,b,c,reg):\n",
    "    '''(equal immediate/register) sets register C to 1 if value A is equal to register B. Otherwise, register C is set to 0.'''\n",
    "    if a==reg[b]:\n",
    "        reg[c]=1\n",
    "    else:\n",
    "        reg[c]=0\n",
    "    return reg\n",
    "\n",
    "def eqri(a,b,c,reg):\n",
    "    ''' (equal register/immediate) sets register C to 1 if register A is equal to value B. Otherwise, register C is set to 0.'''\n",
    "    if reg[a]==b:\n",
    "        reg[c]=1\n",
    "    else:\n",
    "        reg[c]=0\n",
    "    return reg\n",
    "\n",
    "def eqrr(a,b,c,reg):\n",
    "    ''' (equal register/register) sets register C to 1 if register A is equal to register B. Otherwise, register C is set to 0.'''\n",
    "    if reg[a]==reg[b]:\n",
    "        reg[c]=1\n",
    "    else:\n",
    "        reg[c]=0\n",
    "    return reg"
   ]
  },
  {
   "cell_type": "code",
   "execution_count": 9,
   "metadata": {},
   "outputs": [],
   "source": [
    "def getProg(filename):\n",
    "    with open(filename) as f:\n",
    "        lines = [ l.strip(\"\\n\") for l in f.readlines()  ]\n",
    "    ip = -1\n",
    "    prog = []\n",
    "    for l in lines:\n",
    "        if l.split(\" \")[0]==\"#ip\":\n",
    "            ip = int(l.split(\" \")[1])\n",
    "        else:\n",
    "            op = l.split(\" \")[0]\n",
    "            v = [ int(b) for b in l.split(\" \")[1:] ]\n",
    "            p = [op]\n",
    "            p+=v\n",
    "            prog.append(p)\n",
    "    return ip, prog"
   ]
  },
  {
   "cell_type": "code",
   "execution_count": 47,
   "metadata": {},
   "outputs": [],
   "source": [
    "def execute(ip,prog,verbose=False): \n",
    "    \n",
    "    reg = [0,0,0,0,0,0]\n",
    "    ipr = ip\n",
    "    ip = 0\n",
    "    \n",
    "    while True:\n",
    "    \n",
    "        reg[ipr] = ip\n",
    "        \n",
    "        if verbose: print(ip,reg,prog[ip],end=\" \")\n",
    "\n",
    "        op,a,b,c = prog[ip]\n",
    "        \n",
    "        if   op=='addr': reg = addr(a,b,c,reg)\n",
    "        elif op=='addi': reg = addi(a,b,c,reg)\n",
    "        elif op=='mulr': reg = mulr(a,b,c,reg)\n",
    "        elif op=='muli': reg = muli(a,b,c,reg)\n",
    "        elif op=='banr': reg = banr(a,b,c,reg)\n",
    "        elif op=='bani': reg = bani(a,b,c,reg)\n",
    "        elif op=='borr': reg = borr(a,b,c,reg)\n",
    "        elif op=='bori': reg = bori(a,b,c,reg)\n",
    "        elif op=='setr': reg = setr(a,b,c,reg)\n",
    "        elif op=='seti': reg = seti(a,b,c,reg)\n",
    "        elif op=='gtir': reg = gtir(a,b,c,reg)\n",
    "        elif op=='gtri': reg = gtri(a,b,c,reg)\n",
    "        elif op=='gtrr': reg = gtrr(a,b,c,reg)\n",
    "        elif op=='eqir': reg = eqir(a,b,c,reg)\n",
    "        elif op=='eqri': reg = eqri(a,b,c,reg)\n",
    "        elif op=='eqrr': reg = eqrr(a,b,c,reg) \n",
    "\n",
    "        if verbose: print(reg)\n",
    "\n",
    "        ip = reg[ipr]\n",
    "        ip+=1\n",
    "\n",
    "        if ip>=len(prog):\n",
    "            break\n",
    "\n",
    "    return reg"
   ]
  },
  {
   "cell_type": "code",
   "execution_count": 48,
   "metadata": {},
   "outputs": [
    {
     "name": "stdout",
     "output_type": "stream",
     "text": [
      "0 [0, 0, 0, 0, 0, 0] ['seti', 5, 0, 1] [0, 5, 0, 0, 0, 0]\n",
      "1 [1, 5, 0, 0, 0, 0] ['seti', 6, 0, 2] [1, 5, 6, 0, 0, 0]\n",
      "2 [2, 5, 6, 0, 0, 0] ['addi', 0, 1, 0] [3, 5, 6, 0, 0, 0]\n",
      "4 [4, 5, 6, 0, 0, 0] ['setr', 1, 0, 0] [5, 5, 6, 0, 0, 0]\n",
      "6 [6, 5, 6, 0, 0, 0] ['seti', 9, 0, 5] [6, 5, 6, 0, 0, 9]\n"
     ]
    },
    {
     "data": {
      "text/plain": [
       "[6, 5, 6, 0, 0, 9]"
      ]
     },
     "execution_count": 48,
     "metadata": {},
     "output_type": "execute_result"
    }
   ],
   "source": [
    "ip, prog = getProg(\"data/day19test.txt\")\n",
    "\n",
    "execute(ip,prog,verbose=True)"
   ]
  },
  {
   "cell_type": "code",
   "execution_count": 50,
   "metadata": {},
   "outputs": [
    {
     "data": {
      "text/plain": [
       "[2223, 883, 882, 256, 1, 883]"
      ]
     },
     "execution_count": 50,
     "metadata": {},
     "output_type": "execute_result"
    }
   ],
   "source": [
    "ip, prog = getProg(\"data/input19.txt\")\n",
    "\n",
    "execute(ip,prog,verbose=False)"
   ]
  },
  {
   "cell_type": "code",
   "execution_count": null,
   "metadata": {},
   "outputs": [],
   "source": []
  }
 ],
 "metadata": {
  "kernelspec": {
   "display_name": "Python 3",
   "language": "python",
   "name": "python3"
  },
  "language_info": {
   "codemirror_mode": {
    "name": "ipython",
    "version": 3
   },
   "file_extension": ".py",
   "mimetype": "text/x-python",
   "name": "python",
   "nbconvert_exporter": "python",
   "pygments_lexer": "ipython3",
   "version": "3.9.2"
  }
 },
 "nbformat": 4,
 "nbformat_minor": 4
}
