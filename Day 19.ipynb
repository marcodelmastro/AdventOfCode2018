{
 "cells": [
  {
   "cell_type": "markdown",
   "metadata": {},
   "source": [
    "# Day 19: Go With The Flow\n",
    "\n",
    "## Part 1\n",
    "\n",
    "Opcodes implementation from Day 16:"
   ]
  },
  {
   "cell_type": "code",
   "execution_count": 167,
   "metadata": {},
   "outputs": [],
   "source": [
    "from AOC2018 import addr,addi,mulr,muli,banr,bani,borr,bori,setr,seti,gtir,gtri,gtrr,eqir,eqri,eqrr"
   ]
  },
  {
   "cell_type": "code",
   "execution_count": 168,
   "metadata": {},
   "outputs": [],
   "source": [
    "def getProg(filename):\n",
    "    with open(filename) as f:\n",
    "        lines = [ l.strip(\"\\n\") for l in f.readlines()  ]\n",
    "    ip = -1\n",
    "    prog = []\n",
    "    for l in lines:\n",
    "        if l.split(\" \")[0]==\"#ip\":\n",
    "            ip = int(l.split(\" \")[1])\n",
    "        else:\n",
    "            op = l.split(\" \")[0]\n",
    "            v = [ int(b) for b in l.split(\" \")[1:] ]\n",
    "            p = [op]\n",
    "            p+=v\n",
    "            prog.append(p)\n",
    "    return ip, prog"
   ]
  },
  {
   "cell_type": "code",
   "execution_count": 169,
   "metadata": {},
   "outputs": [],
   "source": [
    "def execute(ipr,prog,r0=0,verbose=False,stopAfter=-1,skipLoop=False): \n",
    "    \n",
    "    reg = [r0,0,0,0,0,0]\n",
    "    ip = 0 # The instruction pointer starts at 0\n",
    "    \n",
    "    it = 0\n",
    "    while True:\n",
    "        \n",
    "        reg[ipr] = ip\n",
    "\n",
    "        if verbose: \n",
    "            print(ip,reg,prog[ip],end=\" \")\n",
    "\n",
    "        op,a,b,c = prog[ip]\n",
    "        \n",
    "        if   op=='addr': reg = addr(a,b,c,reg)\n",
    "        elif op=='addi': reg = addi(a,b,c,reg)\n",
    "        elif op=='mulr': reg = mulr(a,b,c,reg)\n",
    "        elif op=='muli': reg = muli(a,b,c,reg)\n",
    "        elif op=='banr': reg = banr(a,b,c,reg)\n",
    "        elif op=='bani': reg = bani(a,b,c,reg)\n",
    "        elif op=='borr': reg = borr(a,b,c,reg)\n",
    "        elif op=='bori': reg = bori(a,b,c,reg)\n",
    "        elif op=='setr': reg = setr(a,b,c,reg)\n",
    "        elif op=='seti': reg = seti(a,b,c,reg)\n",
    "        elif op=='gtir': reg = gtir(a,b,c,reg)\n",
    "        elif op=='gtri': reg = gtri(a,b,c,reg)\n",
    "        elif op=='gtrr': reg = gtrr(a,b,c,reg)\n",
    "        elif op=='eqir': reg = eqir(a,b,c,reg)\n",
    "        elif op=='eqri': reg = eqri(a,b,c,reg)\n",
    "        elif op=='eqrr': reg = eqrr(a,b,c,reg) \n",
    "\n",
    "        if verbose: print(reg)\n",
    "\n",
    "        ip = reg[ipr]\n",
    "        ip+=1\n",
    "\n",
    "        if ip>=len(prog):\n",
    "            break\n",
    "            \n",
    "        it+=1\n",
    "        if stopAfter>0 and it>=stopAfter:\n",
    "            break\n",
    "\n",
    "    return reg"
   ]
  },
  {
   "cell_type": "code",
   "execution_count": 170,
   "metadata": {},
   "outputs": [
    {
     "name": "stdout",
     "output_type": "stream",
     "text": [
      "0 [0, 0, 0, 0, 0, 0] ['seti', 5, 0, 1] [0, 5, 0, 0, 0, 0]\n",
      "1 [1, 5, 0, 0, 0, 0] ['seti', 6, 0, 2] [1, 5, 6, 0, 0, 0]\n",
      "2 [2, 5, 6, 0, 0, 0] ['addi', 0, 1, 0] [3, 5, 6, 0, 0, 0]\n",
      "4 [4, 5, 6, 0, 0, 0] ['setr', 1, 0, 0] [5, 5, 6, 0, 0, 0]\n",
      "6 [6, 5, 6, 0, 0, 0] ['seti', 9, 0, 5] [6, 5, 6, 0, 0, 9]\n"
     ]
    },
    {
     "data": {
      "text/plain": [
       "[6, 5, 6, 0, 0, 9]"
      ]
     },
     "execution_count": 170,
     "metadata": {},
     "output_type": "execute_result"
    }
   ],
   "source": [
    "ipr_test, prog_test = getProg(\"data/day19test.txt\")\n",
    "\n",
    "execute(ipr_test,prog_test,verbose=True)"
   ]
  },
  {
   "cell_type": "code",
   "execution_count": 171,
   "metadata": {},
   "outputs": [
    {
     "data": {
      "text/plain": [
       "[2223, 883, 882, 256, 1, 883]"
      ]
     },
     "execution_count": 171,
     "metadata": {},
     "output_type": "execute_result"
    }
   ],
   "source": [
    "ipr, prog = getProg(\"data/input19.txt\")\n",
    "\n",
    "execute(ipr,prog,r0=0,verbose=False)"
   ]
  },
  {
   "cell_type": "markdown",
   "metadata": {},
   "source": [
    "## Part 2\n",
    "\n",
    "As one could have expected by now from Eric, with the new register setting the virtual machine enter in a \"infinite\" loop. I guess I'll have to undestand what the loop does and re-implement it in a more efficient way (souvenirs of Synacor Challenge here...)"
   ]
  },
  {
   "cell_type": "code",
   "execution_count": 172,
   "metadata": {},
   "outputs": [
    {
     "name": "stdout",
     "output_type": "stream",
     "text": [
      "ipr = 3\n",
      "0 [1, 0, 0, 0, 0, 0] ['addi', 3, 16, 3] [1, 0, 0, 16, 0, 0]\n",
      "17 [1, 0, 0, 17, 0, 0] ['addi', 2, 2, 2] [1, 0, 2, 17, 0, 0]\n",
      "18 [1, 0, 2, 18, 0, 0] ['mulr', 2, 2, 2] [1, 0, 4, 18, 0, 0]\n",
      "19 [1, 0, 4, 19, 0, 0] ['mulr', 3, 2, 2] [1, 0, 76, 19, 0, 0]\n",
      "20 [1, 0, 76, 20, 0, 0] ['muli', 2, 11, 2] [1, 0, 836, 20, 0, 0]\n",
      "21 [1, 0, 836, 21, 0, 0] ['addi', 4, 2, 4] [1, 0, 836, 21, 2, 0]\n",
      "22 [1, 0, 836, 22, 2, 0] ['mulr', 4, 3, 4] [1, 0, 836, 22, 44, 0]\n",
      "23 [1, 0, 836, 23, 44, 0] ['addi', 4, 2, 4] [1, 0, 836, 23, 46, 0]\n",
      "24 [1, 0, 836, 24, 46, 0] ['addr', 2, 4, 2] [1, 0, 882, 24, 46, 0]\n",
      "25 [1, 0, 882, 25, 46, 0] ['addr', 3, 0, 3] [1, 0, 882, 26, 46, 0]\n",
      "27 [1, 0, 882, 27, 46, 0] ['setr', 3, 8, 4] [1, 0, 882, 27, 27, 0]\n",
      "28 [1, 0, 882, 28, 27, 0] ['mulr', 4, 3, 4] [1, 0, 882, 28, 756, 0]\n",
      "29 [1, 0, 882, 29, 756, 0] ['addr', 3, 4, 4] [1, 0, 882, 29, 785, 0]\n",
      "30 [1, 0, 882, 30, 785, 0] ['mulr', 3, 4, 4] [1, 0, 882, 30, 23550, 0]\n",
      "31 [1, 0, 882, 31, 23550, 0] ['muli', 4, 14, 4] [1, 0, 882, 31, 329700, 0]\n",
      "32 [1, 0, 882, 32, 329700, 0] ['mulr', 4, 3, 4] [1, 0, 882, 32, 10550400, 0]\n",
      "33 [1, 0, 882, 33, 10550400, 0] ['addr', 2, 4, 2] [1, 0, 10551282, 33, 10550400, 0]\n",
      "34 [1, 0, 10551282, 34, 10550400, 0] ['seti', 0, 7, 0] [0, 0, 10551282, 34, 10550400, 0]\n",
      "35 [0, 0, 10551282, 35, 10550400, 0] ['seti', 0, 9, 3] [0, 0, 10551282, 0, 10550400, 0]\n",
      "1 [0, 0, 10551282, 1, 10550400, 0] ['seti', 1, 7, 1] [0, 1, 10551282, 1, 10550400, 0]\n",
      "2 [0, 1, 10551282, 2, 10550400, 0] ['seti', 1, 7, 5] [0, 1, 10551282, 2, 10550400, 1]\n",
      "3 [0, 1, 10551282, 3, 10550400, 1] ['mulr', 1, 5, 4] [0, 1, 10551282, 3, 1, 1]\n",
      "4 [0, 1, 10551282, 4, 1, 1] ['eqrr', 4, 2, 4] [0, 1, 10551282, 4, 0, 1]\n",
      "5 [0, 1, 10551282, 5, 0, 1] ['addr', 4, 3, 3] [0, 1, 10551282, 5, 0, 1]\n",
      "6 [0, 1, 10551282, 6, 0, 1] ['addi', 3, 1, 3] [0, 1, 10551282, 7, 0, 1]\n",
      "8 [0, 1, 10551282, 8, 0, 1] ['addi', 5, 1, 5] [0, 1, 10551282, 8, 0, 2]\n",
      "9 [0, 1, 10551282, 9, 0, 2] ['gtrr', 5, 2, 4] [0, 1, 10551282, 9, 0, 2]\n",
      "10 [0, 1, 10551282, 10, 0, 2] ['addr', 3, 4, 3] [0, 1, 10551282, 10, 0, 2]\n",
      "11 [0, 1, 10551282, 11, 0, 2] ['seti', 2, 2, 3] [0, 1, 10551282, 2, 0, 2]\n",
      "3 [0, 1, 10551282, 3, 0, 2] ['mulr', 1, 5, 4] [0, 1, 10551282, 3, 2, 2]\n",
      "4 [0, 1, 10551282, 4, 2, 2] ['eqrr', 4, 2, 4] [0, 1, 10551282, 4, 0, 2]\n",
      "5 [0, 1, 10551282, 5, 0, 2] ['addr', 4, 3, 3] [0, 1, 10551282, 5, 0, 2]\n",
      "6 [0, 1, 10551282, 6, 0, 2] ['addi', 3, 1, 3] [0, 1, 10551282, 7, 0, 2]\n",
      "8 [0, 1, 10551282, 8, 0, 2] ['addi', 5, 1, 5] [0, 1, 10551282, 8, 0, 3]\n",
      "9 [0, 1, 10551282, 9, 0, 3] ['gtrr', 5, 2, 4] [0, 1, 10551282, 9, 0, 3]\n",
      "10 [0, 1, 10551282, 10, 0, 3] ['addr', 3, 4, 3] [0, 1, 10551282, 10, 0, 3]\n",
      "11 [0, 1, 10551282, 11, 0, 3] ['seti', 2, 2, 3] [0, 1, 10551282, 2, 0, 3]\n",
      "3 [0, 1, 10551282, 3, 0, 3] ['mulr', 1, 5, 4] [0, 1, 10551282, 3, 3, 3]\n",
      "4 [0, 1, 10551282, 4, 3, 3] ['eqrr', 4, 2, 4] [0, 1, 10551282, 4, 0, 3]\n",
      "5 [0, 1, 10551282, 5, 0, 3] ['addr', 4, 3, 3] [0, 1, 10551282, 5, 0, 3]\n",
      "6 [0, 1, 10551282, 6, 0, 3] ['addi', 3, 1, 3] [0, 1, 10551282, 7, 0, 3]\n",
      "8 [0, 1, 10551282, 8, 0, 3] ['addi', 5, 1, 5] [0, 1, 10551282, 8, 0, 4]\n",
      "9 [0, 1, 10551282, 9, 0, 4] ['gtrr', 5, 2, 4] [0, 1, 10551282, 9, 0, 4]\n",
      "10 [0, 1, 10551282, 10, 0, 4] ['addr', 3, 4, 3] [0, 1, 10551282, 10, 0, 4]\n",
      "11 [0, 1, 10551282, 11, 0, 4] ['seti', 2, 2, 3] [0, 1, 10551282, 2, 0, 4]\n",
      "3 [0, 1, 10551282, 3, 0, 4] ['mulr', 1, 5, 4] [0, 1, 10551282, 3, 4, 4]\n",
      "4 [0, 1, 10551282, 4, 4, 4] ['eqrr', 4, 2, 4] [0, 1, 10551282, 4, 0, 4]\n",
      "5 [0, 1, 10551282, 5, 0, 4] ['addr', 4, 3, 3] [0, 1, 10551282, 5, 0, 4]\n",
      "6 [0, 1, 10551282, 6, 0, 4] ['addi', 3, 1, 3] [0, 1, 10551282, 7, 0, 4]\n",
      "8 [0, 1, 10551282, 8, 0, 4] ['addi', 5, 1, 5] [0, 1, 10551282, 8, 0, 5]\n"
     ]
    },
    {
     "data": {
      "text/plain": [
       "[0, 1, 10551282, 8, 0, 5]"
      ]
     },
     "execution_count": 172,
     "metadata": {},
     "output_type": "execute_result"
    }
   ],
   "source": [
    "ipr, prog = getProg(\"data/input19.txt\")\n",
    "\n",
    "print(\"ipr = {}\".format(ipr))\n",
    "\n",
    "execute(ipr,prog,r0=1,verbose=True,stopAfter=50)"
   ]
  },
  {
   "cell_type": "markdown",
   "metadata": {},
   "source": [
    "### Print the program for reference"
   ]
  },
  {
   "cell_type": "code",
   "execution_count": 173,
   "metadata": {},
   "outputs": [
    {
     "name": "stdout",
     "output_type": "stream",
     "text": [
      "0 ['addi', 3, 16, 3]\n",
      "1 ['seti', 1, 7, 1]\n",
      "2 ['seti', 1, 7, 5]\n",
      "3 ['mulr', 1, 5, 4]\n",
      "4 ['eqrr', 4, 2, 4]\n",
      "5 ['addr', 4, 3, 3]\n",
      "6 ['addi', 3, 1, 3]\n",
      "7 ['addr', 1, 0, 0]\n",
      "8 ['addi', 5, 1, 5]\n",
      "9 ['gtrr', 5, 2, 4]\n",
      "10 ['addr', 3, 4, 3]\n",
      "11 ['seti', 2, 2, 3]\n",
      "12 ['addi', 1, 1, 1]\n",
      "13 ['gtrr', 1, 2, 4]\n",
      "14 ['addr', 4, 3, 3]\n",
      "15 ['seti', 1, 5, 3]\n",
      "16 ['mulr', 3, 3, 3]\n",
      "17 ['addi', 2, 2, 2]\n",
      "18 ['mulr', 2, 2, 2]\n",
      "19 ['mulr', 3, 2, 2]\n",
      "20 ['muli', 2, 11, 2]\n",
      "21 ['addi', 4, 2, 4]\n",
      "22 ['mulr', 4, 3, 4]\n",
      "23 ['addi', 4, 2, 4]\n",
      "24 ['addr', 2, 4, 2]\n",
      "25 ['addr', 3, 0, 3]\n",
      "26 ['seti', 0, 8, 3]\n",
      "27 ['setr', 3, 8, 4]\n",
      "28 ['mulr', 4, 3, 4]\n",
      "29 ['addr', 3, 4, 4]\n",
      "30 ['mulr', 3, 4, 4]\n",
      "31 ['muli', 4, 14, 4]\n",
      "32 ['mulr', 4, 3, 4]\n",
      "33 ['addr', 2, 4, 2]\n",
      "34 ['seti', 0, 7, 0]\n",
      "35 ['seti', 0, 9, 3]\n"
     ]
    }
   ],
   "source": [
    "for i in range(len(prog)):\n",
    "    print(i,prog[i])"
   ]
  },
  {
   "cell_type": "markdown",
   "metadata": {},
   "source": [
    "### Studying the program behavior\n",
    "\n",
    "After a few initial instructions, `reg[5]` get set to 1, and then a series of a few instructions gets repeated continiously, between instruction 3 and 11, which outcome seems to be the increment of `reg[5]`:\n",
    "\n",
    "#### The \"infinite'\" loop\n",
    "\n",
    "`3 [0, 1, 10551282, 3, 10550400, 1] ['mulr', 1, 5, 4] [0, 1, 10551282, 3, 1, 1]`  \n",
    "`4 [0, 1, 10551282, 4, 1, 1] ['eqrr', 4, 2, 4] [0, 1, 10551282, 4, 0, 1]`  \n",
    "`5 [0, 1, 10551282, 5, 0, 1] ['addr', 4, 3, 3] [0, 1, 10551282, 5, 0, 1]`  \n",
    "`6 [0, 1, 10551282, 6, 0, 1] ['addi', 3, 1, 3] [0, 1, 10551282, 7, 0, 1]`  \n",
    "`8 [0, 1, 10551282, 8, 0, 1] ['addi', 5, 1, 5] [0, 1, 10551282, 8, 0, 2]`  \n",
    "`9 [0, 1, 10551282, 9, 0, 2] ['gtrr', 5, 2, 4] [0, 1, 10551282, 9, 0, 2]`  \n",
    "`10 [0, 1, 10551282, 10, 0, 2] ['addr', 3, 4, 3] [0, 1, 10551282, 10, 0, 2]`  \n",
    "`11 [0, 1, 10551282, 11, 0, 2] ['seti', 2, 2, 3] [0, 1, 10551282, 2, 0, 2]`  "
   ]
  },
  {
   "cell_type": "markdown",
   "metadata": {},
   "source": [
    "#### What does this portion of the program do?\n",
    "\n",
    "| Line | Instruction | Outcome | `reg[3] / ip` |\n",
    "| :- | :- | :- | - |\n",
    "| ` 2 ['seti', 1, 7, 5]` | | |\n",
    "| ` 3 ['mulr', 1, 5, 4]` | `$4 = $1 * $5` | `$4 = 1 * 1 = 1` | 3 -> 4 |\n",
    "| ` 4 ['eqrr', 4, 2, 4]` | `if $4==$2: $4=1 else: $4=0` | `$2=10551282, $4=1 --> $4=0` | 4 -> 5 |\n",
    "| ` 5 ['addr', 4, 3, 3]` | `$3 += $4` | `$3 += 0 --> $3 = 5 -> 5` | 5 -> 6 |\n",
    "| ` 6 ['addi', 3, 1, 3]` | `$3 += 1`  | `$3: 6->7` | 6->8 |\n",
    "| ` 8 ['addi', 5, 1, 5]` | `$5 += 1`  | `$5: 1->2` | 8->9 | \n",
    "| ` 9 ['gtrr', 5, 2, 4]` | `if $5 > $2: $4=1 else $4=0`| `$2=10551282, $5=2 --> $4=0` | 9 -> 10 |\n",
    "| `10 ['addr', 3, 4, 3]` | `$3 += $4` | `$3 += 0 --> $3 = 10 -> 10` | 10 -> 11 |\n",
    "| `11 ['seti', 2, 2, 3]` | `$3 = 2 `  | `$3 = 2` | 2 ->3 |"
   ]
  },
  {
   "cell_type": "markdown",
   "metadata": {},
   "source": [
    "It looks like the inner loop is searching for divisor of the value stored in R2 (10551282), scanning all values of R5 and multipling it by the value of R1 that is initially set to 1. The first instance of the inner loop would obviously end once R5 reaches 10551282, at this point instruction 5 would set `ipr` to 7."
   ]
  },
  {
   "cell_type": "markdown",
   "metadata": {},
   "source": [
    "#### What happens at line 7?\n",
    "\n",
    "`7 ['addr', 1, 0, 0]`\n",
    "\n",
    "so it looks like the **divisor stored in R1 gets added to R0**, starting from 1."
   ]
  },
  {
   "cell_type": "markdown",
   "metadata": {},
   "source": [
    "#### After a divisor is found\n",
    "\n",
    "Line 8 and following gets executed: the loop increasing R5 continues (no other divisor can be found since R1 is fixed) until R5 exceeds R2, then the program jumps to line 12:\n",
    "\n",
    "`12 ['addi', 1, 1, 1]` R1 is incremented by 1 \n",
    "\n",
    "`13 ['gtrr', 1, 2, 4]` if R1 is greater then R2, then R4 is set to 1. This will make the program skip instruction 15 and go to 16.\n",
    "\n",
    "`14 ['addr', 4, 3, 3]` Add R4 to R3 (instructions pointer). If R4==0 (R1<R2) will go 15.\n",
    "\n",
    "`15 ['seti', 1, 5, 3]` R3 is set to 1, and `ipr` to 5. We are back in the inner loop, with R1 incremented by 1.\n",
    "\n",
    "### Summary\n",
    "\n",
    "The program scans (in a very inefficient way) all possible divisor of the value in R2 (10551282) starting from 1, when it finds one it sums its value to R0, that begins at 0. The program ends when all values between 1 and R2 have been tried."
   ]
  },
  {
   "cell_type": "code",
   "execution_count": 174,
   "metadata": {},
   "outputs": [
    {
     "name": "stdout",
     "output_type": "stream",
     "text": [
      "24117312\n"
     ]
    }
   ],
   "source": [
    "R2 = 10551282 # value in $2\n",
    "R1 = 0        # initial value in $1\n",
    "for R5 in range(1,R2+1): # scan all R5 values between 1 and R2 included\n",
    "    if R2%R5==0: # if a divisor, sum to R1\n",
    "        R1+=R5\n",
    "print(R1)"
   ]
  },
  {
   "cell_type": "code",
   "execution_count": null,
   "metadata": {},
   "outputs": [],
   "source": []
  }
 ],
 "metadata": {
  "kernelspec": {
   "display_name": "Python 3",
   "language": "python",
   "name": "python3"
  },
  "language_info": {
   "codemirror_mode": {
    "name": "ipython",
    "version": 3
   },
   "file_extension": ".py",
   "mimetype": "text/x-python",
   "name": "python",
   "nbconvert_exporter": "python",
   "pygments_lexer": "ipython3",
   "version": "3.9.2"
  }
 },
 "nbformat": 4,
 "nbformat_minor": 4
}
