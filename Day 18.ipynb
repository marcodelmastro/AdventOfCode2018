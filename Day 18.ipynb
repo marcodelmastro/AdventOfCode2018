{
 "cells": [
  {
   "cell_type": "markdown",
   "metadata": {},
   "source": [
    "# Day 18: Settlers of The North Pole"
   ]
  },
  {
   "cell_type": "code",
   "execution_count": 80,
   "metadata": {},
   "outputs": [],
   "source": [
    "import numpy as np\n",
    "\n",
    "OPEN = 0\n",
    "TREE = 1\n",
    "LUMB = 2\n",
    "\n",
    "def getArea(filename):\n",
    "    with open(filename) as f:\n",
    "        lines = [l.strip(\"\\n\") for l in f.readlines()]\n",
    "        area = np.zeros((len(lines),len(lines[0])),dtype=int)\n",
    "        for y in range(len(lines)):\n",
    "            for x in range(len(lines[0])):\n",
    "                if lines[y][x]==\"#\":\n",
    "                    area[y][x]=LUMB\n",
    "                elif lines[y][x]==\"|\":\n",
    "                    area[y][x]=TREE\n",
    "        return area\n",
    "                \n",
    "def getAdiacent(p,area):\n",
    "    x,y = p\n",
    "    return [ (x+i,y+j) for i in (-1,0,1) for j in (-1,0,1) if 0<=x+i<len(area) and 0<=y+j<len(area) and not i==j==0 ]\n",
    "\n",
    "def countTrees(p,area):\n",
    "    trees = 0\n",
    "    lumbs = 0\n",
    "    for a in getAdiacent(p,area):\n",
    "        xa,ya = a\n",
    "        if area[ya][xa]==TREE:\n",
    "            trees +=1\n",
    "        elif area[ya][xa]==LUMB:\n",
    "            lumbs +=1\n",
    "    return trees, lumbs\n",
    "\n",
    "from copy import deepcopy\n",
    "\n",
    "def evolveArea(area):\n",
    "    areanew = deepcopy(area)\n",
    "    for y in range(len(area)):\n",
    "        for x in range(len(area[0])):\n",
    "            p = (x,y)\n",
    "            t,l = countTrees(p,area)\n",
    "            if area[y][x]==OPEN:\n",
    "                if t>=3:\n",
    "                    areanew[y][x]=TREE\n",
    "                else:\n",
    "                    areanew[y][x]=OPEN\n",
    "            elif area[y][x]==TREE:\n",
    "                if l>=3:\n",
    "                    areanew[y][x]=LUMB\n",
    "                else:\n",
    "                    areanew[y][x]=TREE\n",
    "            elif area[y][x]==LUMB:\n",
    "                if l>=1 and t>=1:\n",
    "                    areanew[y][x]=LUMB\n",
    "                else:\n",
    "                    areanew[y][x]=OPEN\n",
    "    resource = sum(areanew[areanew==TREE])//TREE*sum(areanew[areanew==LUMB])//LUMB\n",
    "    return areanew,resource"
   ]
  },
  {
   "cell_type": "code",
   "execution_count": 91,
   "metadata": {},
   "outputs": [
    {
     "data": {
      "image/png": "[encoded data removed]",
      "text/plain": [
       "<Figure size 500x500 with 1 Axes>"
      ]
     },
     "metadata": {
      "needs_background": "light"
     },
     "output_type": "display_data"
    },
    {
     "data": {
      "image/png": "[encoded data removed]",
      "text/plain": [
       "<Figure size 500x500 with 1 Axes>"
      ]
     },
     "metadata": {
      "needs_background": "light"
     },
     "output_type": "display_data"
    },
    {
     "name": "stdout",
     "output_type": "stream",
     "text": [
      "Resources = 360720\n"
     ]
    }
   ],
   "source": [
    "import matplotlib.pyplot as plt\n",
    "\n",
    "#filename = \"data/day18text.txt\"\n",
    "filename = \"data/input18.txt\"\n",
    "\n",
    "area = getArea(filename)\n",
    "\n",
    "plt.figure(figsize=(5,5),dpi=100)\n",
    "s = plt.imshow(area)\n",
    "plt.show()\n",
    "\n",
    "for _ in range(10):\n",
    "    areanew,r = evolveArea(area)\n",
    "    area = deepcopy(areanew)\n",
    "\n",
    "plt.figure(figsize=(5,5),dpi=100)\n",
    "s = plt.imshow(area)\n",
    "plt.show()\n",
    "    \n",
    "print(\"Resources =\",r)"
   ]
  },
  {
   "cell_type": "markdown",
   "metadata": {},
   "source": [
    "## Part 2"
   ]
  },
  {
   "cell_type": "code",
   "execution_count": 109,
   "metadata": {},
   "outputs": [],
   "source": [
    "from collections import defaultdict\n",
    "\n",
    "filename = \"data/input18.txt\"\n",
    "area = getArea(filename)\n",
    "\n",
    "history = defaultdict(bool)\n",
    "\n",
    "#longtime = 1000000000\n",
    "longtime = 1000\n",
    "T=[]\n",
    "R=[]\n",
    "\n",
    "for m in range(1,longtime+1):\n",
    "    areanew,r = evolveArea(area)\n",
    "    if history[r] and m>500:\n",
    "        #print(\"Found period at minute\",m,\"with resources =\",r)\n",
    "        #break\n",
    "        T.append(m)\n",
    "        R.append(r)\n",
    "    else:\n",
    "        history[r]=True\n",
    "    area = deepcopy(areanew)"
   ]
  },
  {
   "cell_type": "code",
   "execution_count": 110,
   "metadata": {},
   "outputs": [
    {
     "data": {
      "text/plain": [
       "<matplotlib.collections.PathCollection at 0x15d835bb0>"
      ]
     },
     "execution_count": 110,
     "metadata": {},
     "output_type": "execute_result"
    },
    {
     "data": {
      "image/png": "[encoded data removed]",
      "text/plain": [
       "<Figure size 1500x500 with 1 Axes>"
      ]
     },
     "metadata": {
      "needs_background": "light"
     },
     "output_type": "display_data"
    }
   ],
   "source": [
    "plt.figure(figsize=(15,5),dpi=100)\n",
    "plt.scatter(T,R)"
   ]
  },
  {
   "cell_type": "code",
   "execution_count": 147,
   "metadata": {},
   "outputs": [],
   "source": [
    "def getResources(t,T,R):\n",
    "    r0 = R[0]\n",
    "    t0 = T[0]\n",
    "    d = 0\n",
    "    for _t,_r in zip(T,R):\n",
    "        if _r==r0 and _t!=T[0]:\n",
    "            d = _t-T[0]\n",
    "            break\n",
    "    return R[(t-t0)%d]"
   ]
  },
  {
   "cell_type": "code",
   "execution_count": 148,
   "metadata": {},
   "outputs": [
    {
     "name": "stdout",
     "output_type": "stream",
     "text": [
      "190314\n",
      "190314\n"
     ]
    }
   ],
   "source": [
    "filename = \"data/input18.txt\"\n",
    "area = getArea(filename)\n",
    "\n",
    "t = 800\n",
    "\n",
    "for m in range(1,t+1):\n",
    "    areanew,r = evolveArea(area)\n",
    "    area = deepcopy(areanew)\n",
    "\n",
    "print(r)\n",
    "print(getResources(800,T,R))"
   ]
  },
  {
   "cell_type": "code",
   "execution_count": 149,
   "metadata": {},
   "outputs": [
    {
     "name": "stdout",
     "output_type": "stream",
     "text": [
      "197276\n"
     ]
    }
   ],
   "source": [
    "print(getResources(1000000000,T,R))"
   ]
  },
  {
   "cell_type": "code",
   "execution_count": null,
   "metadata": {},
   "outputs": [],
   "source": []
  }
 ],
 "metadata": {
  "kernelspec": {
   "display_name": "Python 3",
   "language": "python",
   "name": "python3"
  },
  "language_info": {
   "codemirror_mode": {
    "name": "ipython",
    "version": 3
   },
   "file_extension": ".py",
   "mimetype": "text/x-python",
   "name": "python",
   "nbconvert_exporter": "python",
   "pygments_lexer": "ipython3",
   "version": "3.9.2"
  }
 },
 "nbformat": 4,
 "nbformat_minor": 4
}
