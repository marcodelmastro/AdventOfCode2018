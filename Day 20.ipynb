{
 "cells": [
  {
   "cell_type": "markdown",
   "id": "binary-scholarship",
   "metadata": {},
   "source": [
    "# Day 20\n",
    "\n",
    "## Part 1\n",
    "\n",
    "Since I don't know the grid size I won't try to plot it or save the information about each room and what door is open to where. I hope I won't regret this for Part 2, tough...\n",
    "\n",
    "I will save the minimal distance from the origin point for each new position I explore: this should correspond to the minumum number of traversed doors to get there. The answer to Part 1 should be the maximum of this values."
   ]
  },
  {
   "cell_type": "code",
   "execution_count": 191,
   "id": "gorgeous-return",
   "metadata": {},
   "outputs": [],
   "source": [
    "from collections import defaultdict, deque\n",
    "\n",
    "dirs = { \"N\": (0,+1), \"S\": (0,-1), \"W\": (-1,0), \"E\": (+1,0) }\n",
    "\n",
    "def move(p,i):\n",
    "    return tuple([ _p+_d for _p,_d in zip(p,dirs[i]) ])\n",
    "\n",
    "def countDoors(instr,verbose=False):\n",
    "    p = (0,0)\n",
    "    # minimum number of doors to be traversed to get to this room\n",
    "    doors = defaultdict(lambda: -1) # -1 = not yet explored\n",
    "    doors[p] = 0 \n",
    "    stack = deque() # I tried with a Queue() but it does not do want I want, e.g. LIFO behaviour\n",
    "    for i in instr:\n",
    "        if i==\"^\" or i==\"$\":\n",
    "            pass\n",
    "        elif i==\"(\":\n",
    "            if verbose: print(\"( Branch\")\n",
    "            stack.append(p)\n",
    "        elif i==\"|\":\n",
    "            # no need to remove and add again as I initially was doing with a Queue()\n",
    "            #p = stack.pop()\n",
    "            #stack.append(p)\n",
    "            p = stack[-1] \n",
    "            if verbose: print(\"| Back to\",p)\n",
    "        elif i==\")\":\n",
    "            p = stack.pop()\n",
    "            if verbose: print(\") Back to\",p)\n",
    "        else:\n",
    "            if verbose: print(i,end=\" -> \")\n",
    "            pnew = move(p,i)\n",
    "            # if already explored this room, save shortest distance to it\n",
    "            if doors[pnew]==-1: # not yet explored\n",
    "                doors[pnew] = doors[p]+1\n",
    "            else: # explored, but maybe from a longer path\n",
    "                doors[pnew] = min( doors[pnew], doors[p]+1 )\n",
    "            p = pnew\n",
    "        if verbose: print(p,doors[p],end=\" \")\n",
    "    if verbose: print()\n",
    "    # return max(doors.values()) # direct solution to Part 1\n",
    "    return doors # also needed for Part 2"
   ]
  },
  {
   "cell_type": "code",
   "execution_count": 193,
   "id": "dangerous-tobacco",
   "metadata": {},
   "outputs": [
    {
     "name": "stdout",
     "output_type": "stream",
     "text": [
      "(0, 0) 0 E -> (1, 0) 1 N -> (1, 1) 2 W -> (0, 1) 3 W -> (-1, 1) 4 W -> (-2, 1) 5 ( Branch\n",
      "(-2, 1) 5 N -> (-2, 2) 6 E -> (-1, 2) 7 E -> (0, 2) 8 E -> (1, 2) 9 | Back to (-2, 1)\n",
      "(-2, 1) 5 S -> (-2, 0) 6 S -> (-2, -1) 7 E -> (-1, -1) 8 ( Branch\n",
      "(-1, -1) 8 E -> (0, -1) 9 E -> (1, -1) 10 | Back to (-1, -1)\n",
      "(-1, -1) 8 N -> (-1, 0) 9 ) Back to (-1, -1)\n",
      "(-1, -1) 8 ) Back to (-2, 1)\n",
      "(-2, 1) 5 (-2, 1) 5 \n",
      "10\n"
     ]
    }
   ],
   "source": [
    "instr = \"^ENWWW(NEEE|SSE(EE|N))$\"\n",
    "print( max( countDoors(instr,True).values() ) ) # 10"
   ]
  },
  {
   "cell_type": "code",
   "execution_count": 194,
   "id": "extended-footwear",
   "metadata": {},
   "outputs": [
    {
     "name": "stdout",
     "output_type": "stream",
     "text": [
      "(0, 0) 0 W -> (-1, 0) 1 N -> (-1, 1) 2 E -> (0, 1) 3 (0, 1) 3 \n",
      "3\n"
     ]
    }
   ],
   "source": [
    "instr = \"^WNE$\"\n",
    "print( max( countDoors(instr,True).values() ) )  # 3"
   ]
  },
  {
   "cell_type": "code",
   "execution_count": 195,
   "id": "suspected-suggestion",
   "metadata": {},
   "outputs": [
    {
     "name": "stdout",
     "output_type": "stream",
     "text": [
      "18\n"
     ]
    }
   ],
   "source": [
    "instr = \"^ENNWSWW(NEWS|)SSSEEN(WNSE|)EE(SWEN|)NNN$\"\n",
    "print( max( countDoors(instr).values() ) )  # 18"
   ]
  },
  {
   "cell_type": "code",
   "execution_count": 196,
   "id": "varying-passing",
   "metadata": {},
   "outputs": [
    {
     "name": "stdout",
     "output_type": "stream",
     "text": [
      "23\n"
     ]
    }
   ],
   "source": [
    "instr = \"^ESSWWN(E|NNENN(EESS(WNSE|)SSS|WWWSSSSE(SW|NNNE)))$\"\n",
    "print( max( countDoors(instr).values() ) ) # 23"
   ]
  },
  {
   "cell_type": "code",
   "execution_count": 197,
   "id": "continental-morning",
   "metadata": {},
   "outputs": [
    {
     "name": "stdout",
     "output_type": "stream",
     "text": [
      "31\n"
     ]
    }
   ],
   "source": [
    "instr = \"^WSSEESWWWNW(S|NENNEEEENN(ESSSSW(NWSW|SSEN)|WSWWN(E|WWS(E|SS))))$\"\n",
    "print( max( countDoors(instr).values() ) ) # 31"
   ]
  },
  {
   "cell_type": "code",
   "execution_count": 198,
   "id": "ideal-grade",
   "metadata": {},
   "outputs": [
    {
     "name": "stdout",
     "output_type": "stream",
     "text": [
      "4018\n"
     ]
    }
   ],
   "source": [
    "with open(\"data/input20.txt\") as f:\n",
    "    instr = f.readlines()[0].strip(\"\\n\")\n",
    "print( max( countDoors(instr).values() ) )"
   ]
  },
  {
   "cell_type": "markdown",
   "id": "informational-health",
   "metadata": {},
   "source": [
    "## Part 2\n",
    "\n",
    "I'm so happy to have decided against plotting the facilty! \n",
    "I can directly use the `doors` dictionary to solve Part 2!"
   ]
  },
  {
   "cell_type": "code",
   "execution_count": 206,
   "id": "established-minnesota",
   "metadata": {},
   "outputs": [
    {
     "name": "stdout",
     "output_type": "stream",
     "text": [
      "8581\n"
     ]
    }
   ],
   "source": [
    "import numpy as np\n",
    "doors = countDoors(instr)\n",
    "d = np.array(list(doors.values()))\n",
    "print(len(d[d>=1000]))"
   ]
  },
  {
   "cell_type": "code",
   "execution_count": null,
   "id": "satisfied-logic",
   "metadata": {},
   "outputs": [],
   "source": []
  }
 ],
 "metadata": {
  "kernelspec": {
   "display_name": "Python 3",
   "language": "python",
   "name": "python3"
  },
  "language_info": {
   "codemirror_mode": {
    "name": "ipython",
    "version": 3
   },
   "file_extension": ".py",
   "mimetype": "text/x-python",
   "name": "python",
   "nbconvert_exporter": "python",
   "pygments_lexer": "ipython3",
   "version": "3.9.2"
  }
 },
 "nbformat": 4,
 "nbformat_minor": 5
}
