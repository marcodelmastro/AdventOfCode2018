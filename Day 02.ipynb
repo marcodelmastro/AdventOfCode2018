{
 "cells": [
  {
   "cell_type": "markdown",
   "metadata": {},
   "source": [
    "## Day 2"
   ]
  },
  {
   "cell_type": "code",
   "execution_count": 9,
   "metadata": {},
   "outputs": [],
   "source": [
    "with open(\"./data/input2.txt\") as f:\n",
    "    lines = [ l.rstrip('\\n') for l in f]"
   ]
  },
  {
   "cell_type": "code",
   "execution_count": 15,
   "metadata": {},
   "outputs": [
    {
     "data": {
      "text/plain": [
       "(248, 31, 7688)"
      ]
     },
     "execution_count": 15,
     "metadata": {},
     "output_type": "execute_result"
    }
   ],
   "source": [
    "def countOccurrences(l):\n",
    "    hasTwo = False\n",
    "    hasThree = False\n",
    "    for c in sorted(l):\n",
    "        if l.count(c)==2:\n",
    "            hasTwo = True  \n",
    "        if l.count(c)==3:\n",
    "            hasThree = True  \n",
    "    return hasTwo, hasThree\n",
    "\n",
    "n2 = 0\n",
    "n3 = 0\n",
    "\n",
    "for l in lines:\n",
    "    hasTwo, hasThree = countOccurrences(l)\n",
    "    if hasTwo:\n",
    "        n2 +=1\n",
    "    if hasThree:\n",
    "        n3 += 1\n",
    "\n",
    "n2, n3, n2*n3"
   ]
  },
  {
   "cell_type": "code",
   "execution_count": 24,
   "metadata": {},
   "outputs": [
    {
     "name": "stdout",
     "output_type": "stream",
     "text": [
      "lsrivmotzbdxpkxnaqmuwcgchj\n",
      "lsrivmotzbdxpkxnaqmuwcychj\n",
      "['g']\n",
      "lsrivmotzbdxpkxnaqmuwcchj\n"
     ]
    }
   ],
   "source": [
    "def compareWords(a,b):\n",
    "    words=zip(a,b)\n",
    "    diff=[c for c,d in words if c!=d]\n",
    "    return diff\n",
    "\n",
    "from itertools import combinations\n",
    "\n",
    "for comb in combinations(lines,2):\n",
    "    a = comb[0]\n",
    "    b = comb[1]\n",
    "    diff = compareWords(a,b)\n",
    "    if len(diff)==1:\n",
    "        print(a)\n",
    "        print(b)\n",
    "        print(diff)\n",
    "        common = a.replace(diff[0],\"\")\n",
    "        print(common)\n",
    "        break"
   ]
  },
  {
   "cell_type": "code",
   "execution_count": null,
   "metadata": {},
   "outputs": [],
   "source": []
  }
 ],
 "metadata": {
  "kernelspec": {
   "display_name": "Python 3",
   "language": "python",
   "name": "python3"
  },
  "language_info": {
   "codemirror_mode": {
    "name": "ipython",
    "version": 3
   },
   "file_extension": ".py",
   "mimetype": "text/x-python",
   "name": "python",
   "nbconvert_exporter": "python",
   "pygments_lexer": "ipython3",
   "version": "3.9.0"
  }
 },
 "nbformat": 4,
 "nbformat_minor": 2
}
