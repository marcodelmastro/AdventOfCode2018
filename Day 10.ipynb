{
 "cells": [
  {
   "cell_type": "markdown",
   "metadata": {},
   "source": [
    "# Day 10"
   ]
  },
  {
   "cell_type": "code",
   "execution_count": 26,
   "metadata": {},
   "outputs": [],
   "source": [
    "import re\n",
    "\n",
    "def getCoord(filename):\n",
    "    f = open(filename)\n",
    "    values = re.compile(r'[-]?\\d+')\n",
    "    coord = []\n",
    "    for l in f.readlines():\n",
    "        v = [int(d) for d in re.findall(values,l)]\n",
    "        #print(l.strip(\"\\n\"),v)\n",
    "        coord.append([ v[:2],v[2:] ])\n",
    "    return coord"
   ]
  },
  {
   "cell_type": "code",
   "execution_count": 27,
   "metadata": {},
   "outputs": [],
   "source": [
    "import numpy as np\n",
    "import matplotlib.pyplot as plt\n",
    "\n",
    "def GridSizes(coord):\n",
    "    X = []\n",
    "    Y = []\n",
    "    for c in coord:\n",
    "        x,y = c[0]\n",
    "        X.append(x)\n",
    "        Y.append(y)\n",
    "    xmin = min(X)\n",
    "    xmax = max(X)\n",
    "    ymin = min(Y)\n",
    "    ymax = max(Y)\n",
    "    return xmin,xmax,ymin,ymax\n",
    "\n",
    "def CoordToGrid(coord,xmin,xmax,ymin,ymax):\n",
    "    grid = np.zeros((ymax-ymin+1,xmax-xmin+1))\n",
    "    for c in coord:\n",
    "        x,y = c[0]\n",
    "        grid[y-ymin][x-xmin] = 1\n",
    "    return grid\n",
    "\n",
    "def EvolveCoord(coord):\n",
    "    for i in range(len(coord)):\n",
    "        x,y = coord[i][0]\n",
    "        vx,vy = coord[i][1]\n",
    "        coord[i][0] = [x+vx,y+vy]\n",
    "    return coord"
   ]
  },
  {
   "cell_type": "code",
   "execution_count": 28,
   "metadata": {},
   "outputs": [
    {
     "name": "stdout",
     "output_type": "stream",
     "text": [
      "Seconds needed for message to appear = 10081\n"
     ]
    },
    {
     "data": {
      "text/plain": [
       "<matplotlib.image.AxesImage at 0x160ce98e0>"
      ]
     },
     "execution_count": 28,
     "metadata": {},
     "output_type": "execute_result"
    },
    {
     "data": {
      "image/png": "[encoded data removed]",
      "text/plain": [
       "<Figure size 720x720 with 1 Axes>"
      ]
     },
     "metadata": {
      "needs_background": "light"
     },
     "output_type": "display_data"
    }
   ],
   "source": [
    "from copy import deepcopy\n",
    "\n",
    "#coord = getCoord(\"data/day10test0.txt\")\n",
    "coord = getCoord(\"data/input10.txt\")\n",
    "\n",
    "xmin,xmax,ymin,ymax = GridSizes(coord)\n",
    "sizes = [ (xmax-xmin+1)*(ymax-ymin+1) ]\n",
    "\n",
    "t = 0\n",
    "while True:    \n",
    "    coord0 = deepcopy(coord) # save a copy of previous state\n",
    "    coord = EvolveCoord(coord)\n",
    "    xmin,xmax,ymin,ymax = GridSizes(coord)\n",
    "    sizes.append( (xmax-xmin+1)*(ymax-ymin+1) )    \n",
    "    if len(sizes)>=2: # image has appeared when panel size starts growing again\n",
    "        if sizes[-2]-sizes[-1] < 0:\n",
    "            break\n",
    "    t+=1\n",
    "\n",
    "print(\"Seconds needed for message to appear =\",t)\n",
    "\n",
    "xmin,xmax,ymin,ymax = GridSizes(coord0)\n",
    "grid = CoordToGrid(coord0,xmin,xmax,ymin,ymax)\n",
    "plt.figure(figsize=(10,10))\n",
    "plt.imshow(grid)"
   ]
  },
  {
   "cell_type": "code",
   "execution_count": null,
   "metadata": {},
   "outputs": [],
   "source": []
  }
 ],
 "metadata": {
  "kernelspec": {
   "display_name": "Python 3",
   "language": "python",
   "name": "python3"
  },
  "language_info": {
   "codemirror_mode": {
    "name": "ipython",
    "version": 3
   },
   "file_extension": ".py",
   "mimetype": "text/x-python",
   "name": "python",
   "nbconvert_exporter": "python",
   "pygments_lexer": "ipython3",
   "version": "3.9.0"
  }
 },
 "nbformat": 4,
 "nbformat_minor": 4
}
