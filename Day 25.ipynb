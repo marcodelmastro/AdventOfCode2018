{
 "cells": [
  {
   "cell_type": "markdown",
   "metadata": {},
   "source": [
    "# Day 25\n",
    "\n",
    "Not very efficient, but it seems to work. Maybe using something else then `list` might improve the perfomance, but I suspect that also looping on all stars in all formeing constellation does no help much..."
   ]
  },
  {
   "cell_type": "code",
   "execution_count": 105,
   "metadata": {},
   "outputs": [],
   "source": [
    "import numpy as np\n",
    "\n",
    "def readStars(filename):\n",
    "    with open(filename) as f:\n",
    "        return [ [ int(d) for d in l.strip(\"\\n\").split(\",\") ] for l in f.readlines() ]\n",
    "\n",
    "def dist(p1,p2):\n",
    "    return( sum(abs(np.array(p1)-np.array(p2))) )\n",
    "\n",
    "def findConstellations(stars,verbose=False,progress=False):\n",
    "\n",
    "    constellations = [ [ stars.pop(0) ] ] # initialise constellation list with first star\n",
    "\n",
    "    while len(stars):\n",
    "        added = False\n",
    "        for c in constellations: # try to append stars to existing constellation(s)\n",
    "            for sc in c:\n",
    "                i = 0\n",
    "                while i<len(stars):\n",
    "                    s = stars[i]\n",
    "                    if dist(sc,s)<=3:\n",
    "                        if verbose:\n",
    "                            print(\"Adding\",s,\"to\",c,\"since close to\",sc)\n",
    "                        c.append(stars.pop(i)) \n",
    "                        # ...and don't increment i since the stars array lenght has changed!\n",
    "                    else:\n",
    "                        i+=1\n",
    "        # if not possible to append to and existing constellation, create a new one with the next available star\n",
    "        if len(stars):\n",
    "            constellations.append([ stars.pop(0) ])\n",
    "        if progress:\n",
    "            print(len(stars),end=\" \")\n",
    "    \n",
    "    if progress:\n",
    "        print()\n",
    "    return constellations"
   ]
  },
  {
   "cell_type": "code",
   "execution_count": 106,
   "metadata": {},
   "outputs": [
    {
     "name": "stdout",
     "output_type": "stream",
     "text": [
      "Adding [3, 0, 0, 0] to [[0, 0, 0, 0]] since close to [0, 0, 0, 0]\n",
      "Adding [0, 3, 0, 0] to [[0, 0, 0, 0], [3, 0, 0, 0]] since close to [0, 0, 0, 0]\n",
      "Adding [0, 0, 3, 0] to [[0, 0, 0, 0], [3, 0, 0, 0], [0, 3, 0, 0]] since close to [0, 0, 0, 0]\n",
      "Adding [0, 0, 0, 3] to [[0, 0, 0, 0], [3, 0, 0, 0], [0, 3, 0, 0], [0, 0, 3, 0]] since close to [0, 0, 0, 0]\n",
      "Adding [0, 0, 0, 6] to [[0, 0, 0, 0], [3, 0, 0, 0], [0, 3, 0, 0], [0, 0, 3, 0], [0, 0, 0, 3]] since close to [0, 0, 0, 3]\n",
      "Adding [12, 0, 0, 0] to [[9, 0, 0, 0]] since close to [9, 0, 0, 0]\n",
      "*** Found 2 constellations\n"
     ]
    }
   ],
   "source": [
    "stars = readStars(\"data/day25test.txt\")\n",
    "constellations = findConstellations(stars,verbose=True)\n",
    "print(\"*** Found\",len(constellations),\"constellations\")"
   ]
  },
  {
   "cell_type": "code",
   "execution_count": 107,
   "metadata": {},
   "outputs": [
    {
     "name": "stdout",
     "output_type": "stream",
     "text": [
      "*** Found 4 constellations\n",
      "*** Found 3 constellations\n",
      "*** Found 8 constellations\n"
     ]
    }
   ],
   "source": [
    "print(\"*** Found\",len(findConstellations(readStars(\"data/day25test2.txt\"))),\"constellations\")\n",
    "print(\"*** Found\",len(findConstellations(readStars(\"data/day25test3.txt\"))),\"constellations\")\n",
    "print(\"*** Found\",len(findConstellations(readStars(\"data/day25test4.txt\"))),\"constellations\")"
   ]
  },
  {
   "cell_type": "code",
   "execution_count": 108,
   "metadata": {},
   "outputs": [
    {
     "name": "stdout",
     "output_type": "stream",
     "text": [
      "754 753 745 743 742 740 739 738 728 720 710 708 706 699 697 696 695 694 693 692 689 688 680 678 677 674 670 660 655 649 632 630 628 627 620 608 607 601 596 595 575 573 570 564 560 558 556 549 544 540 534 533 531 523 518 517 514 513 509 507 504 498 497 495 494 492 491 486 484 483 481 475 472 465 464 463 461 460 459 454 452 441 439 438 437 433 431 430 425 423 419 418 415 414 412 411 407 406 405 403 402 387 385 380 379 378 377 376 374 372 370 368 365 364 356 353 348 347 342 339 338 337 335 334 331 329 327 326 321 320 317 315 311 305 304 301 300 295 294 293 292 291 290 288 287 286 285 284 282 281 280 279 278 276 275 272 268 267 265 263 262 260 259 258 257 255 245 243 239 238 237 236 234 233 232 231 228 227 225 224 223 222 220 216 215 214 213 212 210 207 206 205 202 201 199 198 197 195 194 190 189 188 187 186 184 182 181 178 177 176 175 174 173 172 171 170 169 168 167 166 165 164 163 162 161 160 159 158 157 154 153 152 151 149 146 145 144 142 141 139 138 136 135 134 133 132 131 129 128 127 123 118 117 116 115 114 113 112 110 109 108 107 106 105 104 103 101 100 99 98 97 96 95 94 93 92 91 90 89 88 87 86 85 84 83 82 81 79 78 76 74 73 72 71 70 68 67 66 65 64 63 62 61 60 59 55 54 53 52 51 50 49 48 47 46 45 44 43 42 41 40 39 38 37 35 34 33 32 31 30 29 28 27 26 25 24 23 22 21 20 19 18 17 15 14 13 12 11 10 8 7 6 5 4 3 2 1 0 \n",
      "*** Found 359 constellations\n"
     ]
    }
   ],
   "source": [
    "print(\"*** Found\",len(findConstellations(readStars(\"data/input25.txt\"),progress=True)),\"constellations\")"
   ]
  },
  {
   "cell_type": "code",
   "execution_count": null,
   "metadata": {},
   "outputs": [],
   "source": []
  }
 ],
 "metadata": {
  "kernelspec": {
   "display_name": "Python 3",
   "language": "python",
   "name": "python3"
  },
  "language_info": {
   "codemirror_mode": {
    "name": "ipython",
    "version": 3
   },
   "file_extension": ".py",
   "mimetype": "text/x-python",
   "name": "python",
   "nbconvert_exporter": "python",
   "pygments_lexer": "ipython3",
   "version": "3.9.2"
  }
 },
 "nbformat": 4,
 "nbformat_minor": 4
}
