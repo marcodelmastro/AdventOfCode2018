{
 "cells": [
  {
   "cell_type": "markdown",
   "metadata": {},
   "source": [
    "# Day 13: Mine Cart Madness"
   ]
  },
  {
   "cell_type": "code",
   "execution_count": 452,
   "metadata": {},
   "outputs": [],
   "source": [
    "import numpy as np\n",
    "\n",
    "TRACK  = 1\n",
    "ANGLE1 = 2\n",
    "ANGLE2 = 3\n",
    "CROSS  = 4\n",
    "CART   = 7\n",
    "\n",
    "tracks = [ \"-\", \"|\" ]\n",
    "carts  = [ \">\", \"<\", \"^\", \"v\"]\n",
    "\n",
    "def getLines(filename):\n",
    "    with open(filename) as f:\n",
    "        lines = [ l.strip(\"\\n\") for l in f.readlines() ]\n",
    "        return lines\n",
    "\n",
    "def getGrid(lines):\n",
    "    grid = np.zeros((len(lines),len(lines[0])),dtype=int)\n",
    "    cart = []\n",
    "    i = 1j # imaginary unit\n",
    "    # directions as complex number\n",
    "    dirs = {}\n",
    "    dirs[\">\"] = +1\n",
    "    dirs[\"<\"] = -1\n",
    "    dirs[\"^\"] = -1j\n",
    "    dirs[\"v\"] = +1j\n",
    "    for y in range(len(lines)):\n",
    "        for x in range(len(lines[0])):\n",
    "            if lines[y][x] in tracks:\n",
    "                grid[y][x] = TRACK\n",
    "            elif lines[y][x] == \"\\\\\":\n",
    "                grid[y][x] = ANGLE1\n",
    "            elif lines[y][x] == \"/\":\n",
    "                grid[y][x] = ANGLE2\n",
    "            elif lines[y][x] == \"+\":\n",
    "                grid[y][x] = CROSS\n",
    "            elif lines[y][x] in carts:\n",
    "                grid[y][x] = TRACK\n",
    "                c = x+i*y\n",
    "                # saving carts as (X+iY), direction, sense, last turn index\n",
    "                cart.append((c,c,dirs[lines[y][x]],0))\n",
    "    return grid,cart\n",
    "\n",
    "import matplotlib.pyplot as plt\n",
    "\n",
    "def drawGrid(cart,grid):\n",
    "    print(cart)\n",
    "    prev = []\n",
    "    for c,cold,d,t in cart:\n",
    "        x = int(c.real)\n",
    "        y = int(c.imag)\n",
    "        prev.append(grid[y][x])\n",
    "        grid[y][x] = CART   \n",
    "    plt.imshow(grid)\n",
    "    plt.show()\n",
    "    for C,p in zip(cart,prev):\n",
    "        c,cold,d,t = C\n",
    "        x = int(c.real)\n",
    "        y = int(c.imag)\n",
    "        grid[y][x] = p"
   ]
  },
  {
   "cell_type": "code",
   "execution_count": 429,
   "metadata": {},
   "outputs": [
    {
     "data": {
      "image/png": "[encoded data removed]",
      "text/plain": [
       "<Figure size 432x288 with 1 Axes>"
      ]
     },
     "metadata": {
      "needs_background": "light"
     },
     "output_type": "display_data"
    }
   ],
   "source": [
    "filename = \"data/day13test.txt\"\n",
    "grid,cart = getGrid(getLines(filename))\n",
    "drawGrid(cart,grid)"
   ]
  },
  {
   "cell_type": "code",
   "execution_count": 481,
   "metadata": {},
   "outputs": [],
   "source": [
    "from collections import Counter\n",
    "\n",
    "def race(cart,grid,removeCrash=False,verbose=False):\n",
    "\n",
    "    if verbose:\n",
    "        drawGrid(cart,grid)\n",
    "\n",
    "    while True:\n",
    "\n",
    "        # sort carts according to Y position\n",
    "        cart = sorted(cart,key=lambda x: int(x[0].imag))\n",
    "        \n",
    "        if verbose:\n",
    "            print(\"old positions:\",cart)\n",
    "\n",
    "        # move carts\n",
    "        cartnew = []\n",
    "        for c,cold,d,t in cart:\n",
    "\n",
    "            x = int(c.real)\n",
    "            y = int(c.imag)\n",
    "\n",
    "            if grid[y][x] == TRACK:\n",
    "                cnew = c+d\n",
    "                cold = c\n",
    "                cartnew.append( (cnew,cold,d,t) )\n",
    "\n",
    "            elif grid[y][x] == ANGLE1: # \\\n",
    "                if c-cold == +1: # horiz left to righ, turn down\n",
    "                    cnew = x + (y+1) * 1j\n",
    "                    d = dirs[\"v\"]\n",
    "                elif c-cold == -1: # horiz right to left, turn up\n",
    "                    cnew = x + (y-1) * 1j\n",
    "                    d = dirs[\"^\"]\n",
    "                elif c-cold == -1j: # vert down to up, turn toward left\n",
    "                    cnew = x-1 + y * 1j\n",
    "                    d = dirs[\"<\"]\n",
    "                elif c-cold == +1j: # vert up to down, turn toward right\n",
    "                    cnew = x+1 + y * 1j\n",
    "                    d = dirs[\">\"]\n",
    "                cold = c\n",
    "                cartnew.append( (cnew,cold,d,t) )\n",
    "            \n",
    "            elif grid[y][x] == ANGLE2: # /\n",
    "                if c-cold == +1: # horiz left to righ, turn up\n",
    "                    cnew = x + (y-1) * 1j\n",
    "                    d = dirs[\"^\"]\n",
    "                elif c-cold == -1: # horiz right to left, turn down\n",
    "                    cnew = x + (y+1) * 1j\n",
    "                    d = dirs[\"v\"]\n",
    "                elif c-cold == -1j: # vert down to up, turn toward right\n",
    "                    cnew = x+1 + y * 1j\n",
    "                    d = dirs[\">\"]\n",
    "                elif c-cold == +1j: # vert up to down, turn toward left\n",
    "                    cnew = x-1 + y * 1j\n",
    "                    d = dirs[\"<\"]\n",
    "                cold = c\n",
    "                cartnew.append( (cnew,cold,d,t) )\n",
    "            \n",
    "            elif grid[y][x] == CROSS:\n",
    "                if t==0: # turn left\n",
    "                    cnew = c-d*1j\n",
    "                    dnew = d*-1j\n",
    "                elif t==1: # go straight\n",
    "                    cnew = c+d\n",
    "                    dnew = d\n",
    "                elif t==2: # turn right\n",
    "                    cnew = c+d*1j\n",
    "                    dnew = d*1j\n",
    "                tnew = (t+1)%3\n",
    "                cold = c\n",
    "                cartnew.append( (cnew,cold,dnew,tnew) )\n",
    "                \n",
    "            # check for collisions after having moved each cart\n",
    "            counter = Counter([ c for c,cold,d,t in cartnew ])\n",
    "            if counter.most_common()[0][1]==2: # detected a crash\n",
    "                if removeCrash==False: # Part 1: stop if collision is detected\n",
    "                    coll = counter.most_common()[0][0]\n",
    "                    print(\"Collision at (X,Y) = ({},{})\".format(int(coll.real),int(coll.imag)))\n",
    "                    return\n",
    "                else: # Part 2: remove crashed carts\n",
    "                    crashloc = [ p[0] for p in counter.most_common() if p[1]>=2 ] # crash locations\n",
    "                    cartnew2 = []\n",
    "                    for C in cartnew:\n",
    "                        c,cold,d,t = C\n",
    "                        if c not in crashloc:\n",
    "                            cartnew2.append(C)\n",
    "                    cartnew = cartnew2\n",
    "            \n",
    "        cart = cartnew\n",
    "\n",
    "        if verbose:\n",
    "            print(\"new positions:\",cart)    \n",
    "            drawGrid(cart,grid)\n",
    "            \n",
    "        if len(cart)==1:\n",
    "            c,cold,d,t = cart[0]\n",
    "            print(\"Survivor cart at (X,Y) = ({},{})\".format(int(c.real),int(c.imag)))\n",
    "            return"
   ]
  },
  {
   "cell_type": "code",
   "execution_count": 486,
   "metadata": {},
   "outputs": [
    {
     "name": "stdout",
     "output_type": "stream",
     "text": [
      "Collision at (X,Y) = (7,3)\n"
     ]
    }
   ],
   "source": [
    "filename = \"data/day13test1.txt\"\n",
    "grid,cart = getGrid(getLines(filename))\n",
    "race(cart,grid,verbose=False)"
   ]
  },
  {
   "cell_type": "code",
   "execution_count": 487,
   "metadata": {},
   "outputs": [
    {
     "name": "stdout",
     "output_type": "stream",
     "text": [
      "Collision at (X,Y) = (38,57)\n"
     ]
    }
   ],
   "source": [
    "filename = \"data/input13.txt\"\n",
    "grid,cart = getGrid(getLines(filename))\n",
    "race(cart,grid,verbose=False)"
   ]
  },
  {
   "cell_type": "code",
   "execution_count": 488,
   "metadata": {},
   "outputs": [
    {
     "name": "stdout",
     "output_type": "stream",
     "text": [
      "[((1+0j), (1+0j), 1, 0), ((3+0j), (3+0j), -1, 0), ((3+2j), (3+2j), -1, 0), ((6+3j), (6+3j), 1j, 0), ((1+4j), (1+4j), 1, 0), ((3+4j), (3+4j), -1, 0), ((6+5j), (6+5j), (-0-1j), 0), ((3+6j), (3+6j), -1, 0), ((5+6j), (5+6j), 1, 0)]\n"
     ]
    },
    {
     "data": {
      "image/png": "[encoded data removed]",
      "text/plain": [
       "<Figure size 432x288 with 1 Axes>"
      ]
     },
     "metadata": {
      "needs_background": "light"
     },
     "output_type": "display_data"
    },
    {
     "name": "stdout",
     "output_type": "stream",
     "text": [
      "old positions: [((1+0j), (1+0j), 1, 0), ((3+0j), (3+0j), -1, 0), ((3+2j), (3+2j), -1, 0), ((6+3j), (6+3j), 1j, 0), ((1+4j), (1+4j), 1, 0), ((3+4j), (3+4j), -1, 0), ((6+5j), (6+5j), (-0-1j), 0), ((3+6j), (3+6j), -1, 0), ((5+6j), (5+6j), 1, 0)]\n",
      "new positions: [((2+2j), (3+2j), -1, 0), ((2+6j), (3+6j), -1, 0), ((6+6j), (5+6j), 1, 0)]\n",
      "[((2+2j), (3+2j), -1, 0), ((2+6j), (3+6j), -1, 0), ((6+6j), (5+6j), 1, 0)]\n"
     ]
    },
    {
     "data": {
      "image/png": "[encoded data removed]",
      "text/plain": [
       "<Figure size 432x288 with 1 Axes>"
      ]
     },
     "metadata": {
      "needs_background": "light"
     },
     "output_type": "display_data"
    },
    {
     "name": "stdout",
     "output_type": "stream",
     "text": [
      "old positions: [((2+2j), (3+2j), -1, 0), ((2+6j), (3+6j), -1, 0), ((6+6j), (5+6j), 1, 0)]\n",
      "new positions: [((2+3j), (2+2j), 1j, 0), ((2+5j), (2+6j), (-0-1j), 0), ((6+5j), (6+6j), (-0-1j), 0)]\n",
      "[((2+3j), (2+2j), 1j, 0), ((2+5j), (2+6j), (-0-1j), 0), ((6+5j), (6+6j), (-0-1j), 0)]\n"
     ]
    },
    {
     "data": {
      "image/png": "[encoded data removed]",
      "text/plain": [
       "<Figure size 432x288 with 1 Axes>"
      ]
     },
     "metadata": {
      "needs_background": "light"
     },
     "output_type": "display_data"
    },
    {
     "name": "stdout",
     "output_type": "stream",
     "text": [
      "old positions: [((2+3j), (2+2j), 1j, 0), ((2+5j), (2+6j), (-0-1j), 0), ((6+5j), (6+6j), (-0-1j), 0)]\n",
      "new positions: [((6+4j), (6+5j), (-0-1j), 0)]\n",
      "[((6+4j), (6+5j), (-0-1j), 0)]\n"
     ]
    },
    {
     "data": {
      "image/png": "[encoded data removed]",
      "text/plain": [
       "<Figure size 432x288 with 1 Axes>"
      ]
     },
     "metadata": {
      "needs_background": "light"
     },
     "output_type": "display_data"
    },
    {
     "name": "stdout",
     "output_type": "stream",
     "text": [
      "Survivor cart at (X,Y) = (6,4)\n"
     ]
    }
   ],
   "source": [
    "filename = \"data/day13test2.txt\"\n",
    "grid,cart = getGrid(getLines(filename))\n",
    "race(cart,grid,removeCrash=True,verbose=True)"
   ]
  },
  {
   "cell_type": "code",
   "execution_count": 485,
   "metadata": {},
   "outputs": [
    {
     "name": "stdout",
     "output_type": "stream",
     "text": [
      "Survivor cart at (X,Y) = (74,114)\n"
     ]
    }
   ],
   "source": [
    "filename = \"data/input13.txt\"\n",
    "\n",
    "grid,cart = getGrid(getLines(filename))\n",
    "\n",
    "race(cart,grid,removeCrash=True,verbose=False)"
   ]
  },
  {
   "cell_type": "code",
   "execution_count": null,
   "metadata": {},
   "outputs": [],
   "source": []
  }
 ],
 "metadata": {
  "kernelspec": {
   "display_name": "Python 3",
   "language": "python",
   "name": "python3"
  },
  "language_info": {
   "codemirror_mode": {
    "name": "ipython",
    "version": 3
   },
   "file_extension": ".py",
   "mimetype": "text/x-python",
   "name": "python",
   "nbconvert_exporter": "python",
   "pygments_lexer": "ipython3",
   "version": "3.9.2"
  }
 },
 "nbformat": 4,
 "nbformat_minor": 4
}
