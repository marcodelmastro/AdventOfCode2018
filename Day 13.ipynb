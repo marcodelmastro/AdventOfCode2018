{
 "cells": [
  {
   "cell_type": "markdown",
   "metadata": {},
   "source": [
    "# Day 13: Mine Cart Madness"
   ]
  },
  {
   "cell_type": "code",
   "execution_count": 63,
   "metadata": {},
   "outputs": [],
   "source": [
    "import numpy as np\n",
    "\n",
    "TRACK  = 1\n",
    "ANGLE1 = 2\n",
    "ANGLE2 = 3\n",
    "CROSS  = 4\n",
    "CART   = 7\n",
    "\n",
    "# directions as complex number\n",
    "dirs = {}\n",
    "dirs[\">\"] = +1\n",
    "dirs[\"<\"] = -1\n",
    "dirs[\"^\"] = -1j\n",
    "dirs[\"v\"] = +1j\n",
    "\n",
    "tracks = [ \"-\", \"|\" ]\n",
    "carts  = [ \">\", \"<\", \"^\", \"v\"]\n",
    "\n",
    "def getLines(filename):\n",
    "    with open(filename) as f:\n",
    "        lines = [ l.strip(\"\\n\") for l in f.readlines() ]\n",
    "        return lines\n",
    "\n",
    "def getGrid(lines):\n",
    "    grid = np.zeros((len(lines),len(lines[0])),dtype=int)\n",
    "    cart = []\n",
    "    i = 1j # imaginary unit\n",
    "    for y in range(len(lines)):\n",
    "        for x in range(len(lines[0])):\n",
    "            if lines[y][x] in tracks:\n",
    "                grid[y][x] = TRACK\n",
    "            elif lines[y][x] == \"\\\\\":\n",
    "                grid[y][x] = ANGLE1\n",
    "            elif lines[y][x] == \"/\":\n",
    "                grid[y][x] = ANGLE2\n",
    "            elif lines[y][x] == \"+\":\n",
    "                grid[y][x] = CROSS\n",
    "            elif lines[y][x] in carts:\n",
    "                grid[y][x] = TRACK\n",
    "                c = x+i*y\n",
    "                # saving carts as (X+iY), direction, sense, last turn index\n",
    "                cart.append((c,c,dirs[lines[y][x]],0))\n",
    "    return grid,cart\n",
    "\n",
    "import matplotlib.pyplot as plt\n",
    "\n",
    "def drawGrid(cart,grid):\n",
    "    print(cart)\n",
    "    prev = []\n",
    "    for c,cold,d,t in cart:\n",
    "        x = int(c.real)\n",
    "        y = int(c.imag)\n",
    "        if x!=-999 and y!=-999:\n",
    "            prev.append(grid[y][x])\n",
    "            grid[y][x] = CART\n",
    "        else:\n",
    "            prev.append(None)\n",
    "    plt.imshow(grid)\n",
    "    plt.show()\n",
    "    for C,p in zip(cart,prev):\n",
    "        c,cold,d,t = C\n",
    "        x = int(c.real)\n",
    "        y = int(c.imag)\n",
    "        if p!=None:\n",
    "            grid[y][x] = p"
   ]
  },
  {
   "cell_type": "code",
   "execution_count": 64,
   "metadata": {},
   "outputs": [
    {
     "name": "stdout",
     "output_type": "stream",
     "text": [
      "[((2+0j), (2+0j), 1, 0), ((9+3j), (9+3j), 1j, 0)]\n"
     ]
    },
    {
     "data": {
      "image/png": "[encoded data removed]",
      "text/plain": [
       "<Figure size 432x288 with 1 Axes>"
      ]
     },
     "metadata": {
      "needs_background": "light"
     },
     "output_type": "display_data"
    }
   ],
   "source": [
    "filename = \"data/day13test1.txt\"\n",
    "grid,cart = getGrid(getLines(filename))\n",
    "drawGrid(cart,grid)"
   ]
  },
  {
   "cell_type": "code",
   "execution_count": 120,
   "metadata": {},
   "outputs": [],
   "source": [
    "from collections import Counter\n",
    "from itertools import combinations\n",
    "\n",
    "def race(cart,grid,removeCrash=False,verbose=False):\n",
    "\n",
    "    if verbose:\n",
    "        drawGrid(cart,grid)\n",
    "\n",
    "    while True:\n",
    "\n",
    "        # sort carts according to Y position\n",
    "        #cart = sorted(cart,key=lambda x: int(x[0].imag))\n",
    "        \n",
    "        cart = sorted(cart,key=lambda x: (x[0].imag,x[0].real) )      \n",
    "        if verbose:\n",
    "            print(\"old positions:\",cart)\n",
    "\n",
    "        # move carts\n",
    "        cartnew = []\n",
    "        \n",
    "        for i in range(len(cart)):\n",
    "\n",
    "            C = cart[i] \n",
    "            c,cold,d,t = C   \n",
    "            x = int(c.real)\n",
    "            y = int(c.imag)\n",
    "            \n",
    "            if x==-999 and y==-999:\n",
    "                continue\n",
    "\n",
    "            if grid[y][x] == TRACK:\n",
    "                cnew = c+d\n",
    "                cold = c\n",
    "                #cartnew.append( (cnew,cold,d,t) )\n",
    "                cart[i] = (cnew,cold,d,t)\n",
    "\n",
    "            elif grid[y][x] == ANGLE1: # \\\n",
    "                if c-cold == +1: # horiz left to righ, turn down\n",
    "                    cnew = x + (y+1) * 1j\n",
    "                    d = dirs[\"v\"]\n",
    "                elif c-cold == -1: # horiz right to left, turn up\n",
    "                    cnew = x + (y-1) * 1j\n",
    "                    d = dirs[\"^\"]\n",
    "                elif c-cold == -1j: # vert down to up, turn toward left\n",
    "                    cnew = x-1 + y * 1j\n",
    "                    d = dirs[\"<\"]\n",
    "                elif c-cold == +1j: # vert up to down, turn toward right\n",
    "                    cnew = x+1 + y * 1j\n",
    "                    d = dirs[\">\"]\n",
    "                cold = c\n",
    "                #cartnew.append( (cnew,cold,d,t) )\n",
    "                cart[i] = (cnew,cold,d,t)\n",
    "            \n",
    "            elif grid[y][x] == ANGLE2: # /\n",
    "                if c-cold == +1: # horiz left to righ, turn up\n",
    "                    cnew = x + (y-1) * 1j\n",
    "                    d = dirs[\"^\"]\n",
    "                elif c-cold == -1: # horiz right to left, turn down\n",
    "                    cnew = x + (y+1) * 1j\n",
    "                    d = dirs[\"v\"]\n",
    "                elif c-cold == -1j: # vert down to up, turn toward right\n",
    "                    cnew = x+1 + y * 1j\n",
    "                    d = dirs[\">\"]\n",
    "                elif c-cold == +1j: # vert up to down, turn toward left\n",
    "                    cnew = x-1 + y * 1j\n",
    "                    d = dirs[\"<\"]\n",
    "                cold = c\n",
    "                #cartnew.append( (cnew,cold,d,t) )\n",
    "                cart[i] = (cnew,cold,d,t)\n",
    "            \n",
    "            elif grid[y][x] == CROSS:\n",
    "                if t==0: # turn left\n",
    "                    cnew = c-d*1j\n",
    "                    dnew = d*-1j\n",
    "                elif t==1: # go straight\n",
    "                    cnew = c+d\n",
    "                    dnew = d\n",
    "                elif t==2: # turn right\n",
    "                    cnew = c+d*1j\n",
    "                    dnew = d*1j\n",
    "                tnew = (t+1)%3\n",
    "                cold = c\n",
    "                #cartnew.append( (cnew,cold,dnew,tnew) )\n",
    "                cart[i] = (cnew,cold,dnew,tnew)\n",
    "                \n",
    "            # check for collisions after having moved each cart\n",
    "            for C2 in cart:\n",
    "                if C2!=C:\n",
    "                    c2,_,_,_ = C2\n",
    "                    if c==c2:\n",
    "                        cart[i] = ((-999-999j),(-999-999j),dirs[\"^\"],0)\n",
    "                        cart[cart.index(C2)] = ((-999-999j),(-999-999j),dirs[\"^\"],0)\n",
    "                        if not removeCrash: # stop iteration ar first crach to solve Part 1\n",
    "                            print(\"Collision at (X,Y) = ({},{})\".format(int(c.real),int(c.imag)))\n",
    "                            return\n",
    "\n",
    "            if removeCrash: # count remaining acrive carts to solve Part 2\n",
    "                active = 0\n",
    "                xs = 0\n",
    "                ys = 0\n",
    "                for j in range(len(cart)):\n",
    "                    Cj = cart[j] \n",
    "                    cj,_,_,_ = Cj   \n",
    "                    xj = int(cj.real)\n",
    "                    yj = int(cj.imag)   \n",
    "                    if xj!=-999 and yj!=-999:\n",
    "                        active +=1\n",
    "                        xs = xj\n",
    "                        ys = yj\n",
    "                if verbose:\n",
    "                    print(\"Active carts =\",active)\n",
    "                    drawGrid(cart,grid)\n",
    "                if active==1:\n",
    "                    print(\"Surviving cart at (X,Y) = ({},{})\".format(xs,ys))\n",
    "                    return\n",
    "\n",
    "        if verbose:\n",
    "            print(\"new positions:\",cart)    \n",
    "            drawGrid(cart,grid)\n",
    "            \n",
    "        if len(cart)==1:\n",
    "            c,cold,d,t = cart[0]\n",
    "            print(\"Survivor cart at (X,Y) = ({},{})\".format(int(c.real),int(c.imag)))\n",
    "            return"
   ]
  },
  {
   "cell_type": "code",
   "execution_count": 121,
   "metadata": {},
   "outputs": [
    {
     "name": "stdout",
     "output_type": "stream",
     "text": [
      "[((2+0j), (2+0j), 1, 0), ((9+3j), (9+3j), 1j, 0)]\n"
     ]
    },
    {
     "data": {
      "image/png": "[encoded data removed]",
      "text/plain": [
       "<Figure size 432x288 with 1 Axes>"
      ]
     },
     "metadata": {
      "needs_background": "light"
     },
     "output_type": "display_data"
    },
    {
     "name": "stdout",
     "output_type": "stream",
     "text": [
      "old positions: [((2+0j), (2+0j), 1, 0), ((9+3j), (9+3j), 1j, 0)]\n",
      "new positions: [((3+0j), (2+0j), 1, 0), ((9+4j), (9+3j), 1j, 0)]\n",
      "[((3+0j), (2+0j), 1, 0), ((9+4j), (9+3j), 1j, 0)]\n"
     ]
    },
    {
     "data": {
      "image/png": "[encoded data removed]",
      "text/plain": [
       "<Figure size 432x288 with 1 Axes>"
      ]
     },
     "metadata": {
      "needs_background": "light"
     },
     "output_type": "display_data"
    },
    {
     "name": "stdout",
     "output_type": "stream",
     "text": [
      "old positions: [((3+0j), (2+0j), 1, 0), ((9+4j), (9+3j), 1j, 0)]\n",
      "new positions: [((4+0j), (3+0j), 1, 0), ((10+4j), (9+4j), (1-0j), 1)]\n",
      "[((4+0j), (3+0j), 1, 0), ((10+4j), (9+4j), (1-0j), 1)]\n"
     ]
    },
    {
     "data": {
      "image/png": "[encoded data removed]",
      "text/plain": [
       "<Figure size 432x288 with 1 Axes>"
      ]
     },
     "metadata": {
      "needs_background": "light"
     },
     "output_type": "display_data"
    },
    {
     "name": "stdout",
     "output_type": "stream",
     "text": [
      "old positions: [((4+0j), (3+0j), 1, 0), ((10+4j), (9+4j), (1-0j), 1)]\n",
      "new positions: [((4+1j), (4+0j), 1j, 0), ((11+4j), (10+4j), (1-0j), 1)]\n",
      "[((4+1j), (4+0j), 1j, 0), ((11+4j), (10+4j), (1-0j), 1)]\n"
     ]
    },
    {
     "data": {
      "image/png": "[encoded data removed]",
      "text/plain": [
       "<Figure size 432x288 with 1 Axes>"
      ]
     },
     "metadata": {
      "needs_background": "light"
     },
     "output_type": "display_data"
    },
    {
     "name": "stdout",
     "output_type": "stream",
     "text": [
      "old positions: [((4+1j), (4+0j), 1j, 0), ((11+4j), (10+4j), (1-0j), 1)]\n",
      "new positions: [((4+2j), (4+1j), 1j, 0), ((12+4j), (11+4j), (1-0j), 1)]\n",
      "[((4+2j), (4+1j), 1j, 0), ((12+4j), (11+4j), (1-0j), 1)]\n"
     ]
    },
    {
     "data": {
      "image/png": "[encoded data removed]",
      "text/plain": [
       "<Figure size 432x288 with 1 Axes>"
      ]
     },
     "metadata": {
      "needs_background": "light"
     },
     "output_type": "display_data"
    },
    {
     "name": "stdout",
     "output_type": "stream",
     "text": [
      "old positions: [((4+2j), (4+1j), 1j, 0), ((12+4j), (11+4j), (1-0j), 1)]\n",
      "new positions: [((5+2j), (4+2j), (1-0j), 1), ((12+3j), (12+4j), (-0-1j), 1)]\n",
      "[((5+2j), (4+2j), (1-0j), 1), ((12+3j), (12+4j), (-0-1j), 1)]\n"
     ]
    },
    {
     "data": {
      "image/png": "[encoded data removed]",
      "text/plain": [
       "<Figure size 432x288 with 1 Axes>"
      ]
     },
     "metadata": {
      "needs_background": "light"
     },
     "output_type": "display_data"
    },
    {
     "name": "stdout",
     "output_type": "stream",
     "text": [
      "old positions: [((5+2j), (4+2j), (1-0j), 1), ((12+3j), (12+4j), (-0-1j), 1)]\n",
      "new positions: [((6+2j), (5+2j), (1-0j), 1), ((12+2j), (12+3j), (-0-1j), 1)]\n",
      "[((6+2j), (5+2j), (1-0j), 1), ((12+2j), (12+3j), (-0-1j), 1)]\n"
     ]
    },
    {
     "data": {
      "image/png": "[encoded data removed]",
      "text/plain": [
       "<Figure size 432x288 with 1 Axes>"
      ]
     },
     "metadata": {
      "needs_background": "light"
     },
     "output_type": "display_data"
    },
    {
     "name": "stdout",
     "output_type": "stream",
     "text": [
      "old positions: [((6+2j), (5+2j), (1-0j), 1), ((12+2j), (12+3j), (-0-1j), 1)]\n",
      "new positions: [((7+2j), (6+2j), (1-0j), 1), ((12+1j), (12+2j), (-0-1j), 1)]\n",
      "[((7+2j), (6+2j), (1-0j), 1), ((12+1j), (12+2j), (-0-1j), 1)]\n"
     ]
    },
    {
     "data": {
      "image/png": "[encoded data removed]",
      "text/plain": [
       "<Figure size 432x288 with 1 Axes>"
      ]
     },
     "metadata": {
      "needs_background": "light"
     },
     "output_type": "display_data"
    },
    {
     "name": "stdout",
     "output_type": "stream",
     "text": [
      "old positions: [((12+1j), (12+2j), (-0-1j), 1), ((7+2j), (6+2j), (1-0j), 1)]\n",
      "new positions: [((11+1j), (12+1j), -1, 1), ((8+2j), (7+2j), (1-0j), 2)]\n",
      "[((11+1j), (12+1j), -1, 1), ((8+2j), (7+2j), (1-0j), 2)]\n"
     ]
    },
    {
     "data": {
      "image/png": "[encoded data removed]",
      "text/plain": [
       "<Figure size 432x288 with 1 Axes>"
      ]
     },
     "metadata": {
      "needs_background": "light"
     },
     "output_type": "display_data"
    },
    {
     "name": "stdout",
     "output_type": "stream",
     "text": [
      "old positions: [((11+1j), (12+1j), -1, 1), ((8+2j), (7+2j), (1-0j), 2)]\n",
      "new positions: [((10+1j), (11+1j), -1, 1), ((9+2j), (8+2j), (1-0j), 2)]\n",
      "[((10+1j), (11+1j), -1, 1), ((9+2j), (8+2j), (1-0j), 2)]\n"
     ]
    },
    {
     "data": {
      "image/png": "[encoded data removed]",
      "text/plain": [
       "<Figure size 432x288 with 1 Axes>"
      ]
     },
     "metadata": {
      "needs_background": "light"
     },
     "output_type": "display_data"
    },
    {
     "name": "stdout",
     "output_type": "stream",
     "text": [
      "old positions: [((10+1j), (11+1j), -1, 1), ((9+2j), (8+2j), (1-0j), 2)]\n",
      "new positions: [((9+1j), (10+1j), -1, 1), ((9+3j), (9+2j), 1j, 2)]\n",
      "[((9+1j), (10+1j), -1, 1), ((9+3j), (9+2j), 1j, 2)]\n"
     ]
    },
    {
     "data": {
      "image/png": "[encoded data removed]",
      "text/plain": [
       "<Figure size 432x288 with 1 Axes>"
      ]
     },
     "metadata": {
      "needs_background": "light"
     },
     "output_type": "display_data"
    },
    {
     "name": "stdout",
     "output_type": "stream",
     "text": [
      "old positions: [((9+1j), (10+1j), -1, 1), ((9+3j), (9+2j), 1j, 2)]\n",
      "new positions: [((8+1j), (9+1j), -1, 1), ((9+4j), (9+3j), 1j, 2)]\n",
      "[((8+1j), (9+1j), -1, 1), ((9+4j), (9+3j), 1j, 2)]\n"
     ]
    },
    {
     "data": {
      "image/png": "[encoded data removed]",
      "text/plain": [
       "<Figure size 432x288 with 1 Axes>"
      ]
     },
     "metadata": {
      "needs_background": "light"
     },
     "output_type": "display_data"
    },
    {
     "name": "stdout",
     "output_type": "stream",
     "text": [
      "old positions: [((8+1j), (9+1j), -1, 1), ((9+4j), (9+3j), 1j, 2)]\n",
      "new positions: [((7+1j), (8+1j), -1, 1), ((8+4j), (9+4j), (-1+0j), 0)]\n",
      "[((7+1j), (8+1j), -1, 1), ((8+4j), (9+4j), (-1+0j), 0)]\n"
     ]
    },
    {
     "data": {
      "image/png": "[encoded data removed]",
      "text/plain": [
       "<Figure size 432x288 with 1 Axes>"
      ]
     },
     "metadata": {
      "needs_background": "light"
     },
     "output_type": "display_data"
    },
    {
     "name": "stdout",
     "output_type": "stream",
     "text": [
      "old positions: [((7+1j), (8+1j), -1, 1), ((8+4j), (9+4j), (-1+0j), 0)]\n",
      "new positions: [((7+2j), (7+1j), 1j, 1), ((7+4j), (8+4j), (-1+0j), 0)]\n",
      "[((7+2j), (7+1j), 1j, 1), ((7+4j), (8+4j), (-1+0j), 0)]\n"
     ]
    },
    {
     "data": {
      "image/png": "[encoded data removed]",
      "text/plain": [
       "<Figure size 432x288 with 1 Axes>"
      ]
     },
     "metadata": {
      "needs_background": "light"
     },
     "output_type": "display_data"
    },
    {
     "name": "stdout",
     "output_type": "stream",
     "text": [
      "old positions: [((7+2j), (7+1j), 1j, 1), ((7+4j), (8+4j), (-1+0j), 0)]\n",
      "new positions: [((7+3j), (7+2j), 1j, 2), ((7+3j), (7+4j), (-0-1j), 0)]\n",
      "[((7+3j), (7+2j), 1j, 2), ((7+3j), (7+4j), (-0-1j), 0)]\n"
     ]
    },
    {
     "data": {
      "image/png": "[encoded data removed]",
      "text/plain": [
       "<Figure size 432x288 with 1 Axes>"
      ]
     },
     "metadata": {
      "needs_background": "light"
     },
     "output_type": "display_data"
    },
    {
     "name": "stdout",
     "output_type": "stream",
     "text": [
      "old positions: [((7+3j), (7+2j), 1j, 2), ((7+3j), (7+4j), (-0-1j), 0)]\n",
      "Collision at (X,Y) = (7,3)\n"
     ]
    }
   ],
   "source": [
    "filename = \"data/day13test1.txt\"\n",
    "grid,cart = getGrid(getLines(filename))\n",
    "race(cart,grid,verbose=True)"
   ]
  },
  {
   "cell_type": "code",
   "execution_count": 122,
   "metadata": {},
   "outputs": [
    {
     "name": "stdout",
     "output_type": "stream",
     "text": [
      "Collision at (X,Y) = (38,57)\n"
     ]
    }
   ],
   "source": [
    "filename = \"data/input13.txt\"\n",
    "grid,cart = getGrid(getLines(filename))\n",
    "race(cart,grid,verbose=False)"
   ]
  },
  {
   "cell_type": "code",
   "execution_count": 123,
   "metadata": {},
   "outputs": [
    {
     "name": "stdout",
     "output_type": "stream",
     "text": [
      "Surviving cart at (X,Y) = (6,4)\n"
     ]
    }
   ],
   "source": [
    "filename = \"data/day13test2.txt\"\n",
    "grid,cart = getGrid(getLines(filename))\n",
    "race(cart,grid,removeCrash=True,verbose=False)"
   ]
  },
  {
   "cell_type": "code",
   "execution_count": 124,
   "metadata": {},
   "outputs": [
    {
     "name": "stdout",
     "output_type": "stream",
     "text": [
      "Surviving cart at (X,Y) = (4,92)\n"
     ]
    }
   ],
   "source": [
    "filename = \"data/input13.txt\"\n",
    "\n",
    "grid,cart = getGrid(getLines(filename))\n",
    "\n",
    "race(cart,grid,removeCrash=True,verbose=False)"
   ]
  },
  {
   "cell_type": "code",
   "execution_count": null,
   "metadata": {},
   "outputs": [],
   "source": []
  }
 ],
 "metadata": {
  "kernelspec": {
   "display_name": "Python 3",
   "language": "python",
   "name": "python3"
  },
  "language_info": {
   "codemirror_mode": {
    "name": "ipython",
    "version": 3
   },
   "file_extension": ".py",
   "mimetype": "text/x-python",
   "name": "python",
   "nbconvert_exporter": "python",
   "pygments_lexer": "ipython3",
   "version": "3.9.2"
  }
 },
 "nbformat": 4,
 "nbformat_minor": 4
}
