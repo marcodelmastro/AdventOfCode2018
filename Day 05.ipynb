{
 "cells": [
  {
   "cell_type": "markdown",
   "metadata": {},
   "source": [
    "## Day 5"
   ]
  },
  {
   "cell_type": "code",
   "execution_count": 82,
   "metadata": {},
   "outputs": [
    {
     "name": "stdout",
     "output_type": "stream",
     "text": [
      "Test 1: 10\n",
      "Test 2: 4\n"
     ]
    }
   ],
   "source": [
    "def react(s):\n",
    "    while True:\n",
    "        i = 0\n",
    "        while i<len(s)-1:\n",
    "            if s[i:i+2][0]!=s[i:i+2][1] and s[i:i+2].lower()[0] == s[i:i+2].lower()[1]:\n",
    "                s = s[:i]+s[i+2:]\n",
    "                i=max(0,i-1)\n",
    "            else:\n",
    "                i+=1\n",
    "        if i>=len(s)-1:\n",
    "            return s\n",
    "\n",
    "import string\n",
    "\n",
    "alphabet= string.ascii_lowercase\n",
    "\n",
    "def findMin(s):\n",
    "    l = []\n",
    "    for p in alphabet:\n",
    "        if p in s or p.upper() in s:\n",
    "            t = s.replace(p,\"\").replace(p.upper(),\"\")\n",
    "            l.append(len(react(t)))\n",
    "    return min(l)      \n",
    "\n",
    "print(\"Test 1:\",len(react(\"dabAcCaCBAcCcaDA\")))\n",
    "print(\"Test 2:\",findMin(\"dabAcCaCBAcCcaDA\"))"
   ]
  },
  {
   "cell_type": "code",
   "execution_count": 84,
   "metadata": {},
   "outputs": [
    {
     "name": "stdout",
     "output_type": "stream",
     "text": [
      "Part 1: 11194\n",
      "Part 2: 4178\n"
     ]
    }
   ],
   "source": [
    "with open(\"data/input05.txt\") as f:\n",
    "    s = f.readlines()[0].strip(\"\\n\")\n",
    "    \n",
    "print(\"Part 1:\",len(react(s)))\n",
    "print(\"Part 2:\",findMin(s))"
   ]
  },
  {
   "cell_type": "code",
   "execution_count": null,
   "metadata": {},
   "outputs": [],
   "source": []
  }
 ],
 "metadata": {
  "kernelspec": {
   "display_name": "Python 3",
   "language": "python",
   "name": "python3"
  },
  "language_info": {
   "codemirror_mode": {
    "name": "ipython",
    "version": 3
   },
   "file_extension": ".py",
   "mimetype": "text/x-python",
   "name": "python",
   "nbconvert_exporter": "python",
   "pygments_lexer": "ipython3",
   "version": "3.9.0"
  }
 },
 "nbformat": 4,
 "nbformat_minor": 4
}
