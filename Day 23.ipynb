{
 "cells": [
  {
   "cell_type": "markdown",
   "metadata": {},
   "source": [
    "# Day 23 "
   ]
  },
  {
   "cell_type": "code",
   "execution_count": 1,
   "metadata": {},
   "outputs": [],
   "source": [
    "import numpy as np\n",
    "\n",
    "def getCircles(filename):\n",
    "    circle=[]\n",
    "    with open(filename) as f:\n",
    "        for l in f.readlines():\n",
    "            c = [ int(d) for d in l.strip(\"\\n\").replace(\"pos=<\",\"\").replace(\">, r=\",\",\").split(\",\")]\n",
    "            circle.append(c)\n",
    "    circle = sorted(circle, key=lambda x: x[3], reverse=True) # sort by radius\n",
    "    return circle"
   ]
  },
  {
   "cell_type": "markdown",
   "metadata": {},
   "source": [
    "## Part 1"
   ]
  },
  {
   "cell_type": "code",
   "execution_count": 2,
   "metadata": {},
   "outputs": [
    {
     "name": "stdout",
     "output_type": "stream",
     "text": [
      "7\n"
     ]
    }
   ],
   "source": [
    "circle = getCircles(\"data/day23test.txt\")\n",
    "inrange = [ sum(abs(np.array(c[:3])-np.array(circle[0][:3]))) <= circle[0][3] for c in circle ]\n",
    "print(sum(inrange))"
   ]
  },
  {
   "cell_type": "code",
   "execution_count": 3,
   "metadata": {},
   "outputs": [
    {
     "name": "stdout",
     "output_type": "stream",
     "text": [
      "580\n"
     ]
    }
   ],
   "source": [
    "circle = getCircles(\"data/input23.txt\")\n",
    "inrange = [ sum(abs(np.array(c[:3])-np.array(circle[0][:3]))) <= circle[0][3] for c in circle ]\n",
    "print(sum(inrange))"
   ]
  },
  {
   "cell_type": "markdown",
   "metadata": {},
   "source": [
    "## Part 2\n",
    "\n",
    "Brute forcing works on example, but it will take forever to scan all space spanned by full input... :-("
   ]
  },
  {
   "cell_type": "code",
   "execution_count": 5,
   "metadata": {},
   "outputs": [],
   "source": [
    "def inrange(x,y,z,circle):\n",
    "    inrange = 0\n",
    "    for c in circle:\n",
    "        d = sum(abs(np.array(c[:3])-np.array([x,y,z])))\n",
    "        if d<=c[3]:\n",
    "            inrange += 1\n",
    "    return inrange"
   ]
  },
  {
   "cell_type": "code",
   "execution_count": 53,
   "metadata": {},
   "outputs": [],
   "source": [
    "from collections import defaultdict\n",
    "\n",
    "def findClosestBruteForce(_circle):\n",
    "\n",
    "    circle = np.array(_circle)\n",
    "    \n",
    "    xmin = min(circle[:,0:1])[0]-10\n",
    "    xmax = max(circle[:,0:1])[0]+10\n",
    "    ymin = min(circle[:,1:2])[0]-10\n",
    "    ymax = max(circle[:,1:2])[0]+10\n",
    "    zmin = min(circle[:,2:3])[0]-10\n",
    "    zmax = max(circle[:,2:3])[0]+10\n",
    "\n",
    "    best = defaultdict(lambda: [])\n",
    "    \n",
    "    for x in range(xmin,xmax+1):\n",
    "        for y in range(ymin,ymax+1):\n",
    "            for z in range(zmin,zmax+1):\n",
    "                best[inrange(x,y,z,circle)].append((x,y,z))\n",
    "                \n",
    "    sol = sorted( best[max(list(best.keys()))], key=lambda x: abs(x[0])+abs(x[1])+abs(x[2]) )\n",
    "\n",
    "    return sol[0], sum(abs(np.array(sol[0])))"
   ]
  },
  {
   "cell_type": "code",
   "execution_count": 54,
   "metadata": {},
   "outputs": [
    {
     "data": {
      "text/plain": [
       "((12, 12, 12), 36)"
      ]
     },
     "execution_count": 54,
     "metadata": {},
     "output_type": "execute_result"
    }
   ],
   "source": [
    "circle = getCircles(\"data/day23test2.txt\")\n",
    "findClosestBruteForce(circle)"
   ]
  }
 ],
 "metadata": {
  "kernelspec": {
   "display_name": "Python 3",
   "language": "python",
   "name": "python3"
  },
  "language_info": {
   "codemirror_mode": {
    "name": "ipython",
    "version": 3
   },
   "file_extension": ".py",
   "mimetype": "text/x-python",
   "name": "python",
   "nbconvert_exporter": "python",
   "pygments_lexer": "ipython3",
   "version": "3.9.2"
  }
 },
 "nbformat": 4,
 "nbformat_minor": 4
}
