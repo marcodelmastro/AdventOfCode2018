{
 "cells": [
  {
   "cell_type": "markdown",
   "metadata": {},
   "source": [
    "## Day 6"
   ]
  },
  {
   "cell_type": "code",
   "execution_count": 167,
   "metadata": {},
   "outputs": [],
   "source": [
    "from collections import defaultdict\n",
    "\n",
    "import numpy as np\n",
    "\n",
    "def findAreas(coord,o=0):\n",
    "\n",
    "    xmin = 10**32\n",
    "    xmax = 0\n",
    "    ymin = 10**32\n",
    "    ymax = 0\n",
    "\n",
    "    for x,y in coord:\n",
    "        if x>xmax: xmax=x\n",
    "        if y>ymax: ymax=y\n",
    "        if x<xmin: xmin=x\n",
    "        if y<ymin: ymin=y\n",
    "\n",
    "    area = defaultdict(lambda: 0)\n",
    "    \n",
    "    for x in range(xmin-o,xmax+o):\n",
    "        for y in range(ymin-o,ymax+o):\n",
    "            if (x,y) in coord:\n",
    "                continue\n",
    "            md = []\n",
    "            for xc,yc in coord:\n",
    "                md.append(abs(xc-x)+abs(yc-y))\n",
    "            if md.count(min(md))>1:\n",
    "                continue\n",
    "            else:\n",
    "                area[coord[md.index(min(md))]] += 1\n",
    "                xc,yc = coord[md.index(min(md))]\n",
    "                \n",
    "    return area,plane\n",
    "\n",
    "def largestAreas(coord):\n",
    "    area0,_ = findAreas(coord,o=0)\n",
    "    areaO,_ = findAreas(coord,o=10)\n",
    "    areas = []\n",
    "    for c in area0.keys():\n",
    "        if area0[c]==areaO[c]:\n",
    "            areas.append(area0[c])\n",
    "    return max(areas)+1 # add central point!!\n",
    "\n",
    "def findSafeAreas(coord,d=32,o=0):\n",
    "\n",
    "    xmin = 10**32\n",
    "    xmax = 0\n",
    "    ymin = 10**32\n",
    "    ymax = 0\n",
    "\n",
    "    for x,y in coord:\n",
    "        if x>xmax: xmax=x\n",
    "        if y>ymax: ymax=y\n",
    "        if x<xmin: xmin=x\n",
    "        if y<ymin: ymin=y\n",
    "    \n",
    "    area = 0\n",
    "    \n",
    "    for x in range(xmin-o,xmax+o):\n",
    "        for y in range(ymin-o,ymax+o):\n",
    "            #if (x,y) in coord:\n",
    "            #    continue\n",
    "            dtot = 0\n",
    "            for xc,yc in coord:\n",
    "                dtot += abs(xc-x)+abs(yc-y)\n",
    "            if dtot < d:\n",
    "                area += 1\n",
    "                \n",
    "    return area"
   ]
  },
  {
   "cell_type": "code",
   "execution_count": 174,
   "metadata": {},
   "outputs": [
    {
     "name": "stdout",
     "output_type": "stream",
     "text": [
      "Test 1: 17\n",
      "Part 1: 3449\n",
      "Test 2: 16\n",
      "Part 2: 44868\n"
     ]
    }
   ],
   "source": [
    "coord_test = [\n",
    "    (1, 1),\n",
    "    (1, 6),\n",
    "    (8, 3),\n",
    "    (3, 4),\n",
    "    (5, 5),\n",
    "    (8, 9)\n",
    "]\n",
    "\n",
    "with open(\"data/input06.txt\") as f:\n",
    "    coord = []\n",
    "    for l in f.readlines():\n",
    "        x,y = l.strip(\"\\n\").split(\", \")\n",
    "        coord.append((int(x),int(y)))\n",
    "\n",
    "print(\"Test 1:\",largestAreas(coord_test))\n",
    "print(\"Part 1:\",largestAreas(coord))\n",
    "print(\"Test 2:\",findSafeAreas(coord_test,d=32))\n",
    "print(\"Part 2:\",findSafeAreas(coord,d=10000))"
   ]
  },
  {
   "cell_type": "code",
   "execution_count": null,
   "metadata": {},
   "outputs": [],
   "source": []
  }
 ],
 "metadata": {
  "kernelspec": {
   "display_name": "Python 3",
   "language": "python",
   "name": "python3"
  },
  "language_info": {
   "codemirror_mode": {
    "name": "ipython",
    "version": 3
   },
   "file_extension": ".py",
   "mimetype": "text/x-python",
   "name": "python",
   "nbconvert_exporter": "python",
   "pygments_lexer": "ipython3",
   "version": "3.9.0"
  }
 },
 "nbformat": 4,
 "nbformat_minor": 4
}
