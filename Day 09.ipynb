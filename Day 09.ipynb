{
 "cells": [
  {
   "cell_type": "markdown",
   "metadata": {},
   "source": [
    "# Day 9"
   ]
  },
  {
   "cell_type": "code",
   "execution_count": 80,
   "metadata": {},
   "outputs": [],
   "source": [
    "from collections import defaultdict\n",
    "\n",
    "def marbleCircle(nplayer = 9,lastmar = 25, verbose=False):\n",
    "\n",
    "    # circle represented by dictionary of neighbouring marbles\n",
    "    circle = {}\n",
    "    circle[0] = [0,0] # L(0) and R(1) neighbours\n",
    "\n",
    "    # current marbles and played marble values\n",
    "    curr = 0\n",
    "    m = 0\n",
    "    \n",
    "    # dictionary of played marbles (faster access then list)\n",
    "    marbles = defaultdict(bool)\n",
    "    marbles[m] = True\n",
    "    \n",
    "    # player scores\n",
    "    scores = nplayer*[0]\n",
    "    iplayer = 1\n",
    "\n",
    "    while m<lastmar:\n",
    "        m +=1\n",
    "        if not marbles[m]:\n",
    "            if m%23==0:\n",
    "                # special case, marble is multiple of 23\n",
    "                scores[iplayer-1] += m\n",
    "                k = curr\n",
    "                for _ in range(7):\n",
    "                    k = circle[k][0]\n",
    "                kl = circle[k][0]\n",
    "                kr = circle[k][1]\n",
    "                circle[kl][1] = kr\n",
    "                circle[kr][0] = kl\n",
    "                del circle[k]\n",
    "                scores[iplayer-1] += k\n",
    "                curr = kr\n",
    "            else:\n",
    "                # add marble to circle\n",
    "                m1 = circle[curr][1]\n",
    "                m2 = circle[m1][1]        \n",
    "                if m1==m2:\n",
    "                    d = circle[curr]\n",
    "                    circle[m] = list(d)\n",
    "                    circle[curr] = [m,m]\n",
    "                    curr = m\n",
    "                else:\n",
    "                    circle[m] = [m1,m2]\n",
    "                    circle[m1][1] = m\n",
    "                    circle[m2][0] = m\n",
    "                    curr = m\n",
    "                # add played marble to list of played ones\n",
    "                marbles[m] = True\n",
    "\n",
    "        if verbose:\n",
    "            # printout\n",
    "            i = 0\n",
    "            print(\"[{}] {}\".format(iplayer,i),end=' ')\n",
    "            for _ in range(m):\n",
    "                print(circle[i][1],end=\" \")\n",
    "                i = circle[i][1]\n",
    "            print(\"| ({})\".format(curr))\n",
    "\n",
    "        # increase player counter\n",
    "        iplayer += 1\n",
    "        if iplayer>nplayer:\n",
    "            iplayer=1\n",
    "    \n",
    "    return max(scores)"
   ]
  },
  {
   "cell_type": "code",
   "execution_count": 81,
   "metadata": {},
   "outputs": [
    {
     "name": "stdout",
     "output_type": "stream",
     "text": [
      "[1] 0 1 | (1)\n",
      "[2] 0 2 1 | (2)\n",
      "[3] 0 2 1 3 | (3)\n",
      "[4] 0 4 2 1 3 | (4)\n",
      "[5] 0 4 2 5 1 3 | (5)\n",
      "[6] 0 4 2 5 1 6 3 | (6)\n",
      "[7] 0 4 2 5 1 6 3 7 | (7)\n",
      "[8] 0 8 4 2 5 1 6 3 7 | (8)\n",
      "[9] 0 8 4 9 2 5 1 6 3 7 | (9)\n",
      "[1] 0 8 4 9 2 10 5 1 6 3 7 | (10)\n",
      "[2] 0 8 4 9 2 10 5 11 1 6 3 7 | (11)\n",
      "[3] 0 8 4 9 2 10 5 11 1 12 6 3 7 | (12)\n",
      "[4] 0 8 4 9 2 10 5 11 1 12 6 13 3 7 | (13)\n",
      "[5] 0 8 4 9 2 10 5 11 1 12 6 13 3 14 7 | (14)\n",
      "[6] 0 8 4 9 2 10 5 11 1 12 6 13 3 14 7 15 | (15)\n",
      "[7] 0 16 8 4 9 2 10 5 11 1 12 6 13 3 14 7 15 | (16)\n",
      "[8] 0 16 8 17 4 9 2 10 5 11 1 12 6 13 3 14 7 15 | (17)\n",
      "[9] 0 16 8 17 4 18 9 2 10 5 11 1 12 6 13 3 14 7 15 | (18)\n",
      "[1] 0 16 8 17 4 18 9 19 2 10 5 11 1 12 6 13 3 14 7 15 | (19)\n",
      "[2] 0 16 8 17 4 18 9 19 2 20 10 5 11 1 12 6 13 3 14 7 15 | (20)\n",
      "[3] 0 16 8 17 4 18 9 19 2 20 10 21 5 11 1 12 6 13 3 14 7 15 | (21)\n",
      "[4] 0 16 8 17 4 18 9 19 2 20 10 21 5 22 11 1 12 6 13 3 14 7 15 | (22)\n",
      "[5] 0 16 8 17 4 18 19 2 20 10 21 5 22 11 1 12 6 13 3 14 7 15 0 16 | (19)\n",
      "[6] 0 16 8 17 4 18 19 2 24 20 10 21 5 22 11 1 12 6 13 3 14 7 15 0 16 | (24)\n",
      "[7] 0 16 8 17 4 18 19 2 24 20 25 10 21 5 22 11 1 12 6 13 3 14 7 15 0 16 | (25)\n"
     ]
    },
    {
     "data": {
      "text/plain": [
       "32"
      ]
     },
     "execution_count": 81,
     "metadata": {},
     "output_type": "execute_result"
    }
   ],
   "source": [
    "marbleCircle(nplayer = 9,lastmar = 25, verbose=True)"
   ]
  },
  {
   "cell_type": "code",
   "execution_count": 82,
   "metadata": {},
   "outputs": [
    {
     "name": "stdout",
     "output_type": "stream",
     "text": [
      "8317\n",
      "146373\n",
      "2764\n",
      "54718\n",
      "37305\n"
     ]
    }
   ],
   "source": [
    "print(marbleCircle(10,1618)) # high score is 8317\n",
    "print(marbleCircle(13,7999)) # high score is 146373\n",
    "print(marbleCircle(17,1104)) # high score is 2764\n",
    "print(marbleCircle(21,6111)) # high score is 54718\n",
    "print(marbleCircle(30,5807)) # high score is 37305"
   ]
  },
  {
   "cell_type": "code",
   "execution_count": 83,
   "metadata": {},
   "outputs": [
    {
     "name": "stdout",
     "output_type": "stream",
     "text": [
      "390592\n"
     ]
    }
   ],
   "source": [
    "# 446 players; last marble is worth 71522 points\n",
    "print(marbleCircle(446,71522)) "
   ]
  },
  {
   "cell_type": "code",
   "execution_count": 84,
   "metadata": {},
   "outputs": [
    {
     "name": "stdout",
     "output_type": "stream",
     "text": [
      "3277920293\n"
     ]
    }
   ],
   "source": [
    "# What would the new winning Elf's score be if the number of the last marble were 100 times larger?\n",
    "print(marbleCircle(446,7152200))"
   ]
  },
  {
   "cell_type": "code",
   "execution_count": null,
   "metadata": {},
   "outputs": [],
   "source": []
  }
 ],
 "metadata": {
  "kernelspec": {
   "display_name": "Python 3",
   "language": "python",
   "name": "python3"
  },
  "language_info": {
   "codemirror_mode": {
    "name": "ipython",
    "version": 3
   },
   "file_extension": ".py",
   "mimetype": "text/x-python",
   "name": "python",
   "nbconvert_exporter": "python",
   "pygments_lexer": "ipython3",
   "version": "3.9.0"
  }
 },
 "nbformat": 4,
 "nbformat_minor": 4
}
